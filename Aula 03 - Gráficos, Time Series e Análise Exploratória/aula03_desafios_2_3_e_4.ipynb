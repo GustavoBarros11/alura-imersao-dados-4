{
 "cells": [
  {
   "cell_type": "markdown",
   "metadata": {},
   "source": [
    "# Imersão de Dados 04 - Pesquisa de Imóveis em São Paulo"
   ]
  },
  {
   "cell_type": "markdown",
   "metadata": {},
   "source": [
    "# Aula 03"
   ]
  },
  {
   "cell_type": "markdown",
   "metadata": {},
   "source": [
    "# Tabela de Conteúdos\n",
    "1. Definição do Problema\n",
    "2. Definição da Baseline\n",
    "3. Planejamento da Solução\n",
    "4. Coleta e Limpeza dos Dados\n",
    "5. Análise Exploratória dos Dados"
   ]
  },
  {
   "cell_type": "markdown",
   "metadata": {},
   "source": [
    "# 1) Definição do Problema"
   ]
  },
  {
   "cell_type": "markdown",
   "metadata": {},
   "source": [
    "### 1.1) Problema de Negócio\n",
    "Nós possuimos duas bases de dados não tratados, uma primária que se trata de dados referentes a imóveis da cidade de São Paulo, e um segundo dataset que consta de dados básicos retirados do IBGE relacionados ao último CENSU realizado em 2010. Nosso objetibo com estes dados é realizar uma análise completa e extrair insights interessantes relacionando o primeiro dataset sobre imóveis, com os dados provindos do segundo dataset, que dentre outras coisas, nos trás informações sobre imóveis em diversos estados e o valor do rendimento mensal da família responsável pelo respectivo imóvel."
   ]
  },
  {
   "cell_type": "markdown",
   "metadata": {},
   "source": [
    ">#### DESAFIOS:\n",
    ">- Tratar os outliers e comparar com os resultados.\n",
    ">- Agrupar por mais de uma categoria e realizar as análises.\n",
    ">- Organize o colab para deixar com cara de projeto."
   ]
  },
  {
   "cell_type": "markdown",
   "metadata": {},
   "source": [
    "# 3) Planejamento da Solução\n",
    "### 3.1) Produto Final\n",
    "Notebook contendo uma análise exploratória de dados que vincule os dados do dataset de imóveis em São Paulo com os dados do dataset IBGE, e realize sobre ele um tratamento contra outliers, valores duplicados e faça a tranfosmação apropriada nas colunas. Além disso, ter gerado análises com os dados agrupados por mais de uma categoria e ter todo o notebook no formato de projeto.\n",
    "- Arquivos com estrutura de projeto\n",
    "- Análises em um notebook, arquivo com extensão .ipynb\n",
    "### 3.2) Tech Stack\n",
    "- Python, Pandas e Numpy\n",
    "- Matplotlib e Seaborn\n",
    "- Jupyter Notebook e VSCode\n",
    "### 3.3) Processo:\n",
    "- Tratar os outliers e comparar com os resultados.\n",
    "    1. \n",
    "- Agrupar por mais de uma categoria e realizar as análises.\n",
    "- Organize o colab para deixar com cara de projeto."
   ]
  },
  {
   "cell_type": "markdown",
   "metadata": {},
   "source": [
    "# Coleta e Limpeza dos Dados"
   ]
  },
  {
   "cell_type": "code",
   "execution_count": 1,
   "metadata": {},
   "outputs": [],
   "source": [
    "import pandas as pd\n",
    "import numpy as np\n",
    "import matplotlib.pyplot as plt\n",
    "import seaborn as sns\n",
    "import geopandas as gpd\n",
    "from scipy import stats\n",
    "\n",
    "sns.set()\n",
    "pd.set_option('display.float_format', lambda x: '%.2f' % x)\n",
    "pd.set_option('display.max_columns', 500)"
   ]
  },
  {
   "cell_type": "code",
   "execution_count": 2,
   "metadata": {},
   "outputs": [
    {
     "data": {
      "text/html": [
       "<div>\n",
       "<style scoped>\n",
       "    .dataframe tbody tr th:only-of-type {\n",
       "        vertical-align: middle;\n",
       "    }\n",
       "\n",
       "    .dataframe tbody tr th {\n",
       "        vertical-align: top;\n",
       "    }\n",
       "\n",
       "    .dataframe thead th {\n",
       "        text-align: right;\n",
       "    }\n",
       "</style>\n",
       "<table border=\"1\" class=\"dataframe\">\n",
       "  <thead>\n",
       "    <tr style=\"text-align: right;\">\n",
       "      <th></th>\n",
       "      <th>Rua</th>\n",
       "      <th>Bairro</th>\n",
       "      <th>Cidade</th>\n",
       "      <th>Metragem</th>\n",
       "      <th>Quartos</th>\n",
       "      <th>Banheiros</th>\n",
       "      <th>Vagas</th>\n",
       "      <th>Valor</th>\n",
       "      <th>Valor_anuncio</th>\n",
       "      <th>Valor_mm</th>\n",
       "      <th>Valor_m2</th>\n",
       "      <th>rua</th>\n",
       "      <th>cep</th>\n",
       "      <th>latitude</th>\n",
       "      <th>longitude</th>\n",
       "      <th>Point</th>\n",
       "      <th>setor_censo</th>\n",
       "      <th>Cod_setor</th>\n",
       "      <th>Cod_Grandes Regiï¿½es</th>\n",
       "      <th>Nome_Grande_Regiao</th>\n",
       "      <th>Cod_UF</th>\n",
       "      <th>Nome_da_UF</th>\n",
       "      <th>Cod_meso</th>\n",
       "      <th>Nome_da_meso</th>\n",
       "      <th>Cod_micro</th>\n",
       "      <th>Nome_da_micro</th>\n",
       "      <th>Cod_RM</th>\n",
       "      <th>Nome_da_RM</th>\n",
       "      <th>Cod_municipio</th>\n",
       "      <th>Nome_do_municipio</th>\n",
       "      <th>Cod_distrito</th>\n",
       "      <th>Nome_do_distrito</th>\n",
       "      <th>Cod_subdistrito</th>\n",
       "      <th>Nome_do_subdistrito</th>\n",
       "      <th>Cod_bairro</th>\n",
       "      <th>Nome_do_bairro</th>\n",
       "      <th>Situacao_setor</th>\n",
       "      <th>Tipo_setor</th>\n",
       "      <th>V001</th>\n",
       "      <th>V002</th>\n",
       "      <th>V003</th>\n",
       "      <th>V004</th>\n",
       "      <th>V005</th>\n",
       "      <th>V006</th>\n",
       "      <th>V007</th>\n",
       "      <th>V008</th>\n",
       "      <th>V009</th>\n",
       "      <th>V010</th>\n",
       "      <th>V011</th>\n",
       "      <th>V012</th>\n",
       "    </tr>\n",
       "  </thead>\n",
       "  <tbody>\n",
       "    <tr>\n",
       "      <th>0</th>\n",
       "      <td>Avenida Itacira, 255</td>\n",
       "      <td>Planalto Paulista</td>\n",
       "      <td>São Paulo</td>\n",
       "      <td>1000</td>\n",
       "      <td>4</td>\n",
       "      <td>8</td>\n",
       "      <td>6</td>\n",
       "      <td>R$ 7.000.000</td>\n",
       "      <td>7000000.00</td>\n",
       "      <td>7.00</td>\n",
       "      <td>7000.00</td>\n",
       "      <td>Avenida Itacira</td>\n",
       "      <td>4061000.00</td>\n",
       "      <td>-23.62</td>\n",
       "      <td>-46.65</td>\n",
       "      <td>POINT (-46.6481622 -23.6157934)</td>\n",
       "      <td>355030877000067.00</td>\n",
       "      <td>355030877000067.00</td>\n",
       "      <td>3.00</td>\n",
       "      <td>Regiï¿½o Sudeste</td>\n",
       "      <td>35.00</td>\n",
       "      <td>Sï¿½o Paulo</td>\n",
       "      <td>3515.00</td>\n",
       "      <td>Metropolitana de Sï¿½o Paulo</td>\n",
       "      <td>35061.00</td>\n",
       "      <td>Sï¿½o Paulo</td>\n",
       "      <td>20.00</td>\n",
       "      <td>RM Sï¿½o Paulo</td>\n",
       "      <td>3550308.00</td>\n",
       "      <td>Sï¿½O PAULO</td>\n",
       "      <td>355030877.00</td>\n",
       "      <td>SAï¿½DE</td>\n",
       "      <td>35503087700.00</td>\n",
       "      <td>SAï¿½DE</td>\n",
       "      <td>3550308000.00</td>\n",
       "      <td>Sï¿½O PAULO (todos os setores)</td>\n",
       "      <td>1.00</td>\n",
       "      <td>0.00</td>\n",
       "      <td>164.00</td>\n",
       "      <td>437.00</td>\n",
       "      <td>2.66</td>\n",
       "      <td>2.04</td>\n",
       "      <td>3158.96</td>\n",
       "      <td>22210644.93</td>\n",
       "      <td>5570.65</td>\n",
       "      <td>25770816.97</td>\n",
       "      <td>2096.19</td>\n",
       "      <td>13029851.56</td>\n",
       "      <td>3930.35</td>\n",
       "      <td>17241576.74</td>\n",
       "    </tr>\n",
       "    <tr>\n",
       "      <th>1</th>\n",
       "      <td>Rua Aurelia Perez Alvarez, 42</td>\n",
       "      <td>Jardim dos Estados</td>\n",
       "      <td>São Paulo</td>\n",
       "      <td>496</td>\n",
       "      <td>4</td>\n",
       "      <td>4</td>\n",
       "      <td>4</td>\n",
       "      <td>R$ 3.700.000</td>\n",
       "      <td>3700000.00</td>\n",
       "      <td>3.70</td>\n",
       "      <td>7459.68</td>\n",
       "      <td>Rua Aurelia Perez Alvarez</td>\n",
       "      <td>4642020.00</td>\n",
       "      <td>-23.64</td>\n",
       "      <td>-46.69</td>\n",
       "      <td>POINT (-46.6883114 -23.6409612)</td>\n",
       "      <td>355030871000023.00</td>\n",
       "      <td>355030871000023.00</td>\n",
       "      <td>3.00</td>\n",
       "      <td>Regiï¿½o Sudeste</td>\n",
       "      <td>35.00</td>\n",
       "      <td>Sï¿½o Paulo</td>\n",
       "      <td>3515.00</td>\n",
       "      <td>Metropolitana de Sï¿½o Paulo</td>\n",
       "      <td>35061.00</td>\n",
       "      <td>Sï¿½o Paulo</td>\n",
       "      <td>20.00</td>\n",
       "      <td>RM Sï¿½o Paulo</td>\n",
       "      <td>3550308.00</td>\n",
       "      <td>Sï¿½O PAULO</td>\n",
       "      <td>355030871.00</td>\n",
       "      <td>SANTO AMARO</td>\n",
       "      <td>35503087100.00</td>\n",
       "      <td>SANTO AMARO</td>\n",
       "      <td>3550308000.00</td>\n",
       "      <td>Sï¿½O PAULO (todos os setores)</td>\n",
       "      <td>1.00</td>\n",
       "      <td>0.00</td>\n",
       "      <td>136.00</td>\n",
       "      <td>425.00</td>\n",
       "      <td>3.13</td>\n",
       "      <td>1.96</td>\n",
       "      <td>7600.44</td>\n",
       "      <td>36778930.17</td>\n",
       "      <td>7890.53</td>\n",
       "      <td>35886906.64</td>\n",
       "      <td>4149.00</td>\n",
       "      <td>26760682.90</td>\n",
       "      <td>6063.92</td>\n",
       "      <td>27502674.90</td>\n",
       "    </tr>\n",
       "    <tr>\n",
       "      <th>2</th>\n",
       "      <td>Rua Alba Valdez</td>\n",
       "      <td>Jardim Reimberg</td>\n",
       "      <td>São Paulo</td>\n",
       "      <td>125</td>\n",
       "      <td>4</td>\n",
       "      <td>3</td>\n",
       "      <td>2</td>\n",
       "      <td>R$ 380.000</td>\n",
       "      <td>380000.00</td>\n",
       "      <td>0.38</td>\n",
       "      <td>3040.00</td>\n",
       "      <td>Rua Alba Valdez</td>\n",
       "      <td>4845200.00</td>\n",
       "      <td>-23.75</td>\n",
       "      <td>-46.70</td>\n",
       "      <td>POINT (-46.6958895 -23.75299)</td>\n",
       "      <td>355030830000050.00</td>\n",
       "      <td>355030830000050.00</td>\n",
       "      <td>3.00</td>\n",
       "      <td>Regiï¿½o Sudeste</td>\n",
       "      <td>35.00</td>\n",
       "      <td>Sï¿½o Paulo</td>\n",
       "      <td>3515.00</td>\n",
       "      <td>Metropolitana de Sï¿½o Paulo</td>\n",
       "      <td>35061.00</td>\n",
       "      <td>Sï¿½o Paulo</td>\n",
       "      <td>20.00</td>\n",
       "      <td>RM Sï¿½o Paulo</td>\n",
       "      <td>3550308.00</td>\n",
       "      <td>Sï¿½O PAULO</td>\n",
       "      <td>355030830.00</td>\n",
       "      <td>GRAJAï¿½</td>\n",
       "      <td>35503083000.00</td>\n",
       "      <td>GRAJAï¿½</td>\n",
       "      <td>3550308000.00</td>\n",
       "      <td>Sï¿½O PAULO (todos os setores)</td>\n",
       "      <td>1.00</td>\n",
       "      <td>0.00</td>\n",
       "      <td>142.00</td>\n",
       "      <td>493.00</td>\n",
       "      <td>3.47</td>\n",
       "      <td>3.06</td>\n",
       "      <td>805.13</td>\n",
       "      <td>769188.78</td>\n",
       "      <td>1011.75</td>\n",
       "      <td>757433.42</td>\n",
       "      <td>518.77</td>\n",
       "      <td>426672.78</td>\n",
       "      <td>858.51</td>\n",
       "      <td>414378.88</td>\n",
       "    </tr>\n",
       "    <tr>\n",
       "      <th>3</th>\n",
       "      <td>Rua Tobias Barreto, 195</td>\n",
       "      <td>Mooca</td>\n",
       "      <td>São Paulo</td>\n",
       "      <td>100</td>\n",
       "      <td>3</td>\n",
       "      <td>2</td>\n",
       "      <td>2</td>\n",
       "      <td>R$ 540.000</td>\n",
       "      <td>540000.00</td>\n",
       "      <td>0.54</td>\n",
       "      <td>5400.00</td>\n",
       "      <td>Rua Tobias Barreto</td>\n",
       "      <td>3176000.00</td>\n",
       "      <td>-23.55</td>\n",
       "      <td>-46.59</td>\n",
       "      <td>POINT (-46.5881729 -23.5499597)</td>\n",
       "      <td>355030808000050.00</td>\n",
       "      <td>355030808000050.00</td>\n",
       "      <td>3.00</td>\n",
       "      <td>Regiï¿½o Sudeste</td>\n",
       "      <td>35.00</td>\n",
       "      <td>Sï¿½o Paulo</td>\n",
       "      <td>3515.00</td>\n",
       "      <td>Metropolitana de Sï¿½o Paulo</td>\n",
       "      <td>35061.00</td>\n",
       "      <td>Sï¿½o Paulo</td>\n",
       "      <td>20.00</td>\n",
       "      <td>RM Sï¿½o Paulo</td>\n",
       "      <td>3550308.00</td>\n",
       "      <td>Sï¿½O PAULO</td>\n",
       "      <td>355030808.00</td>\n",
       "      <td>BELï¿½M</td>\n",
       "      <td>35503080800.00</td>\n",
       "      <td>BELï¿½M</td>\n",
       "      <td>3550308000.00</td>\n",
       "      <td>Sï¿½O PAULO (todos os setores)</td>\n",
       "      <td>1.00</td>\n",
       "      <td>0.00</td>\n",
       "      <td>156.00</td>\n",
       "      <td>468.00</td>\n",
       "      <td>3.00</td>\n",
       "      <td>1.99</td>\n",
       "      <td>2338.05</td>\n",
       "      <td>7826370.15</td>\n",
       "      <td>2447.89</td>\n",
       "      <td>7925839.76</td>\n",
       "      <td>1543.29</td>\n",
       "      <td>4646566.16</td>\n",
       "      <td>1909.04</td>\n",
       "      <td>5050712.69</td>\n",
       "    </tr>\n",
       "    <tr>\n",
       "      <th>4</th>\n",
       "      <td>Rua Graham Bell</td>\n",
       "      <td>Santo Amaro</td>\n",
       "      <td>São Paulo</td>\n",
       "      <td>440</td>\n",
       "      <td>4</td>\n",
       "      <td>4</td>\n",
       "      <td>6</td>\n",
       "      <td>R$ 1.980.000</td>\n",
       "      <td>1980000.00</td>\n",
       "      <td>1.98</td>\n",
       "      <td>4500.00</td>\n",
       "      <td>Rua Graham Bell</td>\n",
       "      <td>4737030.00</td>\n",
       "      <td>-23.59</td>\n",
       "      <td>-46.76</td>\n",
       "      <td>POINT (-46.7600773 -23.5937964)</td>\n",
       "      <td>355030865000169.00</td>\n",
       "      <td>355030865000169.00</td>\n",
       "      <td>3.00</td>\n",
       "      <td>Regiï¿½o Sudeste</td>\n",
       "      <td>35.00</td>\n",
       "      <td>Sï¿½o Paulo</td>\n",
       "      <td>3515.00</td>\n",
       "      <td>Metropolitana de Sï¿½o Paulo</td>\n",
       "      <td>35061.00</td>\n",
       "      <td>Sï¿½o Paulo</td>\n",
       "      <td>20.00</td>\n",
       "      <td>RM Sï¿½o Paulo</td>\n",
       "      <td>3550308.00</td>\n",
       "      <td>Sï¿½O PAULO</td>\n",
       "      <td>355030865.00</td>\n",
       "      <td>RAPOSO TAVARES</td>\n",
       "      <td>35503086500.00</td>\n",
       "      <td>RAPOSO TAVARES</td>\n",
       "      <td>3550308000.00</td>\n",
       "      <td>Sï¿½O PAULO (todos os setores)</td>\n",
       "      <td>1.00</td>\n",
       "      <td>0.00</td>\n",
       "      <td>107.00</td>\n",
       "      <td>376.00</td>\n",
       "      <td>3.51</td>\n",
       "      <td>2.31</td>\n",
       "      <td>1026.36</td>\n",
       "      <td>272168.67</td>\n",
       "      <td>1143.96</td>\n",
       "      <td>167733.64</td>\n",
       "      <td>735.67</td>\n",
       "      <td>367088.08</td>\n",
       "      <td>1086.94</td>\n",
       "      <td>159622.46</td>\n",
       "    </tr>\n",
       "  </tbody>\n",
       "</table>\n",
       "</div>"
      ],
      "text/plain": [
       "                              Rua              Bairro     Cidade  Metragem  \\\n",
       "0           Avenida Itacira, 255    Planalto Paulista  São Paulo      1000   \n",
       "1  Rua Aurelia Perez Alvarez, 42   Jardim dos Estados  São Paulo       496   \n",
       "2                 Rua Alba Valdez     Jardim Reimberg  São Paulo       125   \n",
       "3        Rua Tobias Barreto, 195                Mooca  São Paulo       100   \n",
       "4                 Rua Graham Bell         Santo Amaro  São Paulo       440   \n",
       "\n",
       "   Quartos  Banheiros  Vagas         Valor  Valor_anuncio  Valor_mm  Valor_m2  \\\n",
       "0        4          8      6  R$ 7.000.000     7000000.00      7.00   7000.00   \n",
       "1        4          4      4  R$ 3.700.000     3700000.00      3.70   7459.68   \n",
       "2        4          3      2    R$ 380.000      380000.00      0.38   3040.00   \n",
       "3        3          2      2    R$ 540.000      540000.00      0.54   5400.00   \n",
       "4        4          4      6  R$ 1.980.000     1980000.00      1.98   4500.00   \n",
       "\n",
       "                         rua        cep  latitude  longitude  \\\n",
       "0            Avenida Itacira 4061000.00    -23.62     -46.65   \n",
       "1  Rua Aurelia Perez Alvarez 4642020.00    -23.64     -46.69   \n",
       "2            Rua Alba Valdez 4845200.00    -23.75     -46.70   \n",
       "3         Rua Tobias Barreto 3176000.00    -23.55     -46.59   \n",
       "4            Rua Graham Bell 4737030.00    -23.59     -46.76   \n",
       "\n",
       "                             Point        setor_censo          Cod_setor  \\\n",
       "0  POINT (-46.6481622 -23.6157934) 355030877000067.00 355030877000067.00   \n",
       "1  POINT (-46.6883114 -23.6409612) 355030871000023.00 355030871000023.00   \n",
       "2    POINT (-46.6958895 -23.75299) 355030830000050.00 355030830000050.00   \n",
       "3  POINT (-46.5881729 -23.5499597) 355030808000050.00 355030808000050.00   \n",
       "4  POINT (-46.7600773 -23.5937964) 355030865000169.00 355030865000169.00   \n",
       "\n",
       "   Cod_Grandes Regiï¿½es Nome_Grande_Regiao  Cod_UF  Nome_da_UF   Cod_meso  \\\n",
       "0                   3.00   Regiï¿½o Sudeste   35.00  Sï¿½o Paulo   3515.00   \n",
       "1                   3.00   Regiï¿½o Sudeste   35.00  Sï¿½o Paulo   3515.00   \n",
       "2                   3.00   Regiï¿½o Sudeste   35.00  Sï¿½o Paulo   3515.00   \n",
       "3                   3.00   Regiï¿½o Sudeste   35.00  Sï¿½o Paulo   3515.00   \n",
       "4                   3.00   Regiï¿½o Sudeste   35.00  Sï¿½o Paulo   3515.00   \n",
       "\n",
       "                   Nome_da_meso  Cod_micro Nome_da_micro  Cod_RM  \\\n",
       "0  Metropolitana de Sï¿½o Paulo   35061.00   Sï¿½o Paulo   20.00   \n",
       "1  Metropolitana de Sï¿½o Paulo   35061.00   Sï¿½o Paulo   20.00   \n",
       "2  Metropolitana de Sï¿½o Paulo   35061.00   Sï¿½o Paulo   20.00   \n",
       "3  Metropolitana de Sï¿½o Paulo   35061.00   Sï¿½o Paulo   20.00   \n",
       "4  Metropolitana de Sï¿½o Paulo   35061.00   Sï¿½o Paulo   20.00   \n",
       "\n",
       "       Nome_da_RM  Cod_municipio Nome_do_municipio  Cod_distrito  \\\n",
       "0  RM Sï¿½o Paulo     3550308.00       Sï¿½O PAULO  355030877.00   \n",
       "1  RM Sï¿½o Paulo     3550308.00       Sï¿½O PAULO  355030871.00   \n",
       "2  RM Sï¿½o Paulo     3550308.00       Sï¿½O PAULO  355030830.00   \n",
       "3  RM Sï¿½o Paulo     3550308.00       Sï¿½O PAULO  355030808.00   \n",
       "4  RM Sï¿½o Paulo     3550308.00       Sï¿½O PAULO  355030865.00   \n",
       "\n",
       "  Nome_do_distrito  Cod_subdistrito Nome_do_subdistrito    Cod_bairro  \\\n",
       "0          SAï¿½DE   35503087700.00             SAï¿½DE 3550308000.00   \n",
       "1      SANTO AMARO   35503087100.00         SANTO AMARO 3550308000.00   \n",
       "2         GRAJAï¿½   35503083000.00            GRAJAï¿½ 3550308000.00   \n",
       "3          BELï¿½M   35503080800.00             BELï¿½M 3550308000.00   \n",
       "4   RAPOSO TAVARES   35503086500.00      RAPOSO TAVARES 3550308000.00   \n",
       "\n",
       "                   Nome_do_bairro  Situacao_setor  Tipo_setor   V001   V002  \\\n",
       "0  Sï¿½O PAULO (todos os setores)            1.00        0.00 164.00 437.00   \n",
       "1  Sï¿½O PAULO (todos os setores)            1.00        0.00 136.00 425.00   \n",
       "2  Sï¿½O PAULO (todos os setores)            1.00        0.00 142.00 493.00   \n",
       "3  Sï¿½O PAULO (todos os setores)            1.00        0.00 156.00 468.00   \n",
       "4  Sï¿½O PAULO (todos os setores)            1.00        0.00 107.00 376.00   \n",
       "\n",
       "   V003  V004    V005        V006    V007        V008    V009        V010  \\\n",
       "0  2.66  2.04 3158.96 22210644.93 5570.65 25770816.97 2096.19 13029851.56   \n",
       "1  3.13  1.96 7600.44 36778930.17 7890.53 35886906.64 4149.00 26760682.90   \n",
       "2  3.47  3.06  805.13   769188.78 1011.75   757433.42  518.77   426672.78   \n",
       "3  3.00  1.99 2338.05  7826370.15 2447.89  7925839.76 1543.29  4646566.16   \n",
       "4  3.51  2.31 1026.36   272168.67 1143.96   167733.64  735.67   367088.08   \n",
       "\n",
       "     V011        V012  \n",
       "0 3930.35 17241576.74  \n",
       "1 6063.92 27502674.90  \n",
       "2  858.51   414378.88  \n",
       "3 1909.04  5050712.69  \n",
       "4 1086.94   159622.46  "
      ]
     },
     "execution_count": 2,
     "metadata": {},
     "output_type": "execute_result"
    }
   ],
   "source": [
    "dados_vendas_censo = pd.read_csv( '../assets/dados_vendas_censo.csv' )\n",
    "dados_vendas_censo.dropna( how='all', axis=1, inplace=True )\n",
    "dados_vendas_censo.head()"
   ]
  },
  {
   "cell_type": "markdown",
   "metadata": {},
   "source": [
    "### Limpando os dados"
   ]
  },
  {
   "cell_type": "markdown",
   "metadata": {},
   "source": [
    "Por questão de tempo, vou utilizar apenas o método do John Tukey de detecção de outliers que considera como outliers, dados que estejam cerca de 3 vezees o valor do IQR para cima ou para baixo."
   ]
  },
  {
   "cell_type": "code",
   "execution_count": 3,
   "metadata": {},
   "outputs": [
    {
     "data": {
      "text/plain": [
       "Bairro                     8\n",
       "setor_censo              285\n",
       "Cod_setor                289\n",
       "Cod_Grandes Regiï¿½es    289\n",
       "Nome_Grande_Regiao       289\n",
       "Cod_UF                   289\n",
       "Nome_da_UF               289\n",
       "Cod_meso                 289\n",
       "Nome_da_meso             289\n",
       "Cod_micro                289\n",
       "Nome_da_micro            289\n",
       "Cod_RM                   289\n",
       "Nome_da_RM               289\n",
       "Cod_municipio            289\n",
       "Nome_do_municipio        289\n",
       "Cod_distrito             289\n",
       "Nome_do_distrito         289\n",
       "Cod_subdistrito          289\n",
       "Nome_do_subdistrito      289\n",
       "Cod_bairro               289\n",
       "Nome_do_bairro           289\n",
       "Situacao_setor           289\n",
       "Tipo_setor               289\n",
       "V001                     289\n",
       "V002                     289\n",
       "V003                     289\n",
       "V004                     289\n",
       "V005                     289\n",
       "V006                     289\n",
       "V007                     289\n",
       "V008                     289\n",
       "V009                     289\n",
       "V010                     289\n",
       "V011                     289\n",
       "V012                     289\n",
       "dtype: int64"
      ]
     },
     "execution_count": 3,
     "metadata": {},
     "output_type": "execute_result"
    }
   ],
   "source": [
    "# Checando por valores nulos\n",
    "soma_nulos = dados_vendas_censo.isna().sum()\n",
    "soma_nulos[soma_nulos > 0]"
   ]
  },
  {
   "cell_type": "code",
   "execution_count": 4,
   "metadata": {},
   "outputs": [],
   "source": [
    "dados_vendas_censo.dropna( subset='setor_censo', axis='rows', inplace=True )"
   ]
  },
  {
   "cell_type": "code",
   "execution_count": 5,
   "metadata": {},
   "outputs": [
    {
     "data": {
      "text/plain": [
       "Rua                      0\n",
       "Bairro                   8\n",
       "Cidade                   0\n",
       "Metragem                 0\n",
       "Quartos                  0\n",
       "Banheiros                0\n",
       "Vagas                    0\n",
       "Valor                    0\n",
       "Valor_anuncio            0\n",
       "Valor_mm                 0\n",
       "Valor_m2                 0\n",
       "rua                      0\n",
       "cep                      0\n",
       "latitude                 0\n",
       "longitude                0\n",
       "Point                    0\n",
       "setor_censo              0\n",
       "Cod_setor                4\n",
       "Cod_Grandes Regiï¿½es    4\n",
       "Nome_Grande_Regiao       4\n",
       "Cod_UF                   4\n",
       "Nome_da_UF               4\n",
       "Cod_meso                 4\n",
       "Nome_da_meso             4\n",
       "Cod_micro                4\n",
       "Nome_da_micro            4\n",
       "Cod_RM                   4\n",
       "Nome_da_RM               4\n",
       "Cod_municipio            4\n",
       "Nome_do_municipio        4\n",
       "Cod_distrito             4\n",
       "Nome_do_distrito         4\n",
       "Cod_subdistrito          4\n",
       "Nome_do_subdistrito      4\n",
       "Cod_bairro               4\n",
       "Nome_do_bairro           4\n",
       "Situacao_setor           4\n",
       "Tipo_setor               4\n",
       "V001                     4\n",
       "V002                     4\n",
       "V003                     4\n",
       "V004                     4\n",
       "V005                     4\n",
       "V006                     4\n",
       "V007                     4\n",
       "V008                     4\n",
       "V009                     4\n",
       "V010                     4\n",
       "V011                     4\n",
       "V012                     4\n",
       "dtype: int64"
      ]
     },
     "execution_count": 5,
     "metadata": {},
     "output_type": "execute_result"
    }
   ],
   "source": [
    "dados_vendas_censo.isna().sum()"
   ]
  },
  {
   "cell_type": "code",
   "execution_count": 6,
   "metadata": {},
   "outputs": [
    {
     "data": {
      "text/plain": [
       "0"
      ]
     },
     "execution_count": 6,
     "metadata": {},
     "output_type": "execute_result"
    }
   ],
   "source": [
    "# Checando por duplicatas\n",
    "dados_vendas_censo.duplicated().sum()"
   ]
  },
  {
   "cell_type": "markdown",
   "metadata": {},
   "source": [
    "### Tratando outliers"
   ]
  },
  {
   "cell_type": "code",
   "execution_count": 7,
   "metadata": {},
   "outputs": [
    {
     "name": "stdout",
     "output_type": "stream",
     "text": [
      "<class 'pandas.core.frame.DataFrame'>\n",
      "Int64Index: 5320 entries, 0 to 5604\n",
      "Data columns (total 50 columns):\n",
      " #   Column                 Non-Null Count  Dtype  \n",
      "---  ------                 --------------  -----  \n",
      " 0   Rua                    5320 non-null   object \n",
      " 1   Bairro                 5312 non-null   object \n",
      " 2   Cidade                 5320 non-null   object \n",
      " 3   Metragem               5320 non-null   int64  \n",
      " 4   Quartos                5320 non-null   int64  \n",
      " 5   Banheiros              5320 non-null   int64  \n",
      " 6   Vagas                  5320 non-null   int64  \n",
      " 7   Valor                  5320 non-null   object \n",
      " 8   Valor_anuncio          5320 non-null   float64\n",
      " 9   Valor_mm               5320 non-null   float64\n",
      " 10  Valor_m2               5320 non-null   float64\n",
      " 11  rua                    5320 non-null   object \n",
      " 12  cep                    5320 non-null   float64\n",
      " 13  latitude               5320 non-null   float64\n",
      " 14  longitude              5320 non-null   float64\n",
      " 15  Point                  5320 non-null   object \n",
      " 16  setor_censo            5320 non-null   float64\n",
      " 17  Cod_setor              5316 non-null   float64\n",
      " 18  Cod_Grandes Regiï¿½es  5316 non-null   float64\n",
      " 19  Nome_Grande_Regiao     5316 non-null   object \n",
      " 20  Cod_UF                 5316 non-null   float64\n",
      " 21  Nome_da_UF             5316 non-null   object \n",
      " 22  Cod_meso               5316 non-null   float64\n",
      " 23  Nome_da_meso           5316 non-null   object \n",
      " 24  Cod_micro              5316 non-null   float64\n",
      " 25  Nome_da_micro          5316 non-null   object \n",
      " 26  Cod_RM                 5316 non-null   float64\n",
      " 27  Nome_da_RM             5316 non-null   object \n",
      " 28  Cod_municipio          5316 non-null   float64\n",
      " 29  Nome_do_municipio      5316 non-null   object \n",
      " 30  Cod_distrito           5316 non-null   float64\n",
      " 31  Nome_do_distrito       5316 non-null   object \n",
      " 32  Cod_subdistrito        5316 non-null   float64\n",
      " 33  Nome_do_subdistrito    5316 non-null   object \n",
      " 34  Cod_bairro             5316 non-null   float64\n",
      " 35  Nome_do_bairro         5316 non-null   object \n",
      " 36  Situacao_setor         5316 non-null   float64\n",
      " 37  Tipo_setor             5316 non-null   float64\n",
      " 38  V001                   5316 non-null   float64\n",
      " 39  V002                   5316 non-null   float64\n",
      " 40  V003                   5316 non-null   float64\n",
      " 41  V004                   5316 non-null   float64\n",
      " 42  V005                   5316 non-null   float64\n",
      " 43  V006                   5316 non-null   float64\n",
      " 44  V007                   5316 non-null   float64\n",
      " 45  V008                   5316 non-null   float64\n",
      " 46  V009                   5316 non-null   float64\n",
      " 47  V010                   5316 non-null   float64\n",
      " 48  V011                   5316 non-null   float64\n",
      " 49  V012                   5316 non-null   float64\n",
      "dtypes: float64(31), int64(4), object(15)\n",
      "memory usage: 2.1+ MB\n"
     ]
    }
   ],
   "source": [
    "dados_vendas_censo_tratado = dados_vendas_censo.copy()\n",
    "dados_vendas_censo_tratado.info()"
   ]
  },
  {
   "cell_type": "code",
   "execution_count": 8,
   "metadata": {},
   "outputs": [
    {
     "data": {
      "text/plain": [
       "array([dtype('O'), dtype('int64'), dtype('float64')], dtype=object)"
      ]
     },
     "execution_count": 8,
     "metadata": {},
     "output_type": "execute_result"
    }
   ],
   "source": [
    "# Separando variáveis em numéricas e categóricas\n",
    "dados_vendas_censo_tratado.dtypes.unique()"
   ]
  },
  {
   "cell_type": "code",
   "execution_count": 9,
   "metadata": {},
   "outputs": [],
   "source": [
    "dados_vendas_numericos, dados_vendas_categoricos = dados_vendas_censo_tratado \\\n",
    "    .select_dtypes( include=['int64', 'float64'] ), dados_vendas_censo_tratado \\\n",
    "        .select_dtypes( exclude=['int64', 'float64'] )"
   ]
  },
  {
   "cell_type": "markdown",
   "metadata": {},
   "source": [
    "Nota-se que existem valores bem discrepantes nas colunas Metragem, Valor_anuncio, Valor_mm, **Valor_m2**, e todas as colunas V."
   ]
  },
  {
   "cell_type": "code",
   "execution_count": 10,
   "metadata": {},
   "outputs": [
    {
     "data": {
      "text/html": [
       "<div>\n",
       "<style scoped>\n",
       "    .dataframe tbody tr th:only-of-type {\n",
       "        vertical-align: middle;\n",
       "    }\n",
       "\n",
       "    .dataframe tbody tr th {\n",
       "        vertical-align: top;\n",
       "    }\n",
       "\n",
       "    .dataframe thead th {\n",
       "        text-align: right;\n",
       "    }\n",
       "</style>\n",
       "<table border=\"1\" class=\"dataframe\">\n",
       "  <thead>\n",
       "    <tr style=\"text-align: right;\">\n",
       "      <th></th>\n",
       "      <th>Rua</th>\n",
       "      <th>Bairro</th>\n",
       "      <th>Cidade</th>\n",
       "      <th>Valor</th>\n",
       "      <th>rua</th>\n",
       "      <th>Point</th>\n",
       "      <th>Nome_Grande_Regiao</th>\n",
       "      <th>Nome_da_UF</th>\n",
       "      <th>Nome_da_meso</th>\n",
       "      <th>Nome_da_micro</th>\n",
       "      <th>Nome_da_RM</th>\n",
       "      <th>Nome_do_municipio</th>\n",
       "      <th>Nome_do_distrito</th>\n",
       "      <th>Nome_do_subdistrito</th>\n",
       "      <th>Nome_do_bairro</th>\n",
       "    </tr>\n",
       "  </thead>\n",
       "  <tbody>\n",
       "    <tr>\n",
       "      <th>count</th>\n",
       "      <td>5320</td>\n",
       "      <td>5312</td>\n",
       "      <td>5320</td>\n",
       "      <td>5320</td>\n",
       "      <td>5320</td>\n",
       "      <td>5320</td>\n",
       "      <td>5316</td>\n",
       "      <td>5316</td>\n",
       "      <td>5316</td>\n",
       "      <td>5316</td>\n",
       "      <td>5316</td>\n",
       "      <td>5316</td>\n",
       "      <td>5316</td>\n",
       "      <td>5316</td>\n",
       "      <td>5316</td>\n",
       "    </tr>\n",
       "    <tr>\n",
       "      <th>unique</th>\n",
       "      <td>2764</td>\n",
       "      <td>578</td>\n",
       "      <td>1</td>\n",
       "      <td>749</td>\n",
       "      <td>2321</td>\n",
       "      <td>2310</td>\n",
       "      <td>1</td>\n",
       "      <td>1</td>\n",
       "      <td>1</td>\n",
       "      <td>1</td>\n",
       "      <td>1</td>\n",
       "      <td>1</td>\n",
       "      <td>92</td>\n",
       "      <td>92</td>\n",
       "      <td>1</td>\n",
       "    </tr>\n",
       "    <tr>\n",
       "      <th>top</th>\n",
       "      <td>Rua Alberto Faria</td>\n",
       "      <td>Alto de Pinheiros</td>\n",
       "      <td>São Paulo</td>\n",
       "      <td>R$ 2.500.000</td>\n",
       "      <td>Rua Alberto Faria</td>\n",
       "      <td>POINT (-46.7096341 -23.5502764)</td>\n",
       "      <td>Regiï¿½o Sudeste</td>\n",
       "      <td>Sï¿½o Paulo</td>\n",
       "      <td>Metropolitana de Sï¿½o Paulo</td>\n",
       "      <td>Sï¿½o Paulo</td>\n",
       "      <td>RM Sï¿½o Paulo</td>\n",
       "      <td>Sï¿½O PAULO</td>\n",
       "      <td>MORUMBI</td>\n",
       "      <td>MORUMBI</td>\n",
       "      <td>Sï¿½O PAULO (todos os setores)</td>\n",
       "    </tr>\n",
       "    <tr>\n",
       "      <th>freq</th>\n",
       "      <td>22</td>\n",
       "      <td>193</td>\n",
       "      <td>5320</td>\n",
       "      <td>113</td>\n",
       "      <td>27</td>\n",
       "      <td>27</td>\n",
       "      <td>5316</td>\n",
       "      <td>5316</td>\n",
       "      <td>5316</td>\n",
       "      <td>5316</td>\n",
       "      <td>5316</td>\n",
       "      <td>5316</td>\n",
       "      <td>530</td>\n",
       "      <td>530</td>\n",
       "      <td>5316</td>\n",
       "    </tr>\n",
       "  </tbody>\n",
       "</table>\n",
       "</div>"
      ],
      "text/plain": [
       "                      Rua             Bairro     Cidade         Valor  \\\n",
       "count                5320               5312       5320          5320   \n",
       "unique               2764                578          1           749   \n",
       "top     Rua Alberto Faria  Alto de Pinheiros  São Paulo  R$ 2.500.000   \n",
       "freq                   22                193       5320           113   \n",
       "\n",
       "                      rua                            Point Nome_Grande_Regiao  \\\n",
       "count                5320                             5320               5316   \n",
       "unique               2321                             2310                  1   \n",
       "top     Rua Alberto Faria  POINT (-46.7096341 -23.5502764)   Regiï¿½o Sudeste   \n",
       "freq                   27                               27               5316   \n",
       "\n",
       "        Nome_da_UF                   Nome_da_meso Nome_da_micro  \\\n",
       "count          5316                          5316          5316   \n",
       "unique            1                             1             1   \n",
       "top     Sï¿½o Paulo  Metropolitana de Sï¿½o Paulo   Sï¿½o Paulo   \n",
       "freq           5316                          5316          5316   \n",
       "\n",
       "            Nome_da_RM Nome_do_municipio Nome_do_distrito Nome_do_subdistrito  \\\n",
       "count             5316              5316             5316                5316   \n",
       "unique               1                 1               92                  92   \n",
       "top     RM Sï¿½o Paulo       Sï¿½O PAULO          MORUMBI             MORUMBI   \n",
       "freq              5316              5316              530                 530   \n",
       "\n",
       "                        Nome_do_bairro  \n",
       "count                             5316  \n",
       "unique                               1  \n",
       "top     Sï¿½O PAULO (todos os setores)  \n",
       "freq                              5316  "
      ]
     },
     "execution_count": 10,
     "metadata": {},
     "output_type": "execute_result"
    }
   ],
   "source": [
    "dados_vendas_categoricos.describe()"
   ]
  },
  {
   "cell_type": "code",
   "execution_count": 11,
   "metadata": {},
   "outputs": [
    {
     "data": {
      "text/html": [
       "<div>\n",
       "<style scoped>\n",
       "    .dataframe tbody tr th:only-of-type {\n",
       "        vertical-align: middle;\n",
       "    }\n",
       "\n",
       "    .dataframe tbody tr th {\n",
       "        vertical-align: top;\n",
       "    }\n",
       "\n",
       "    .dataframe thead th {\n",
       "        text-align: right;\n",
       "    }\n",
       "</style>\n",
       "<table border=\"1\" class=\"dataframe\">\n",
       "  <thead>\n",
       "    <tr style=\"text-align: right;\">\n",
       "      <th></th>\n",
       "      <th>Metragem</th>\n",
       "      <th>Quartos</th>\n",
       "      <th>Banheiros</th>\n",
       "      <th>Vagas</th>\n",
       "      <th>Valor_anuncio</th>\n",
       "      <th>Valor_mm</th>\n",
       "      <th>Valor_m2</th>\n",
       "      <th>cep</th>\n",
       "      <th>latitude</th>\n",
       "      <th>longitude</th>\n",
       "      <th>setor_censo</th>\n",
       "      <th>Cod_setor</th>\n",
       "      <th>Cod_Grandes Regiï¿½es</th>\n",
       "      <th>Cod_UF</th>\n",
       "      <th>Cod_meso</th>\n",
       "      <th>Cod_micro</th>\n",
       "      <th>Cod_RM</th>\n",
       "      <th>Cod_municipio</th>\n",
       "      <th>Cod_distrito</th>\n",
       "      <th>Cod_subdistrito</th>\n",
       "      <th>Cod_bairro</th>\n",
       "      <th>Situacao_setor</th>\n",
       "      <th>Tipo_setor</th>\n",
       "      <th>V001</th>\n",
       "      <th>V002</th>\n",
       "      <th>V003</th>\n",
       "      <th>V004</th>\n",
       "      <th>V005</th>\n",
       "      <th>V006</th>\n",
       "      <th>V007</th>\n",
       "      <th>V008</th>\n",
       "      <th>V009</th>\n",
       "      <th>V010</th>\n",
       "      <th>V011</th>\n",
       "      <th>V012</th>\n",
       "    </tr>\n",
       "  </thead>\n",
       "  <tbody>\n",
       "    <tr>\n",
       "      <th>count</th>\n",
       "      <td>5320.00</td>\n",
       "      <td>5320.00</td>\n",
       "      <td>5320.00</td>\n",
       "      <td>5320.00</td>\n",
       "      <td>5320.00</td>\n",
       "      <td>5320.00</td>\n",
       "      <td>5320.00</td>\n",
       "      <td>5320.00</td>\n",
       "      <td>5320.00</td>\n",
       "      <td>5320.00</td>\n",
       "      <td>5320.00</td>\n",
       "      <td>5316.00</td>\n",
       "      <td>5316.00</td>\n",
       "      <td>5316.00</td>\n",
       "      <td>5316.00</td>\n",
       "      <td>5316.00</td>\n",
       "      <td>5316.00</td>\n",
       "      <td>5316.00</td>\n",
       "      <td>5316.00</td>\n",
       "      <td>5316.00</td>\n",
       "      <td>5316.00</td>\n",
       "      <td>5316.00</td>\n",
       "      <td>5316.00</td>\n",
       "      <td>5316.00</td>\n",
       "      <td>5316.00</td>\n",
       "      <td>5316.00</td>\n",
       "      <td>5316.00</td>\n",
       "      <td>5316.00</td>\n",
       "      <td>5316.00</td>\n",
       "      <td>5316.00</td>\n",
       "      <td>5316.00</td>\n",
       "      <td>5316.00</td>\n",
       "      <td>5316.00</td>\n",
       "      <td>5316.00</td>\n",
       "      <td>5316.00</td>\n",
       "    </tr>\n",
       "    <tr>\n",
       "      <th>mean</th>\n",
       "      <td>333.89</td>\n",
       "      <td>3.41</td>\n",
       "      <td>3.71</td>\n",
       "      <td>3.82</td>\n",
       "      <td>2718649.80</td>\n",
       "      <td>2.72</td>\n",
       "      <td>7635.98</td>\n",
       "      <td>4184315.98</td>\n",
       "      <td>-23.58</td>\n",
       "      <td>-46.66</td>\n",
       "      <td>355030848057407.06</td>\n",
       "      <td>355030848069301.19</td>\n",
       "      <td>3.00</td>\n",
       "      <td>35.00</td>\n",
       "      <td>3515.00</td>\n",
       "      <td>35061.00</td>\n",
       "      <td>20.00</td>\n",
       "      <td>3550308.00</td>\n",
       "      <td>355030848.07</td>\n",
       "      <td>35503084806.92</td>\n",
       "      <td>3550308000.00</td>\n",
       "      <td>1.01</td>\n",
       "      <td>0.01</td>\n",
       "      <td>192.86</td>\n",
       "      <td>573.01</td>\n",
       "      <td>3.01</td>\n",
       "      <td>2.12</td>\n",
       "      <td>5859.24</td>\n",
       "      <td>190315010.55</td>\n",
       "      <td>6790.83</td>\n",
       "      <td>256857648.58</td>\n",
       "      <td>3247.50</td>\n",
       "      <td>109127681.78</td>\n",
       "      <td>4837.83</td>\n",
       "      <td>189910561.45</td>\n",
       "    </tr>\n",
       "    <tr>\n",
       "      <th>std</th>\n",
       "      <td>558.22</td>\n",
       "      <td>1.01</td>\n",
       "      <td>1.84</td>\n",
       "      <td>2.46</td>\n",
       "      <td>3552891.33</td>\n",
       "      <td>3.55</td>\n",
       "      <td>4735.30</td>\n",
       "      <td>1448621.53</td>\n",
       "      <td>0.05</td>\n",
       "      <td>0.06</td>\n",
       "      <td>27366723.36</td>\n",
       "      <td>27366464.82</td>\n",
       "      <td>0.00</td>\n",
       "      <td>0.00</td>\n",
       "      <td>0.00</td>\n",
       "      <td>0.00</td>\n",
       "      <td>0.00</td>\n",
       "      <td>0.00</td>\n",
       "      <td>27.37</td>\n",
       "      <td>2736.65</td>\n",
       "      <td>0.00</td>\n",
       "      <td>0.18</td>\n",
       "      <td>0.07</td>\n",
       "      <td>77.86</td>\n",
       "      <td>234.21</td>\n",
       "      <td>0.39</td>\n",
       "      <td>0.94</td>\n",
       "      <td>5107.95</td>\n",
       "      <td>933436369.49</td>\n",
       "      <td>5957.50</td>\n",
       "      <td>1761201586.50</td>\n",
       "      <td>2261.85</td>\n",
       "      <td>514376701.69</td>\n",
       "      <td>3637.45</td>\n",
       "      <td>1338262292.22</td>\n",
       "    </tr>\n",
       "    <tr>\n",
       "      <th>min</th>\n",
       "      <td>20.00</td>\n",
       "      <td>1.00</td>\n",
       "      <td>1.00</td>\n",
       "      <td>1.00</td>\n",
       "      <td>13000.00</td>\n",
       "      <td>0.01</td>\n",
       "      <td>65.00</td>\n",
       "      <td>1107060.00</td>\n",
       "      <td>-23.86</td>\n",
       "      <td>-46.80</td>\n",
       "      <td>355030801000008.00</td>\n",
       "      <td>355030801000008.00</td>\n",
       "      <td>3.00</td>\n",
       "      <td>35.00</td>\n",
       "      <td>3515.00</td>\n",
       "      <td>35061.00</td>\n",
       "      <td>20.00</td>\n",
       "      <td>3550308.00</td>\n",
       "      <td>355030801.00</td>\n",
       "      <td>35503080100.00</td>\n",
       "      <td>3550308000.00</td>\n",
       "      <td>1.00</td>\n",
       "      <td>0.00</td>\n",
       "      <td>12.00</td>\n",
       "      <td>29.00</td>\n",
       "      <td>1.61</td>\n",
       "      <td>0.70</td>\n",
       "      <td>174.91</td>\n",
       "      <td>98355.48</td>\n",
       "      <td>584.26</td>\n",
       "      <td>70021.07</td>\n",
       "      <td>91.16</td>\n",
       "      <td>106814.59</td>\n",
       "      <td>547.47</td>\n",
       "      <td>58440.21</td>\n",
       "    </tr>\n",
       "    <tr>\n",
       "      <th>25%</th>\n",
       "      <td>160.00</td>\n",
       "      <td>3.00</td>\n",
       "      <td>2.00</td>\n",
       "      <td>2.00</td>\n",
       "      <td>850000.00</td>\n",
       "      <td>0.85</td>\n",
       "      <td>4666.67</td>\n",
       "      <td>3436760.00</td>\n",
       "      <td>-23.61</td>\n",
       "      <td>-46.70</td>\n",
       "      <td>355030827000002.00</td>\n",
       "      <td>355030827000002.00</td>\n",
       "      <td>3.00</td>\n",
       "      <td>35.00</td>\n",
       "      <td>3515.00</td>\n",
       "      <td>35061.00</td>\n",
       "      <td>20.00</td>\n",
       "      <td>3550308.00</td>\n",
       "      <td>355030827.00</td>\n",
       "      <td>35503082700.00</td>\n",
       "      <td>3550308000.00</td>\n",
       "      <td>1.00</td>\n",
       "      <td>0.00</td>\n",
       "      <td>134.75</td>\n",
       "      <td>406.75</td>\n",
       "      <td>2.77</td>\n",
       "      <td>1.72</td>\n",
       "      <td>2437.72</td>\n",
       "      <td>7993781.82</td>\n",
       "      <td>2870.77</td>\n",
       "      <td>8187213.28</td>\n",
       "      <td>1605.57</td>\n",
       "      <td>5614213.08</td>\n",
       "      <td>2303.08</td>\n",
       "      <td>6241508.75</td>\n",
       "    </tr>\n",
       "    <tr>\n",
       "      <th>50%</th>\n",
       "      <td>255.00</td>\n",
       "      <td>3.00</td>\n",
       "      <td>3.00</td>\n",
       "      <td>3.00</td>\n",
       "      <td>1600000.00</td>\n",
       "      <td>1.60</td>\n",
       "      <td>6400.00</td>\n",
       "      <td>4544120.00</td>\n",
       "      <td>-23.58</td>\n",
       "      <td>-46.67</td>\n",
       "      <td>355030854000003.00</td>\n",
       "      <td>355030854000003.50</td>\n",
       "      <td>3.00</td>\n",
       "      <td>35.00</td>\n",
       "      <td>3515.00</td>\n",
       "      <td>35061.00</td>\n",
       "      <td>20.00</td>\n",
       "      <td>3550308.00</td>\n",
       "      <td>355030854.00</td>\n",
       "      <td>35503085400.00</td>\n",
       "      <td>3550308000.00</td>\n",
       "      <td>1.00</td>\n",
       "      <td>0.00</td>\n",
       "      <td>191.00</td>\n",
       "      <td>555.00</td>\n",
       "      <td>3.02</td>\n",
       "      <td>2.05</td>\n",
       "      <td>4385.96</td>\n",
       "      <td>26937466.70</td>\n",
       "      <td>5180.14</td>\n",
       "      <td>26955910.12</td>\n",
       "      <td>2788.53</td>\n",
       "      <td>18140427.35</td>\n",
       "      <td>4010.21</td>\n",
       "      <td>22218585.14</td>\n",
       "    </tr>\n",
       "    <tr>\n",
       "      <th>75%</th>\n",
       "      <td>410.00</td>\n",
       "      <td>4.00</td>\n",
       "      <td>5.00</td>\n",
       "      <td>5.00</td>\n",
       "      <td>3196985.00</td>\n",
       "      <td>3.20</td>\n",
       "      <td>9090.91</td>\n",
       "      <td>5436080.00</td>\n",
       "      <td>-23.55</td>\n",
       "      <td>-46.63</td>\n",
       "      <td>355030871000015.25</td>\n",
       "      <td>355030871000016.00</td>\n",
       "      <td>3.00</td>\n",
       "      <td>35.00</td>\n",
       "      <td>3515.00</td>\n",
       "      <td>35061.00</td>\n",
       "      <td>20.00</td>\n",
       "      <td>3550308.00</td>\n",
       "      <td>355030871.00</td>\n",
       "      <td>35503087100.00</td>\n",
       "      <td>3550308000.00</td>\n",
       "      <td>1.00</td>\n",
       "      <td>0.00</td>\n",
       "      <td>244.00</td>\n",
       "      <td>721.00</td>\n",
       "      <td>3.28</td>\n",
       "      <td>2.40</td>\n",
       "      <td>7600.23</td>\n",
       "      <td>95863644.54</td>\n",
       "      <td>8816.06</td>\n",
       "      <td>102000570.47</td>\n",
       "      <td>4291.69</td>\n",
       "      <td>56436140.20</td>\n",
       "      <td>6182.71</td>\n",
       "      <td>70195016.01</td>\n",
       "    </tr>\n",
       "    <tr>\n",
       "      <th>max</th>\n",
       "      <td>37000.00</td>\n",
       "      <td>11.00</td>\n",
       "      <td>14.00</td>\n",
       "      <td>38.00</td>\n",
       "      <td>65000000.00</td>\n",
       "      <td>65.00</td>\n",
       "      <td>54166.67</td>\n",
       "      <td>8473440.00</td>\n",
       "      <td>-23.43</td>\n",
       "      <td>-46.37</td>\n",
       "      <td>355030896000171.00</td>\n",
       "      <td>355030896000171.00</td>\n",
       "      <td>3.00</td>\n",
       "      <td>35.00</td>\n",
       "      <td>3515.00</td>\n",
       "      <td>35061.00</td>\n",
       "      <td>20.00</td>\n",
       "      <td>3550308.00</td>\n",
       "      <td>355030896.00</td>\n",
       "      <td>35503089600.00</td>\n",
       "      <td>3550308000.00</td>\n",
       "      <td>8.00</td>\n",
       "      <td>1.00</td>\n",
       "      <td>781.00</td>\n",
       "      <td>2488.00</td>\n",
       "      <td>5.21</td>\n",
       "      <td>32.90</td>\n",
       "      <td>41175.73</td>\n",
       "      <td>19436679037.42</td>\n",
       "      <td>50741.20</td>\n",
       "      <td>35468624352.67</td>\n",
       "      <td>20651.94</td>\n",
       "      <td>9521545092.67</td>\n",
       "      <td>40653.97</td>\n",
       "      <td>28642067613.82</td>\n",
       "    </tr>\n",
       "  </tbody>\n",
       "</table>\n",
       "</div>"
      ],
      "text/plain": [
       "       Metragem  Quartos  Banheiros   Vagas  Valor_anuncio  Valor_mm  \\\n",
       "count   5320.00  5320.00    5320.00 5320.00        5320.00   5320.00   \n",
       "mean     333.89     3.41       3.71    3.82     2718649.80      2.72   \n",
       "std      558.22     1.01       1.84    2.46     3552891.33      3.55   \n",
       "min       20.00     1.00       1.00    1.00       13000.00      0.01   \n",
       "25%      160.00     3.00       2.00    2.00      850000.00      0.85   \n",
       "50%      255.00     3.00       3.00    3.00     1600000.00      1.60   \n",
       "75%      410.00     4.00       5.00    5.00     3196985.00      3.20   \n",
       "max    37000.00    11.00      14.00   38.00    65000000.00     65.00   \n",
       "\n",
       "       Valor_m2        cep  latitude  longitude        setor_censo  \\\n",
       "count   5320.00    5320.00   5320.00    5320.00            5320.00   \n",
       "mean    7635.98 4184315.98    -23.58     -46.66 355030848057407.06   \n",
       "std     4735.30 1448621.53      0.05       0.06        27366723.36   \n",
       "min       65.00 1107060.00    -23.86     -46.80 355030801000008.00   \n",
       "25%     4666.67 3436760.00    -23.61     -46.70 355030827000002.00   \n",
       "50%     6400.00 4544120.00    -23.58     -46.67 355030854000003.00   \n",
       "75%     9090.91 5436080.00    -23.55     -46.63 355030871000015.25   \n",
       "max    54166.67 8473440.00    -23.43     -46.37 355030896000171.00   \n",
       "\n",
       "               Cod_setor  Cod_Grandes Regiï¿½es  Cod_UF  Cod_meso  Cod_micro  \\\n",
       "count            5316.00                5316.00 5316.00   5316.00    5316.00   \n",
       "mean  355030848069301.19                   3.00   35.00   3515.00   35061.00   \n",
       "std          27366464.82                   0.00    0.00      0.00       0.00   \n",
       "min   355030801000008.00                   3.00   35.00   3515.00   35061.00   \n",
       "25%   355030827000002.00                   3.00   35.00   3515.00   35061.00   \n",
       "50%   355030854000003.50                   3.00   35.00   3515.00   35061.00   \n",
       "75%   355030871000016.00                   3.00   35.00   3515.00   35061.00   \n",
       "max   355030896000171.00                   3.00   35.00   3515.00   35061.00   \n",
       "\n",
       "       Cod_RM  Cod_municipio  Cod_distrito  Cod_subdistrito    Cod_bairro  \\\n",
       "count 5316.00        5316.00       5316.00          5316.00       5316.00   \n",
       "mean    20.00     3550308.00  355030848.07   35503084806.92 3550308000.00   \n",
       "std      0.00           0.00         27.37          2736.65          0.00   \n",
       "min     20.00     3550308.00  355030801.00   35503080100.00 3550308000.00   \n",
       "25%     20.00     3550308.00  355030827.00   35503082700.00 3550308000.00   \n",
       "50%     20.00     3550308.00  355030854.00   35503085400.00 3550308000.00   \n",
       "75%     20.00     3550308.00  355030871.00   35503087100.00 3550308000.00   \n",
       "max     20.00     3550308.00  355030896.00   35503089600.00 3550308000.00   \n",
       "\n",
       "       Situacao_setor  Tipo_setor    V001    V002    V003    V004     V005  \\\n",
       "count         5316.00     5316.00 5316.00 5316.00 5316.00 5316.00  5316.00   \n",
       "mean             1.01        0.01  192.86  573.01    3.01    2.12  5859.24   \n",
       "std              0.18        0.07   77.86  234.21    0.39    0.94  5107.95   \n",
       "min              1.00        0.00   12.00   29.00    1.61    0.70   174.91   \n",
       "25%              1.00        0.00  134.75  406.75    2.77    1.72  2437.72   \n",
       "50%              1.00        0.00  191.00  555.00    3.02    2.05  4385.96   \n",
       "75%              1.00        0.00  244.00  721.00    3.28    2.40  7600.23   \n",
       "max              8.00        1.00  781.00 2488.00    5.21   32.90 41175.73   \n",
       "\n",
       "                V006     V007           V008     V009          V010     V011  \\\n",
       "count        5316.00  5316.00        5316.00  5316.00       5316.00  5316.00   \n",
       "mean    190315010.55  6790.83   256857648.58  3247.50  109127681.78  4837.83   \n",
       "std     933436369.49  5957.50  1761201586.50  2261.85  514376701.69  3637.45   \n",
       "min         98355.48   584.26       70021.07    91.16     106814.59   547.47   \n",
       "25%       7993781.82  2870.77     8187213.28  1605.57    5614213.08  2303.08   \n",
       "50%      26937466.70  5180.14    26955910.12  2788.53   18140427.35  4010.21   \n",
       "75%      95863644.54  8816.06   102000570.47  4291.69   56436140.20  6182.71   \n",
       "max   19436679037.42 50741.20 35468624352.67 20651.94 9521545092.67 40653.97   \n",
       "\n",
       "                V012  \n",
       "count        5316.00  \n",
       "mean    189910561.45  \n",
       "std    1338262292.22  \n",
       "min         58440.21  \n",
       "25%       6241508.75  \n",
       "50%      22218585.14  \n",
       "75%      70195016.01  \n",
       "max   28642067613.82  "
      ]
     },
     "execution_count": 11,
     "metadata": {},
     "output_type": "execute_result"
    }
   ],
   "source": [
    "# Imprimindo estatísticas de resumo\n",
    "dados_vendas_numericos.describe().round(2)"
   ]
  },
  {
   "cell_type": "markdown",
   "metadata": {},
   "source": [
    "# Análise Exploratória de Dados"
   ]
  },
  {
   "cell_type": "markdown",
   "metadata": {},
   "source": [
    "## [DESAFIO 2] Tratar os outliers e comparar com os resultados."
   ]
  },
  {
   "cell_type": "code",
   "execution_count": 12,
   "metadata": {},
   "outputs": [],
   "source": [
    "# Agrupando variáveis numéricas com escalas semelhantes\n",
    "grupo1 = ['Quartos', 'Banheiros', 'Vagas']\n",
    "grupo2 = ['V001', 'V002']\n",
    "grupo3 = ['V003', 'V004']\n",
    "grupo4 = ['V005', 'V007', 'V009', 'V011']\n",
    "grupo5 = ['V006', 'V008', 'V010', 'V012']"
   ]
  },
  {
   "cell_type": "code",
   "execution_count": 13,
   "metadata": {},
   "outputs": [
    {
     "data": {
      "image/png": "[encoded data removed]",
      "text/plain": [
       "<Figure size 1080x720 with 1 Axes>"
      ]
     },
     "metadata": {
      "needs_background": "light"
     },
     "output_type": "display_data"
    }
   ],
   "source": [
    "# Imprimindo box-plots de dados numéricos - Grupo 1\n",
    "fig, ax = plt.subplots( figsize=(15, 10) )\n",
    "ax = sns.boxplot( data=dados_vendas_numericos[grupo1] )\n",
    "\n",
    "plt.show()"
   ]
  },
  {
   "cell_type": "code",
   "execution_count": 14,
   "metadata": {},
   "outputs": [
    {
     "data": {
      "text/plain": [
       "(609, 50)"
      ]
     },
     "execution_count": 14,
     "metadata": {},
     "output_type": "execute_result"
    }
   ],
   "source": [
    "grupo1_outliers = dados_vendas_censo_tratado[((dados_vendas_censo_tratado['Quartos'] >= 6) | (dados_vendas_censo_tratado['Quartos'] < 2)) | \\\n",
    "    (dados_vendas_censo_tratado['Banheiros'] >= 10) | \\\n",
    "        (dados_vendas_censo_tratado['Vagas'] > 7)]\n",
    "grupo1_outliers.shape"
   ]
  },
  {
   "cell_type": "code",
   "execution_count": 15,
   "metadata": {},
   "outputs": [
    {
     "data": {
      "text/plain": [
       "(4711, 50)"
      ]
     },
     "execution_count": 15,
     "metadata": {},
     "output_type": "execute_result"
    }
   ],
   "source": [
    "# Removendo outliers do conjunto de variáveis numéricas do grupo1\n",
    "dados_vendas_censo_tratado = dados_vendas_censo_tratado.drop( labels=grupo1_outliers.index )\n",
    "dados_vendas_censo_tratado.shape"
   ]
  },
  {
   "cell_type": "markdown",
   "metadata": {},
   "source": [
    "Comparando as distribuições das variáveis do `grupo1` antes e depois da exclusão dos outliers."
   ]
  },
  {
   "cell_type": "code",
   "execution_count": 16,
   "metadata": {},
   "outputs": [
    {
     "data": {
      "image/png": "[encoded data removed]",
      "text/plain": [
       "<Figure size 1080x720 with 1 Axes>"
      ]
     },
     "metadata": {
      "needs_background": "light"
     },
     "output_type": "display_data"
    }
   ],
   "source": [
    "# Imprimindo box-plots de dados numéricos tratados - Grupo 1\n",
    "fig, ax = plt.subplots( figsize=(15, 10) )\n",
    "ax = sns.boxplot( data=dados_vendas_censo_tratado[grupo1] )\n",
    "\n",
    "plt.show()"
   ]
  },
  {
   "cell_type": "code",
   "execution_count": 17,
   "metadata": {},
   "outputs": [
    {
     "data": {
      "image/png": "[encoded data removed]",
      "text/plain": [
       "<Figure size 1080x720 with 1 Axes>"
      ]
     },
     "metadata": {
      "needs_background": "light"
     },
     "output_type": "display_data"
    }
   ],
   "source": [
    "# Imprimindo box-plots de dados numéricos - Grupo 2\n",
    "fig, ax = plt.subplots( figsize=(15, 10) )\n",
    "ax = sns.boxplot( data=dados_vendas_censo_tratado[grupo2] )\n",
    "\n",
    "plt.show()"
   ]
  },
  {
   "cell_type": "code",
   "execution_count": 18,
   "metadata": {},
   "outputs": [
    {
     "data": {
      "text/plain": [
       "(72, 50)"
      ]
     },
     "execution_count": 18,
     "metadata": {},
     "output_type": "execute_result"
    }
   ],
   "source": [
    "grupo2_outliers = dados_vendas_censo_tratado[(dados_vendas_censo_tratado['V002'] >= 1180) | \\\n",
    "    (dados_vendas_censo_tratado['V001'] >= 400)]\n",
    "grupo2_outliers.shape"
   ]
  },
  {
   "cell_type": "code",
   "execution_count": 19,
   "metadata": {},
   "outputs": [
    {
     "data": {
      "text/plain": [
       "(4639, 50)"
      ]
     },
     "execution_count": 19,
     "metadata": {},
     "output_type": "execute_result"
    }
   ],
   "source": [
    "# Removendo outliers do conjunto de variáveis numéricas do grupo1\n",
    "dados_vendas_censo_tratado = dados_vendas_censo_tratado.drop( labels=grupo2_outliers.index )\n",
    "dados_vendas_censo_tratado.shape"
   ]
  },
  {
   "cell_type": "code",
   "execution_count": 20,
   "metadata": {},
   "outputs": [
    {
     "data": {
      "image/png": "[encoded data removed]",
      "text/plain": [
       "<Figure size 1080x720 with 1 Axes>"
      ]
     },
     "metadata": {
      "needs_background": "light"
     },
     "output_type": "display_data"
    }
   ],
   "source": [
    "# Imprimindo box-plots de dados numéricos tratados - Grupo 2\n",
    "fig, ax = plt.subplots( figsize=(15, 10) )\n",
    "ax = sns.boxplot( data=dados_vendas_censo_tratado[grupo2] )\n",
    "\n",
    "plt.show()"
   ]
  },
  {
   "cell_type": "code",
   "execution_count": 21,
   "metadata": {},
   "outputs": [
    {
     "data": {
      "image/png": "[encoded data removed]",
      "text/plain": [
       "<Figure size 1080x720 with 1 Axes>"
      ]
     },
     "metadata": {
      "needs_background": "light"
     },
     "output_type": "display_data"
    }
   ],
   "source": [
    "# Imprimindo box-plots de dados numéricos - Grupo 3\n",
    "fig, ax = plt.subplots( figsize=(15, 10) )\n",
    "ax = sns.boxplot( data=dados_vendas_censo_tratado[grupo3] )\n",
    "\n",
    "plt.show()"
   ]
  },
  {
   "cell_type": "code",
   "execution_count": 22,
   "metadata": {},
   "outputs": [
    {
     "data": {
      "text/plain": [
       "(227, 50)"
      ]
     },
     "execution_count": 22,
     "metadata": {},
     "output_type": "execute_result"
    }
   ],
   "source": [
    "grupo3_outliers = dados_vendas_censo_tratado[(dados_vendas_censo_tratado['V003'] > 4) | (dados_vendas_censo_tratado['V003'] <= 2) | \\\n",
    "        ((dados_vendas_censo_tratado['V004'] > 3.2) | (dados_vendas_censo_tratado['V004'] <= 0.5))]\n",
    "grupo3_outliers.shape"
   ]
  },
  {
   "cell_type": "code",
   "execution_count": 23,
   "metadata": {},
   "outputs": [
    {
     "data": {
      "text/plain": [
       "(4412, 50)"
      ]
     },
     "execution_count": 23,
     "metadata": {},
     "output_type": "execute_result"
    }
   ],
   "source": [
    "# Removendo outliers do conjunto de variáveis numéricas do grupo3\n",
    "dados_vendas_censo_tratado = dados_vendas_censo_tratado.drop( labels=grupo3_outliers.index )\n",
    "dados_vendas_censo_tratado.shape"
   ]
  },
  {
   "cell_type": "code",
   "execution_count": 24,
   "metadata": {},
   "outputs": [
    {
     "data": {
      "image/png": "[encoded data removed]",
      "text/plain": [
       "<Figure size 1080x720 with 1 Axes>"
      ]
     },
     "metadata": {
      "needs_background": "light"
     },
     "output_type": "display_data"
    }
   ],
   "source": [
    "# Imprimindo box-plots de dados numéricos tratados - Grupo 3\n",
    "fig, ax = plt.subplots( figsize=(15, 10) )\n",
    "ax = sns.boxplot( data=dados_vendas_censo_tratado[grupo3] )\n",
    "\n",
    "plt.show()"
   ]
  },
  {
   "cell_type": "code",
   "execution_count": 25,
   "metadata": {},
   "outputs": [
    {
     "data": {
      "image/png": "[encoded data removed]",
      "text/plain": [
       "<Figure size 1080x720 with 1 Axes>"
      ]
     },
     "metadata": {
      "needs_background": "light"
     },
     "output_type": "display_data"
    }
   ],
   "source": [
    "# Imprimindo box-plots de dados numéricos - Grupo 4\n",
    "fig, ax = plt.subplots( figsize=(15, 10) )\n",
    "ax = sns.boxplot( data=dados_vendas_censo_tratado[grupo4] )\n",
    "\n",
    "plt.show()"
   ]
  },
  {
   "cell_type": "code",
   "execution_count": 26,
   "metadata": {},
   "outputs": [
    {
     "data": {
      "text/plain": [
       "(260, 50)"
      ]
     },
     "execution_count": 26,
     "metadata": {},
     "output_type": "execute_result"
    }
   ],
   "source": [
    "grupo4_outliers = dados_vendas_censo_tratado[(dados_vendas_censo_tratado['V005'] >= 15000) | (dados_vendas_censo_tratado['V007'] >= 15000) | \\\n",
    "        ((dados_vendas_censo_tratado['V009'] >= 15000) | (dados_vendas_censo_tratado['V011'] >= 15000))]\n",
    "grupo4_outliers.shape"
   ]
  },
  {
   "cell_type": "code",
   "execution_count": 27,
   "metadata": {},
   "outputs": [
    {
     "data": {
      "text/plain": [
       "(4152, 50)"
      ]
     },
     "execution_count": 27,
     "metadata": {},
     "output_type": "execute_result"
    }
   ],
   "source": [
    "# Removendo outliers do conjunto de variáveis numéricas do grupo3\n",
    "dados_vendas_censo_tratado = dados_vendas_censo_tratado.drop( labels=grupo4_outliers.index )\n",
    "dados_vendas_censo_tratado.shape"
   ]
  },
  {
   "cell_type": "code",
   "execution_count": 28,
   "metadata": {},
   "outputs": [
    {
     "data": {
      "image/png": "[encoded data removed]",
      "text/plain": [
       "<Figure size 1080x720 with 1 Axes>"
      ]
     },
     "metadata": {
      "needs_background": "light"
     },
     "output_type": "display_data"
    }
   ],
   "source": [
    "# Imprimindo box-plots de dados numéricos - Grupo 4\n",
    "fig, ax = plt.subplots( figsize=(15, 10) )\n",
    "ax = sns.boxplot( data=dados_vendas_censo_tratado[grupo4] )\n",
    "\n",
    "plt.show()"
   ]
  },
  {
   "cell_type": "code",
   "execution_count": 29,
   "metadata": {},
   "outputs": [
    {
     "data": {
      "image/png": "[encoded data removed]",
      "text/plain": [
       "<Figure size 1080x720 with 1 Axes>"
      ]
     },
     "metadata": {
      "needs_background": "light"
     },
     "output_type": "display_data"
    }
   ],
   "source": [
    "# Imprimindo box-plots de dados numéricos - Grupo 5\n",
    "fig, ax = plt.subplots( figsize=(15, 10) )\n",
    "ax = sns.boxplot( data=dados_vendas_censo_tratado[grupo5] )\n",
    "\n",
    "plt.show()"
   ]
  },
  {
   "cell_type": "code",
   "execution_count": 30,
   "metadata": {},
   "outputs": [
    {
     "data": {
      "text/plain": [
       "(1231, 50)"
      ]
     },
     "execution_count": 30,
     "metadata": {},
     "output_type": "execute_result"
    }
   ],
   "source": [
    "grupo5_outliers = dados_vendas_censo_tratado[(dados_vendas_censo_tratado['V006'] >= 6e7) | \\\n",
    "    (dados_vendas_censo_tratado['V008'] >= 6.2e7) | \\\n",
    "        (dados_vendas_censo_tratado['V010'] > 4e7) | (dados_vendas_censo_tratado['V012'] >= 5e7)]\n",
    "grupo5_outliers.shape"
   ]
  },
  {
   "cell_type": "code",
   "execution_count": 31,
   "metadata": {},
   "outputs": [
    {
     "data": {
      "text/plain": [
       "(2921, 50)"
      ]
     },
     "execution_count": 31,
     "metadata": {},
     "output_type": "execute_result"
    }
   ],
   "source": [
    "# Removendo outliers do conjunto de variáveis numéricas do grupo5\n",
    "dados_vendas_censo_tratado = dados_vendas_censo_tratado.drop( labels=grupo5_outliers.index )\n",
    "dados_vendas_censo_tratado.shape"
   ]
  },
  {
   "cell_type": "code",
   "execution_count": 32,
   "metadata": {},
   "outputs": [
    {
     "data": {
      "image/png": "[encoded data removed]",
      "text/plain": [
       "<Figure size 1080x720 with 1 Axes>"
      ]
     },
     "metadata": {
      "needs_background": "light"
     },
     "output_type": "display_data"
    }
   ],
   "source": [
    "# Imprimindo box-plots de dados numéricos tratados - Grupo 5\n",
    "fig, ax = plt.subplots( figsize=(15, 10) )\n",
    "ax = sns.boxplot( data=dados_vendas_censo_tratado[grupo5] )\n",
    "\n",
    "plt.show()"
   ]
  },
  {
   "cell_type": "code",
   "execution_count": 33,
   "metadata": {},
   "outputs": [
    {
     "data": {
      "image/png": "[encoded data removed]",
      "text/plain": [
       "<Figure size 1080x720 with 1 Axes>"
      ]
     },
     "metadata": {
      "needs_background": "light"
     },
     "output_type": "display_data"
    }
   ],
   "source": [
    "# Imprimindo box-plots de dados numéricos - Valor_m2\n",
    "fig, ax = plt.subplots( figsize=(15, 10) )\n",
    "ax = sns.boxplot( data=dados_vendas_censo_tratado, x='Metragem' )\n",
    "\n",
    "plt.show()"
   ]
  },
  {
   "cell_type": "code",
   "execution_count": 34,
   "metadata": {},
   "outputs": [
    {
     "data": {
      "text/plain": [
       "(185, 50)"
      ]
     },
     "execution_count": 34,
     "metadata": {},
     "output_type": "execute_result"
    }
   ],
   "source": [
    "outliers_Metragem = dados_vendas_censo_tratado[(dados_vendas_censo_tratado['Metragem'] >= 450)]\n",
    "outliers_Metragem.shape"
   ]
  },
  {
   "cell_type": "code",
   "execution_count": 35,
   "metadata": {},
   "outputs": [
    {
     "data": {
      "text/plain": [
       "(2736, 50)"
      ]
     },
     "execution_count": 35,
     "metadata": {},
     "output_type": "execute_result"
    }
   ],
   "source": [
    "# Removendo outliers do conjunto de variáveis numéricas do grupo3\n",
    "dados_vendas_censo_tratado = dados_vendas_censo_tratado.drop( labels=outliers_Metragem.index )\n",
    "dados_vendas_censo_tratado.shape"
   ]
  },
  {
   "cell_type": "code",
   "execution_count": 36,
   "metadata": {},
   "outputs": [
    {
     "data": {
      "image/png": "[encoded data removed]",
      "text/plain": [
       "<Figure size 1080x720 with 1 Axes>"
      ]
     },
     "metadata": {
      "needs_background": "light"
     },
     "output_type": "display_data"
    }
   ],
   "source": [
    "# Imprimindo box-plots de dados numéricos tratados - Valor_m2\n",
    "fig, ax = plt.subplots( figsize=(15, 10) )\n",
    "ax = sns.boxplot( data=dados_vendas_censo_tratado, x='Metragem' )\n",
    "\n",
    "plt.show()"
   ]
  },
  {
   "cell_type": "code",
   "execution_count": 37,
   "metadata": {},
   "outputs": [
    {
     "data": {
      "image/png": "[encoded data removed]",
      "text/plain": [
       "<Figure size 1080x720 with 1 Axes>"
      ]
     },
     "metadata": {
      "needs_background": "light"
     },
     "output_type": "display_data"
    }
   ],
   "source": [
    "# Imprimindo box-plots de dados numéricos - Valor_m2\n",
    "fig, ax = plt.subplots( figsize=(15, 10) )\n",
    "ax = sns.boxplot( data=dados_vendas_censo_tratado, x='Valor_m2' )\n",
    "\n",
    "plt.show()"
   ]
  },
  {
   "cell_type": "code",
   "execution_count": 38,
   "metadata": {},
   "outputs": [
    {
     "data": {
      "text/plain": [
       "(153, 50)"
      ]
     },
     "execution_count": 38,
     "metadata": {},
     "output_type": "execute_result"
    }
   ],
   "source": [
    "outliers_Valor_m2 = dados_vendas_censo_tratado[(dados_vendas_censo_tratado['Valor_m2'] >= 12000)]\n",
    "outliers_Valor_m2.shape"
   ]
  },
  {
   "cell_type": "code",
   "execution_count": 39,
   "metadata": {},
   "outputs": [
    {
     "data": {
      "text/plain": [
       "(2583, 50)"
      ]
     },
     "execution_count": 39,
     "metadata": {},
     "output_type": "execute_result"
    }
   ],
   "source": [
    "# Removendo outliers do conjunto de variáveis numéricas do grupo3\n",
    "dados_vendas_censo_tratado = dados_vendas_censo_tratado.drop( labels=outliers_Valor_m2.index )\n",
    "dados_vendas_censo_tratado.shape"
   ]
  },
  {
   "cell_type": "code",
   "execution_count": 40,
   "metadata": {},
   "outputs": [
    {
     "data": {
      "image/png": "[encoded data removed]",
      "text/plain": [
       "<Figure size 1080x720 with 1 Axes>"
      ]
     },
     "metadata": {
      "needs_background": "light"
     },
     "output_type": "display_data"
    }
   ],
   "source": [
    "# Imprimindo box-plots de dados numéricos tratados - Valor_m2\n",
    "fig, ax = plt.subplots( figsize=(15, 10) )\n",
    "ax = sns.boxplot( data=dados_vendas_censo_tratado, x='Valor_m2' )\n",
    "\n",
    "plt.show()"
   ]
  },
  {
   "cell_type": "code",
   "execution_count": 45,
   "metadata": {},
   "outputs": [
    {
     "data": {
      "text/plain": [
       "(2583, 50)"
      ]
     },
     "execution_count": 45,
     "metadata": {},
     "output_type": "execute_result"
    }
   ],
   "source": [
    "dados_vendas_censo_tratado.shape"
   ]
  },
  {
   "cell_type": "code",
   "execution_count": 46,
   "metadata": {},
   "outputs": [],
   "source": [
    "dados_vendas_censo_tratado.to_csv( '../assets/dados_vendas_censo_tratado.csv' )"
   ]
  },
  {
   "cell_type": "markdown",
   "metadata": {},
   "source": [
    "## [DESAFIO 3] Agrupar por mais de uma categoria e realizar as análises."
   ]
  },
  {
   "cell_type": "code",
   "execution_count": 41,
   "metadata": {},
   "outputs": [
    {
     "data": {
      "text/html": [
       "<div>\n",
       "<style scoped>\n",
       "    .dataframe tbody tr th:only-of-type {\n",
       "        vertical-align: middle;\n",
       "    }\n",
       "\n",
       "    .dataframe tbody tr th {\n",
       "        vertical-align: top;\n",
       "    }\n",
       "\n",
       "    .dataframe thead th {\n",
       "        text-align: right;\n",
       "    }\n",
       "</style>\n",
       "<table border=\"1\" class=\"dataframe\">\n",
       "  <thead>\n",
       "    <tr style=\"text-align: right;\">\n",
       "      <th></th>\n",
       "      <th>Rua</th>\n",
       "      <th>Bairro</th>\n",
       "      <th>Cidade</th>\n",
       "      <th>Metragem</th>\n",
       "      <th>Quartos</th>\n",
       "      <th>Banheiros</th>\n",
       "      <th>Vagas</th>\n",
       "      <th>Valor</th>\n",
       "      <th>Valor_anuncio</th>\n",
       "      <th>Valor_mm</th>\n",
       "      <th>Valor_m2</th>\n",
       "      <th>rua</th>\n",
       "      <th>cep</th>\n",
       "      <th>latitude</th>\n",
       "      <th>longitude</th>\n",
       "      <th>Point</th>\n",
       "      <th>setor_censo</th>\n",
       "      <th>Cod_setor</th>\n",
       "      <th>Cod_Grandes Regiï¿½es</th>\n",
       "      <th>Nome_Grande_Regiao</th>\n",
       "      <th>Cod_UF</th>\n",
       "      <th>Nome_da_UF</th>\n",
       "      <th>Cod_meso</th>\n",
       "      <th>Nome_da_meso</th>\n",
       "      <th>Cod_micro</th>\n",
       "      <th>Nome_da_micro</th>\n",
       "      <th>Cod_RM</th>\n",
       "      <th>Nome_da_RM</th>\n",
       "      <th>Cod_municipio</th>\n",
       "      <th>Nome_do_municipio</th>\n",
       "      <th>Cod_distrito</th>\n",
       "      <th>Nome_do_distrito</th>\n",
       "      <th>Cod_subdistrito</th>\n",
       "      <th>Nome_do_subdistrito</th>\n",
       "      <th>Cod_bairro</th>\n",
       "      <th>Nome_do_bairro</th>\n",
       "      <th>Situacao_setor</th>\n",
       "      <th>Tipo_setor</th>\n",
       "      <th>V001</th>\n",
       "      <th>V002</th>\n",
       "      <th>V003</th>\n",
       "      <th>V004</th>\n",
       "      <th>V005</th>\n",
       "      <th>V006</th>\n",
       "      <th>V007</th>\n",
       "      <th>V008</th>\n",
       "      <th>V009</th>\n",
       "      <th>V010</th>\n",
       "      <th>V011</th>\n",
       "      <th>V012</th>\n",
       "    </tr>\n",
       "  </thead>\n",
       "  <tbody>\n",
       "    <tr>\n",
       "      <th>2</th>\n",
       "      <td>Rua Alba Valdez</td>\n",
       "      <td>Jardim Reimberg</td>\n",
       "      <td>São Paulo</td>\n",
       "      <td>125</td>\n",
       "      <td>4</td>\n",
       "      <td>3</td>\n",
       "      <td>2</td>\n",
       "      <td>R$ 380.000</td>\n",
       "      <td>380000.00</td>\n",
       "      <td>0.38</td>\n",
       "      <td>3040.00</td>\n",
       "      <td>Rua Alba Valdez</td>\n",
       "      <td>4845200.00</td>\n",
       "      <td>-23.75</td>\n",
       "      <td>-46.70</td>\n",
       "      <td>POINT (-46.6958895 -23.75299)</td>\n",
       "      <td>355030830000050.00</td>\n",
       "      <td>355030830000050.00</td>\n",
       "      <td>3.00</td>\n",
       "      <td>Regiï¿½o Sudeste</td>\n",
       "      <td>35.00</td>\n",
       "      <td>Sï¿½o Paulo</td>\n",
       "      <td>3515.00</td>\n",
       "      <td>Metropolitana de Sï¿½o Paulo</td>\n",
       "      <td>35061.00</td>\n",
       "      <td>Sï¿½o Paulo</td>\n",
       "      <td>20.00</td>\n",
       "      <td>RM Sï¿½o Paulo</td>\n",
       "      <td>3550308.00</td>\n",
       "      <td>Sï¿½O PAULO</td>\n",
       "      <td>355030830.00</td>\n",
       "      <td>GRAJAï¿½</td>\n",
       "      <td>35503083000.00</td>\n",
       "      <td>GRAJAï¿½</td>\n",
       "      <td>3550308000.00</td>\n",
       "      <td>Sï¿½O PAULO (todos os setores)</td>\n",
       "      <td>1.00</td>\n",
       "      <td>0.00</td>\n",
       "      <td>142.00</td>\n",
       "      <td>493.00</td>\n",
       "      <td>3.47</td>\n",
       "      <td>3.06</td>\n",
       "      <td>805.13</td>\n",
       "      <td>769188.78</td>\n",
       "      <td>1011.75</td>\n",
       "      <td>757433.42</td>\n",
       "      <td>518.77</td>\n",
       "      <td>426672.78</td>\n",
       "      <td>858.51</td>\n",
       "      <td>414378.88</td>\n",
       "    </tr>\n",
       "    <tr>\n",
       "      <th>3</th>\n",
       "      <td>Rua Tobias Barreto, 195</td>\n",
       "      <td>Mooca</td>\n",
       "      <td>São Paulo</td>\n",
       "      <td>100</td>\n",
       "      <td>3</td>\n",
       "      <td>2</td>\n",
       "      <td>2</td>\n",
       "      <td>R$ 540.000</td>\n",
       "      <td>540000.00</td>\n",
       "      <td>0.54</td>\n",
       "      <td>5400.00</td>\n",
       "      <td>Rua Tobias Barreto</td>\n",
       "      <td>3176000.00</td>\n",
       "      <td>-23.55</td>\n",
       "      <td>-46.59</td>\n",
       "      <td>POINT (-46.5881729 -23.5499597)</td>\n",
       "      <td>355030808000050.00</td>\n",
       "      <td>355030808000050.00</td>\n",
       "      <td>3.00</td>\n",
       "      <td>Regiï¿½o Sudeste</td>\n",
       "      <td>35.00</td>\n",
       "      <td>Sï¿½o Paulo</td>\n",
       "      <td>3515.00</td>\n",
       "      <td>Metropolitana de Sï¿½o Paulo</td>\n",
       "      <td>35061.00</td>\n",
       "      <td>Sï¿½o Paulo</td>\n",
       "      <td>20.00</td>\n",
       "      <td>RM Sï¿½o Paulo</td>\n",
       "      <td>3550308.00</td>\n",
       "      <td>Sï¿½O PAULO</td>\n",
       "      <td>355030808.00</td>\n",
       "      <td>BELï¿½M</td>\n",
       "      <td>35503080800.00</td>\n",
       "      <td>BELï¿½M</td>\n",
       "      <td>3550308000.00</td>\n",
       "      <td>Sï¿½O PAULO (todos os setores)</td>\n",
       "      <td>1.00</td>\n",
       "      <td>0.00</td>\n",
       "      <td>156.00</td>\n",
       "      <td>468.00</td>\n",
       "      <td>3.00</td>\n",
       "      <td>1.99</td>\n",
       "      <td>2338.05</td>\n",
       "      <td>7826370.15</td>\n",
       "      <td>2447.89</td>\n",
       "      <td>7925839.76</td>\n",
       "      <td>1543.29</td>\n",
       "      <td>4646566.16</td>\n",
       "      <td>1909.04</td>\n",
       "      <td>5050712.69</td>\n",
       "    </tr>\n",
       "    <tr>\n",
       "      <th>4</th>\n",
       "      <td>Rua Graham Bell</td>\n",
       "      <td>Santo Amaro</td>\n",
       "      <td>São Paulo</td>\n",
       "      <td>440</td>\n",
       "      <td>4</td>\n",
       "      <td>4</td>\n",
       "      <td>6</td>\n",
       "      <td>R$ 1.980.000</td>\n",
       "      <td>1980000.00</td>\n",
       "      <td>1.98</td>\n",
       "      <td>4500.00</td>\n",
       "      <td>Rua Graham Bell</td>\n",
       "      <td>4737030.00</td>\n",
       "      <td>-23.59</td>\n",
       "      <td>-46.76</td>\n",
       "      <td>POINT (-46.7600773 -23.5937964)</td>\n",
       "      <td>355030865000169.00</td>\n",
       "      <td>355030865000169.00</td>\n",
       "      <td>3.00</td>\n",
       "      <td>Regiï¿½o Sudeste</td>\n",
       "      <td>35.00</td>\n",
       "      <td>Sï¿½o Paulo</td>\n",
       "      <td>3515.00</td>\n",
       "      <td>Metropolitana de Sï¿½o Paulo</td>\n",
       "      <td>35061.00</td>\n",
       "      <td>Sï¿½o Paulo</td>\n",
       "      <td>20.00</td>\n",
       "      <td>RM Sï¿½o Paulo</td>\n",
       "      <td>3550308.00</td>\n",
       "      <td>Sï¿½O PAULO</td>\n",
       "      <td>355030865.00</td>\n",
       "      <td>RAPOSO TAVARES</td>\n",
       "      <td>35503086500.00</td>\n",
       "      <td>RAPOSO TAVARES</td>\n",
       "      <td>3550308000.00</td>\n",
       "      <td>Sï¿½O PAULO (todos os setores)</td>\n",
       "      <td>1.00</td>\n",
       "      <td>0.00</td>\n",
       "      <td>107.00</td>\n",
       "      <td>376.00</td>\n",
       "      <td>3.51</td>\n",
       "      <td>2.31</td>\n",
       "      <td>1026.36</td>\n",
       "      <td>272168.67</td>\n",
       "      <td>1143.96</td>\n",
       "      <td>167733.64</td>\n",
       "      <td>735.67</td>\n",
       "      <td>367088.08</td>\n",
       "      <td>1086.94</td>\n",
       "      <td>159622.46</td>\n",
       "    </tr>\n",
       "    <tr>\n",
       "      <th>5</th>\n",
       "      <td>Rua Francisco Paulo, 31</td>\n",
       "      <td>Cidade Mãe do Céu</td>\n",
       "      <td>São Paulo</td>\n",
       "      <td>145</td>\n",
       "      <td>4</td>\n",
       "      <td>4</td>\n",
       "      <td>2</td>\n",
       "      <td>R$ 850.000</td>\n",
       "      <td>850000.00</td>\n",
       "      <td>0.85</td>\n",
       "      <td>5862.07</td>\n",
       "      <td>Rua Francisco Paulo</td>\n",
       "      <td>3306050.00</td>\n",
       "      <td>-23.52</td>\n",
       "      <td>-46.52</td>\n",
       "      <td>POINT (-46.5164525 -23.5222541)</td>\n",
       "      <td>355030859000013.00</td>\n",
       "      <td>355030859000013.00</td>\n",
       "      <td>3.00</td>\n",
       "      <td>Regiï¿½o Sudeste</td>\n",
       "      <td>35.00</td>\n",
       "      <td>Sï¿½o Paulo</td>\n",
       "      <td>3515.00</td>\n",
       "      <td>Metropolitana de Sï¿½o Paulo</td>\n",
       "      <td>35061.00</td>\n",
       "      <td>Sï¿½o Paulo</td>\n",
       "      <td>20.00</td>\n",
       "      <td>RM Sï¿½o Paulo</td>\n",
       "      <td>3550308.00</td>\n",
       "      <td>Sï¿½O PAULO</td>\n",
       "      <td>355030859.00</td>\n",
       "      <td>PENHA</td>\n",
       "      <td>35503085900.00</td>\n",
       "      <td>PENHA</td>\n",
       "      <td>3550308000.00</td>\n",
       "      <td>Sï¿½O PAULO (todos os setores)</td>\n",
       "      <td>1.00</td>\n",
       "      <td>0.00</td>\n",
       "      <td>222.00</td>\n",
       "      <td>654.00</td>\n",
       "      <td>2.95</td>\n",
       "      <td>2.18</td>\n",
       "      <td>1580.84</td>\n",
       "      <td>4440789.58</td>\n",
       "      <td>1897.01</td>\n",
       "      <td>4730743.23</td>\n",
       "      <td>1284.45</td>\n",
       "      <td>2578384.56</td>\n",
       "      <td>1743.39</td>\n",
       "      <td>2699812.75</td>\n",
       "    </tr>\n",
       "    <tr>\n",
       "      <th>6</th>\n",
       "      <td>Rua Guilherme Valente, 150</td>\n",
       "      <td>Jardim Vergueiro</td>\n",
       "      <td>São Paulo</td>\n",
       "      <td>150</td>\n",
       "      <td>2</td>\n",
       "      <td>2</td>\n",
       "      <td>2</td>\n",
       "      <td>R$ 450.000</td>\n",
       "      <td>450000.00</td>\n",
       "      <td>0.45</td>\n",
       "      <td>3000.00</td>\n",
       "      <td>Rua Guilherme Valente</td>\n",
       "      <td>5818280.00</td>\n",
       "      <td>-23.66</td>\n",
       "      <td>-46.73</td>\n",
       "      <td>POINT (-46.7339399 -23.6647336)</td>\n",
       "      <td>355030846000047.00</td>\n",
       "      <td>355030846000047.00</td>\n",
       "      <td>3.00</td>\n",
       "      <td>Regiï¿½o Sudeste</td>\n",
       "      <td>35.00</td>\n",
       "      <td>Sï¿½o Paulo</td>\n",
       "      <td>3515.00</td>\n",
       "      <td>Metropolitana de Sï¿½o Paulo</td>\n",
       "      <td>35061.00</td>\n",
       "      <td>Sï¿½o Paulo</td>\n",
       "      <td>20.00</td>\n",
       "      <td>RM Sï¿½o Paulo</td>\n",
       "      <td>3550308.00</td>\n",
       "      <td>Sï¿½O PAULO</td>\n",
       "      <td>355030846.00</td>\n",
       "      <td>JARDIM Sï¿½O LUï¿½S</td>\n",
       "      <td>35503084600.00</td>\n",
       "      <td>JARDIM Sï¿½O LUï¿½S</td>\n",
       "      <td>3550308000.00</td>\n",
       "      <td>Sï¿½O PAULO (todos os setores)</td>\n",
       "      <td>1.00</td>\n",
       "      <td>0.00</td>\n",
       "      <td>305.00</td>\n",
       "      <td>984.00</td>\n",
       "      <td>3.23</td>\n",
       "      <td>2.13</td>\n",
       "      <td>1613.93</td>\n",
       "      <td>33332390.49</td>\n",
       "      <td>1721.15</td>\n",
       "      <td>35369361.97</td>\n",
       "      <td>880.61</td>\n",
       "      <td>12700171.03</td>\n",
       "      <td>1333.63</td>\n",
       "      <td>18640212.36</td>\n",
       "    </tr>\n",
       "  </tbody>\n",
       "</table>\n",
       "</div>"
      ],
      "text/plain": [
       "                           Rua             Bairro     Cidade  Metragem  \\\n",
       "2              Rua Alba Valdez    Jardim Reimberg  São Paulo       125   \n",
       "3     Rua Tobias Barreto, 195               Mooca  São Paulo       100   \n",
       "4              Rua Graham Bell        Santo Amaro  São Paulo       440   \n",
       "5     Rua Francisco Paulo, 31   Cidade Mãe do Céu  São Paulo       145   \n",
       "6  Rua Guilherme Valente, 150    Jardim Vergueiro  São Paulo       150   \n",
       "\n",
       "   Quartos  Banheiros  Vagas         Valor  Valor_anuncio  Valor_mm  Valor_m2  \\\n",
       "2        4          3      2    R$ 380.000      380000.00      0.38   3040.00   \n",
       "3        3          2      2    R$ 540.000      540000.00      0.54   5400.00   \n",
       "4        4          4      6  R$ 1.980.000     1980000.00      1.98   4500.00   \n",
       "5        4          4      2    R$ 850.000      850000.00      0.85   5862.07   \n",
       "6        2          2      2    R$ 450.000      450000.00      0.45   3000.00   \n",
       "\n",
       "                     rua        cep  latitude  longitude  \\\n",
       "2        Rua Alba Valdez 4845200.00    -23.75     -46.70   \n",
       "3     Rua Tobias Barreto 3176000.00    -23.55     -46.59   \n",
       "4        Rua Graham Bell 4737030.00    -23.59     -46.76   \n",
       "5    Rua Francisco Paulo 3306050.00    -23.52     -46.52   \n",
       "6  Rua Guilherme Valente 5818280.00    -23.66     -46.73   \n",
       "\n",
       "                             Point        setor_censo          Cod_setor  \\\n",
       "2    POINT (-46.6958895 -23.75299) 355030830000050.00 355030830000050.00   \n",
       "3  POINT (-46.5881729 -23.5499597) 355030808000050.00 355030808000050.00   \n",
       "4  POINT (-46.7600773 -23.5937964) 355030865000169.00 355030865000169.00   \n",
       "5  POINT (-46.5164525 -23.5222541) 355030859000013.00 355030859000013.00   \n",
       "6  POINT (-46.7339399 -23.6647336) 355030846000047.00 355030846000047.00   \n",
       "\n",
       "   Cod_Grandes Regiï¿½es Nome_Grande_Regiao  Cod_UF  Nome_da_UF   Cod_meso  \\\n",
       "2                   3.00   Regiï¿½o Sudeste   35.00  Sï¿½o Paulo   3515.00   \n",
       "3                   3.00   Regiï¿½o Sudeste   35.00  Sï¿½o Paulo   3515.00   \n",
       "4                   3.00   Regiï¿½o Sudeste   35.00  Sï¿½o Paulo   3515.00   \n",
       "5                   3.00   Regiï¿½o Sudeste   35.00  Sï¿½o Paulo   3515.00   \n",
       "6                   3.00   Regiï¿½o Sudeste   35.00  Sï¿½o Paulo   3515.00   \n",
       "\n",
       "                   Nome_da_meso  Cod_micro Nome_da_micro  Cod_RM  \\\n",
       "2  Metropolitana de Sï¿½o Paulo   35061.00   Sï¿½o Paulo   20.00   \n",
       "3  Metropolitana de Sï¿½o Paulo   35061.00   Sï¿½o Paulo   20.00   \n",
       "4  Metropolitana de Sï¿½o Paulo   35061.00   Sï¿½o Paulo   20.00   \n",
       "5  Metropolitana de Sï¿½o Paulo   35061.00   Sï¿½o Paulo   20.00   \n",
       "6  Metropolitana de Sï¿½o Paulo   35061.00   Sï¿½o Paulo   20.00   \n",
       "\n",
       "       Nome_da_RM  Cod_municipio Nome_do_municipio  Cod_distrito  \\\n",
       "2  RM Sï¿½o Paulo     3550308.00       Sï¿½O PAULO  355030830.00   \n",
       "3  RM Sï¿½o Paulo     3550308.00       Sï¿½O PAULO  355030808.00   \n",
       "4  RM Sï¿½o Paulo     3550308.00       Sï¿½O PAULO  355030865.00   \n",
       "5  RM Sï¿½o Paulo     3550308.00       Sï¿½O PAULO  355030859.00   \n",
       "6  RM Sï¿½o Paulo     3550308.00       Sï¿½O PAULO  355030846.00   \n",
       "\n",
       "      Nome_do_distrito  Cod_subdistrito  Nome_do_subdistrito    Cod_bairro  \\\n",
       "2             GRAJAï¿½   35503083000.00             GRAJAï¿½ 3550308000.00   \n",
       "3              BELï¿½M   35503080800.00              BELï¿½M 3550308000.00   \n",
       "4       RAPOSO TAVARES   35503086500.00       RAPOSO TAVARES 3550308000.00   \n",
       "5                PENHA   35503085900.00                PENHA 3550308000.00   \n",
       "6  JARDIM Sï¿½O LUï¿½S   35503084600.00  JARDIM Sï¿½O LUï¿½S 3550308000.00   \n",
       "\n",
       "                   Nome_do_bairro  Situacao_setor  Tipo_setor   V001   V002  \\\n",
       "2  Sï¿½O PAULO (todos os setores)            1.00        0.00 142.00 493.00   \n",
       "3  Sï¿½O PAULO (todos os setores)            1.00        0.00 156.00 468.00   \n",
       "4  Sï¿½O PAULO (todos os setores)            1.00        0.00 107.00 376.00   \n",
       "5  Sï¿½O PAULO (todos os setores)            1.00        0.00 222.00 654.00   \n",
       "6  Sï¿½O PAULO (todos os setores)            1.00        0.00 305.00 984.00   \n",
       "\n",
       "   V003  V004    V005        V006    V007        V008    V009        V010  \\\n",
       "2  3.47  3.06  805.13   769188.78 1011.75   757433.42  518.77   426672.78   \n",
       "3  3.00  1.99 2338.05  7826370.15 2447.89  7925839.76 1543.29  4646566.16   \n",
       "4  3.51  2.31 1026.36   272168.67 1143.96   167733.64  735.67   367088.08   \n",
       "5  2.95  2.18 1580.84  4440789.58 1897.01  4730743.23 1284.45  2578384.56   \n",
       "6  3.23  2.13 1613.93 33332390.49 1721.15 35369361.97  880.61 12700171.03   \n",
       "\n",
       "     V011        V012  \n",
       "2  858.51   414378.88  \n",
       "3 1909.04  5050712.69  \n",
       "4 1086.94   159622.46  \n",
       "5 1743.39  2699812.75  \n",
       "6 1333.63 18640212.36  "
      ]
     },
     "execution_count": 41,
     "metadata": {},
     "output_type": "execute_result"
    }
   ],
   "source": [
    "dados_vendas_censo_tratado.head()"
   ]
  },
  {
   "cell_type": "code",
   "execution_count": 42,
   "metadata": {},
   "outputs": [
    {
     "data": {
      "text/plain": [
       "Metragem  Valor_anuncio\n",
       "36        190000.00       1116.38\n",
       "          196000.00       1116.38\n",
       "46        290000.00       1285.20\n",
       "48        199900.00       1692.15\n",
       "50        200000.00       1627.47\n",
       "                            ...  \n",
       "445       1970000.00      1026.36\n",
       "          1980000.00      1026.36\n",
       "          3000000.00      4759.61\n",
       "447       3999000.00      7823.49\n",
       "          4000000.00      7823.49\n",
       "Name: V005, Length: 2204, dtype: float64"
      ]
     },
     "execution_count": 42,
     "metadata": {},
     "output_type": "execute_result"
    }
   ],
   "source": [
    "agrupamento_bivariado = dados_vendas_censo_tratado.groupby( ['Metragem', 'Valor_anuncio'] )['V005'].agg('mean')\n",
    "agrupamento_bivariado"
   ]
  },
  {
   "cell_type": "code",
   "execution_count": 43,
   "metadata": {},
   "outputs": [
    {
     "data": {
      "image/png": "[encoded data removed]",
      "text/plain": [
       "<Figure size 1080x720 with 1 Axes>"
      ]
     },
     "metadata": {
      "needs_background": "light"
     },
     "output_type": "display_data"
    }
   ],
   "source": [
    "fig, ax = plt.subplots( figsize=(15, 10) )\n",
    "\n",
    "ax = sns.histplot( agrupamento_bivariado )\n",
    "\n",
    "plt.show()"
   ]
  },
  {
   "cell_type": "markdown",
   "metadata": {},
   "source": [
    "## [DESAFIO 4] Organize o colab para deixar com cara de projeto e fazer comentários no código."
   ]
  },
  {
   "cell_type": "code",
   "execution_count": 44,
   "metadata": {},
   "outputs": [
    {
     "name": "stdout",
     "output_type": "stream",
     "text": [
      "Feito!!!\n"
     ]
    }
   ],
   "source": [
    "print( \"Feito!!!\" )"
   ]
  }
 ],
 "metadata": {
  "interpreter": {
   "hash": "5a565e8623b8526f269006af87b2f1d2db4f0298de2bc03cd880e997e0f4b652"
  },
  "kernelspec": {
   "display_name": "Python 3.10.4 ('imersao_dados_04')",
   "language": "python",
   "name": "python3"
  },
  "language_info": {
   "codemirror_mode": {
    "name": "ipython",
    "version": 3
   },
   "file_extension": ".py",
   "mimetype": "text/x-python",
   "name": "python",
   "nbconvert_exporter": "python",
   "pygments_lexer": "ipython3",
   "version": "3.10.4"
  },
  "orig_nbformat": 4
 },
 "nbformat": 4,
 "nbformat_minor": 2
}
