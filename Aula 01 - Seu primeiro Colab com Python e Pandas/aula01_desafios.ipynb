{
 "cells": [
  {
   "cell_type": "markdown",
   "metadata": {},
   "source": [
    "# Imersão de Dados 04 - Pesquisa de Imóveis em São Paulo"
   ]
  },
  {
   "cell_type": "markdown",
   "metadata": {},
   "source": [
    "# Aula 01"
   ]
  },
  {
   "cell_type": "code",
   "execution_count": 2,
   "metadata": {},
   "outputs": [],
   "source": [
    "import pandas as pd\n",
    "import numpy as np\n",
    "import matplotlib.pyplot as plt\n",
    "import seaborn as sns"
   ]
  },
  {
   "cell_type": "code",
   "execution_count": 3,
   "metadata": {},
   "outputs": [
    {
     "data": {
      "text/html": [
       "<div>\n",
       "<style scoped>\n",
       "    .dataframe tbody tr th:only-of-type {\n",
       "        vertical-align: middle;\n",
       "    }\n",
       "\n",
       "    .dataframe tbody tr th {\n",
       "        vertical-align: top;\n",
       "    }\n",
       "\n",
       "    .dataframe thead th {\n",
       "        text-align: right;\n",
       "    }\n",
       "</style>\n",
       "<table border=\"1\" class=\"dataframe\">\n",
       "  <thead>\n",
       "    <tr style=\"text-align: right;\">\n",
       "      <th></th>\n",
       "      <th>Rua</th>\n",
       "      <th>Bairro</th>\n",
       "      <th>Cidade</th>\n",
       "      <th>Metragem</th>\n",
       "      <th>Quartos</th>\n",
       "      <th>Banheiros</th>\n",
       "      <th>Vagas</th>\n",
       "      <th>Valor</th>\n",
       "    </tr>\n",
       "  </thead>\n",
       "  <tbody>\n",
       "    <tr>\n",
       "      <th>0</th>\n",
       "      <td>Avenida Itacira, 255</td>\n",
       "      <td>Planalto Paulista</td>\n",
       "      <td>São Paulo</td>\n",
       "      <td>1000</td>\n",
       "      <td>4</td>\n",
       "      <td>8</td>\n",
       "      <td>6</td>\n",
       "      <td>R$ 7.000.000</td>\n",
       "    </tr>\n",
       "    <tr>\n",
       "      <th>1</th>\n",
       "      <td>Rua Aurelia Perez Alvarez, 42</td>\n",
       "      <td>Jardim dos Estados</td>\n",
       "      <td>São Paulo</td>\n",
       "      <td>496</td>\n",
       "      <td>4</td>\n",
       "      <td>4</td>\n",
       "      <td>4</td>\n",
       "      <td>R$ 3.700.000</td>\n",
       "    </tr>\n",
       "    <tr>\n",
       "      <th>2</th>\n",
       "      <td>Rua Alba Valdez</td>\n",
       "      <td>Jardim Reimberg</td>\n",
       "      <td>São Paulo</td>\n",
       "      <td>125</td>\n",
       "      <td>4</td>\n",
       "      <td>3</td>\n",
       "      <td>2</td>\n",
       "      <td>R$ 380.000</td>\n",
       "    </tr>\n",
       "    <tr>\n",
       "      <th>3</th>\n",
       "      <td>NaN</td>\n",
       "      <td>Jardim Morumbi</td>\n",
       "      <td>São Paulo</td>\n",
       "      <td>310</td>\n",
       "      <td>3</td>\n",
       "      <td>2</td>\n",
       "      <td>4</td>\n",
       "      <td>R$ 685.000</td>\n",
       "    </tr>\n",
       "    <tr>\n",
       "      <th>4</th>\n",
       "      <td>Rua Tobias Barreto, 195</td>\n",
       "      <td>Mooca</td>\n",
       "      <td>São Paulo</td>\n",
       "      <td>100</td>\n",
       "      <td>3</td>\n",
       "      <td>2</td>\n",
       "      <td>2</td>\n",
       "      <td>R$ 540.000</td>\n",
       "    </tr>\n",
       "  </tbody>\n",
       "</table>\n",
       "</div>"
      ],
      "text/plain": [
       "                              Rua              Bairro     Cidade  Metragem  \\\n",
       "0           Avenida Itacira, 255    Planalto Paulista  São Paulo      1000   \n",
       "1  Rua Aurelia Perez Alvarez, 42   Jardim dos Estados  São Paulo       496   \n",
       "2                 Rua Alba Valdez     Jardim Reimberg  São Paulo       125   \n",
       "3                             NaN      Jardim Morumbi  São Paulo       310   \n",
       "4        Rua Tobias Barreto, 195                Mooca  São Paulo       100   \n",
       "\n",
       "   Quartos  Banheiros  Vagas         Valor  \n",
       "0        4          8      6  R$ 7.000.000  \n",
       "1        4          4      4  R$ 3.700.000  \n",
       "2        4          3      2    R$ 380.000  \n",
       "3        3          2      4    R$ 685.000  \n",
       "4        3          2      2    R$ 540.000  "
      ]
     },
     "execution_count": 3,
     "metadata": {},
     "output_type": "execute_result"
    }
   ],
   "source": [
    "url = \"https://gist.githubusercontent.com/tgcsantos/3bdb29eba6ce391e90df2b72205ba891/raw/22fa920e80c9fa209a9fccc8b52d74cc95d1599b/dados_imoveis.csv\"\n",
    "\n",
    "data = pd.read_csv( url )\n",
    "data.head()"
   ]
  },
  {
   "cell_type": "markdown",
   "metadata": {},
   "source": [
    "### DESAFIOS:\n",
    "1. Realizar a média da metragem para cada um dos bairros. (Proposto pelo Paulo)\n",
    "2. Duas formas de selecionar os dados por bairro (consultar os métodos na documentação do Pandas). (Proposto pelo Thiago)\n",
    "3. Explorar alguns gráficos na documentação e aplicar nas demais colunas do DF, assim como tentar colocar alguma conclusão. (Proposto pelo Thiago)\n",
    "4. Pegar outras estatísticas dos dados (como média, mediana, mim, max). (Proposto pela Vivian)\n",
    "5. Descobrir quais são os bairros que não tem nome de rua. (Proposto pela Vivian)"
   ]
  },
  {
   "cell_type": "markdown",
   "metadata": {},
   "source": [
    "#### 1. Realizar a média da metragem para cada um dos bairros"
   ]
  },
  {
   "cell_type": "code",
   "execution_count": 4,
   "metadata": {},
   "outputs": [
    {
     "data": {
      "text/plain": [
       "Bairro\n",
       "Sítio Represa                         37000.000000\n",
       "Vila Castelo                           2850.000000\n",
       "Jardim Guedala                         2486.640199\n",
       "Jardim das Camélias                    1700.000000\n",
       "Chácara Flora                          1260.727273\n",
       "                                          ...     \n",
       "Cidade Antônio Estevão de Carvalho       57.500000\n",
       "Jardim Nova Germania                     57.000000\n",
       "Jardim Benfica                           48.000000\n",
       "Vila Leonor                              46.000000\n",
       "Vila Guaca                               10.000000\n",
       "Name: Metragem, Length: 701, dtype: float64"
      ]
     },
     "execution_count": 4,
     "metadata": {},
     "output_type": "execute_result"
    }
   ],
   "source": [
    "metragem_por_bairro = data.groupby( \"Bairro\" )[\"Metragem\"].mean().sort_values( ascending=False )\n",
    "metragem_por_bairro"
   ]
  },
  {
   "cell_type": "markdown",
   "metadata": {},
   "source": [
    "#### 2. Duas formas de selecionar os dados por bairro"
   ]
  },
  {
   "cell_type": "code",
   "execution_count": 5,
   "metadata": {},
   "outputs": [
    {
     "data": {
      "text/plain": [
       "0     Planalto Paulista\n",
       "1    Jardim dos Estados\n",
       "2       Jardim Reimberg\n",
       "3        Jardim Morumbi\n",
       "4                 Mooca\n",
       "Name: Bairro, dtype: object"
      ]
     },
     "execution_count": 5,
     "metadata": {},
     "output_type": "execute_result"
    }
   ],
   "source": [
    "# FORMA 01\n",
    "data.loc[:, \"Bairro\"].head()"
   ]
  },
  {
   "cell_type": "code",
   "execution_count": 6,
   "metadata": {},
   "outputs": [
    {
     "data": {
      "text/plain": [
       "0     Planalto Paulista\n",
       "1    Jardim dos Estados\n",
       "2       Jardim Reimberg\n",
       "3        Jardim Morumbi\n",
       "4                 Mooca\n",
       "Name: Bairro, dtype: object"
      ]
     },
     "execution_count": 6,
     "metadata": {},
     "output_type": "execute_result"
    }
   ],
   "source": [
    "# FORMA 02\n",
    "data.iloc[:, 1].head()"
   ]
  },
  {
   "cell_type": "markdown",
   "metadata": {},
   "source": [
    "#### 3. Explorar alguns gráficos na documentação e aplicar nas demais colunas do DF, assim como tentar colocar alguma conclusão."
   ]
  },
  {
   "cell_type": "code",
   "execution_count": 7,
   "metadata": {},
   "outputs": [
    {
     "data": {
      "text/plain": [
       "<AxesSubplot:xlabel='Banheiros'>"
      ]
     },
     "execution_count": 7,
     "metadata": {},
     "output_type": "execute_result"
    },
    {
     "data": {
      "image/png": "[encoded data removed]",
      "text/plain": [
       "<Figure size 432x288 with 1 Axes>"
      ]
     },
     "metadata": {
      "needs_background": "light"
     },
     "output_type": "display_data"
    }
   ],
   "source": [
    "# Gráfico de barras\n",
    "banheiros_value_counts = data[\"Banheiros\"].value_counts().reset_index()\n",
    "banheiros_value_counts.columns = [\"Banheiros\", \"Freq\"]\n",
    "banheiros_value_counts.plot( x='Banheiros', y='Freq', kind='bar' )"
   ]
  },
  {
   "cell_type": "code",
   "execution_count": 8,
   "metadata": {},
   "outputs": [
    {
     "data": {
      "text/plain": [
       "<AxesSubplot:title={'center':'Top 10 Metragem Média por Bairro'}, xlabel='Bairro', ylabel='Média da Metragem'>"
      ]
     },
     "execution_count": 8,
     "metadata": {},
     "output_type": "execute_result"
    },
    {
     "data": {
      "image/png": "[encoded data removed]",
      "text/plain": [
       "<Figure size 432x288 with 1 Axes>"
      ]
     },
     "metadata": {
      "needs_background": "light"
     },
     "output_type": "display_data"
    }
   ],
   "source": [
    "# Gráfico de linhas\n",
    "metragem_por_bairro[:10].plot( title=\"Top 10 Metragem Média por Bairro\", xlabel=\"Bairro\", ylabel=\"Média da Metragem\", rot=45 )"
   ]
  },
  {
   "cell_type": "code",
   "execution_count": 9,
   "metadata": {},
   "outputs": [
    {
     "data": {
      "text/plain": [
       "<AxesSubplot:title={'center':'Banheiros X Quartos'}, xlabel='Banheiros', ylabel='Quartos'>"
      ]
     },
     "execution_count": 9,
     "metadata": {},
     "output_type": "execute_result"
    },
    {
     "data": {
      "image/png": "[encoded data removed]",
      "text/plain": [
       "<Figure size 432x288 with 1 Axes>"
      ]
     },
     "metadata": {
      "needs_background": "light"
     },
     "output_type": "display_data"
    }
   ],
   "source": [
    "# Gráfico de Dispersão (Scatter Plot)\n",
    "data.plot( x='Banheiros', y='Quartos', kind='scatter', title='Banheiros X Quartos' )"
   ]
  },
  {
   "cell_type": "code",
   "execution_count": 10,
   "metadata": {},
   "outputs": [
    {
     "data": {
      "text/plain": [
       "<AxesSubplot:>"
      ]
     },
     "execution_count": 10,
     "metadata": {},
     "output_type": "execute_result"
    },
    {
     "data": {
      "image/png": "[encoded data removed]",
      "text/plain": [
       "<Figure size 432x288 with 1 Axes>"
      ]
     },
     "metadata": {
      "needs_background": "light"
     },
     "output_type": "display_data"
    }
   ],
   "source": [
    "# Gráfico Histograma\n",
    "data[\"Vagas\"].hist( bins=50 )"
   ]
  },
  {
   "cell_type": "code",
   "execution_count": 11,
   "metadata": {},
   "outputs": [
    {
     "data": {
      "text/plain": [
       "<AxesSubplot:title={'center':'Ruas'}, ylabel='total'>"
      ]
     },
     "execution_count": 11,
     "metadata": {},
     "output_type": "execute_result"
    },
    {
     "data": {
      "image/png": "[encoded data removed]",
      "text/plain": [
       "<Figure size 432x288 with 1 Axes>"
      ]
     },
     "metadata": {},
     "output_type": "display_data"
    }
   ],
   "source": [
    "# Gráfico de Pizzas\n",
    "ruas_sem_nome = data[data[\"Rua\"].isna()].shape[0]\n",
    "ruas_com_nome = data[~data[\"Rua\"].isna()].shape[0]\n",
    "df_ruas_nome = pd.DataFrame({\n",
    "    'total': [ruas_com_nome, ruas_sem_nome]},\n",
    "    index=['Com Nome', 'Sem Nome']\n",
    ")\n",
    "\n",
    "df_ruas_nome.plot.pie( y='total', title='Ruas' )"
   ]
  },
  {
   "cell_type": "markdown",
   "metadata": {},
   "source": [
    "#### 4. Pegar outras estatísticas dos dados (como média, mediana, mim, max)."
   ]
  },
  {
   "cell_type": "code",
   "execution_count": 12,
   "metadata": {},
   "outputs": [
    {
     "name": "stdout",
     "output_type": "stream",
     "text": [
      "<class 'pandas.core.frame.DataFrame'>\n",
      "RangeIndex: 10008 entries, 0 to 10007\n",
      "Data columns (total 8 columns):\n",
      " #   Column     Non-Null Count  Dtype \n",
      "---  ------     --------------  ----- \n",
      " 0   Rua        6574 non-null   object\n",
      " 1   Bairro     9996 non-null   object\n",
      " 2   Cidade     10008 non-null  object\n",
      " 3   Metragem   10008 non-null  int64 \n",
      " 4   Quartos    10008 non-null  int64 \n",
      " 5   Banheiros  10008 non-null  int64 \n",
      " 6   Vagas      10008 non-null  int64 \n",
      " 7   Valor      10008 non-null  object\n",
      "dtypes: int64(4), object(4)\n",
      "memory usage: 625.6+ KB\n"
     ]
    }
   ],
   "source": [
    "data.info()"
   ]
  },
  {
   "cell_type": "code",
   "execution_count": 13,
   "metadata": {},
   "outputs": [],
   "source": [
    "numeric_data = data.select_dtypes( include=['int64'] )\n",
    "categorical_data = data.select_dtypes( exclude=['int64'] )"
   ]
  },
  {
   "cell_type": "code",
   "execution_count": 14,
   "metadata": {},
   "outputs": [
    {
     "data": {
      "text/html": [
       "<div>\n",
       "<style scoped>\n",
       "    .dataframe tbody tr th:only-of-type {\n",
       "        vertical-align: middle;\n",
       "    }\n",
       "\n",
       "    .dataframe tbody tr th {\n",
       "        vertical-align: top;\n",
       "    }\n",
       "\n",
       "    .dataframe thead th {\n",
       "        text-align: right;\n",
       "    }\n",
       "</style>\n",
       "<table border=\"1\" class=\"dataframe\">\n",
       "  <thead>\n",
       "    <tr style=\"text-align: right;\">\n",
       "      <th></th>\n",
       "      <th>Min</th>\n",
       "      <th>Max</th>\n",
       "      <th>Media</th>\n",
       "      <th>Mediana</th>\n",
       "    </tr>\n",
       "  </thead>\n",
       "  <tbody>\n",
       "    <tr>\n",
       "      <th>Metragem</th>\n",
       "      <td>10</td>\n",
       "      <td>750000</td>\n",
       "      <td>442.300659</td>\n",
       "      <td>290.0</td>\n",
       "    </tr>\n",
       "    <tr>\n",
       "      <th>Quartos</th>\n",
       "      <td>1</td>\n",
       "      <td>16</td>\n",
       "      <td>3.483114</td>\n",
       "      <td>3.0</td>\n",
       "    </tr>\n",
       "    <tr>\n",
       "      <th>Banheiros</th>\n",
       "      <td>1</td>\n",
       "      <td>40</td>\n",
       "      <td>3.879097</td>\n",
       "      <td>4.0</td>\n",
       "    </tr>\n",
       "    <tr>\n",
       "      <th>Vagas</th>\n",
       "      <td>1</td>\n",
       "      <td>50</td>\n",
       "      <td>4.097222</td>\n",
       "      <td>4.0</td>\n",
       "    </tr>\n",
       "  </tbody>\n",
       "</table>\n",
       "</div>"
      ],
      "text/plain": [
       "           Min     Max       Media  Mediana\n",
       "Metragem    10  750000  442.300659    290.0\n",
       "Quartos      1      16    3.483114      3.0\n",
       "Banheiros    1      40    3.879097      4.0\n",
       "Vagas        1      50    4.097222      4.0"
      ]
     },
     "execution_count": 14,
     "metadata": {},
     "output_type": "execute_result"
    }
   ],
   "source": [
    "# Tabela de métricas para DADOS NÚMERICOS\n",
    "df_numeric_data = pd.DataFrame( {\"Min\": numeric_data.min(), \"Max\": numeric_data.max(), \"Media\": numeric_data.mean(), \"Mediana\": numeric_data.median()} )\n",
    "df_numeric_data"
   ]
  },
  {
   "cell_type": "code",
   "execution_count": 15,
   "metadata": {},
   "outputs": [
    {
     "data": {
      "text/html": [
       "<div>\n",
       "<style scoped>\n",
       "    .dataframe tbody tr th:only-of-type {\n",
       "        vertical-align: middle;\n",
       "    }\n",
       "\n",
       "    .dataframe tbody tr th {\n",
       "        vertical-align: top;\n",
       "    }\n",
       "\n",
       "    .dataframe thead th {\n",
       "        text-align: right;\n",
       "    }\n",
       "</style>\n",
       "<table border=\"1\" class=\"dataframe\">\n",
       "  <thead>\n",
       "    <tr style=\"text-align: right;\">\n",
       "      <th></th>\n",
       "      <th>Min</th>\n",
       "      <th>Max</th>\n",
       "      <th>Media</th>\n",
       "      <th>Mediana</th>\n",
       "    </tr>\n",
       "  </thead>\n",
       "  <tbody>\n",
       "    <tr>\n",
       "      <th>Metragem</th>\n",
       "      <td>10</td>\n",
       "      <td>750000</td>\n",
       "      <td>442.300659</td>\n",
       "      <td>290.0</td>\n",
       "    </tr>\n",
       "    <tr>\n",
       "      <th>Quartos</th>\n",
       "      <td>1</td>\n",
       "      <td>16</td>\n",
       "      <td>3.483114</td>\n",
       "      <td>3.0</td>\n",
       "    </tr>\n",
       "    <tr>\n",
       "      <th>Banheiros</th>\n",
       "      <td>1</td>\n",
       "      <td>40</td>\n",
       "      <td>3.879097</td>\n",
       "      <td>4.0</td>\n",
       "    </tr>\n",
       "    <tr>\n",
       "      <th>Vagas</th>\n",
       "      <td>1</td>\n",
       "      <td>50</td>\n",
       "      <td>4.097222</td>\n",
       "      <td>4.0</td>\n",
       "    </tr>\n",
       "  </tbody>\n",
       "</table>\n",
       "</div>"
      ],
      "text/plain": [
       "           Min     Max       Media  Mediana\n",
       "Metragem    10  750000  442.300659    290.0\n",
       "Quartos      1      16    3.483114      3.0\n",
       "Banheiros    1      40    3.879097      4.0\n",
       "Vagas        1      50    4.097222      4.0"
      ]
     },
     "execution_count": 15,
     "metadata": {},
     "output_type": "execute_result"
    }
   ],
   "source": [
    "# Tabela de métricas para DADOS CATEÓRICOS\n",
    "df_cateorical_data = pd.DataFrame( {\"Contagem\": categorical_data.count(), \"Únicos\": categorical_data.nunique(), \\\n",
    "    \"Top\": categorical_data.value_counts().reset_index().iloc[0, 0], \"Freq\": categorical_data.value_counts().reset_index().iloc[0, 1]} )\n",
    "df_numeric_data"
   ]
  },
  {
   "cell_type": "markdown",
   "metadata": {},
   "source": [
    "#### 5. Descobrir quais são os bairros que não tem nome de rua."
   ]
  },
  {
   "cell_type": "code",
   "execution_count": 16,
   "metadata": {},
   "outputs": [
    {
     "data": {
      "text/plain": [
       "array(['Jardim Morumbi', 'Jardim Luzitânia', 'Parque da Lapa',\n",
       "       'Chácara Santo Antônio (Zona Sul)', 'Jardim Guedala',\n",
       "       'Vila Arriete', 'Alto de Pinheiros', 'Planalto Paulista',\n",
       "       'Vila Moinho Velho', 'Brooklin Paulista', 'Sumaré',\n",
       "       'Jardim Paulista', 'Vila Gustavo', 'Jardim Trussardi',\n",
       "       'Vila Madalena', 'Jardim dos Estados', 'Vila Santos',\n",
       "       'Jardim Europa', 'Butantã', 'Jardim Paulistano',\n",
       "       'Jardim Petrópolis', 'Vila Mariana', 'Vila Aparecida', 'Siciliano',\n",
       "       'Alto da Lapa', 'Jardim da Glória', 'Morumbi', 'Vila Ida',\n",
       "       'Cidade Jardim', 'Cidade Dutra', 'Água Fria', 'Parque Boturussu',\n",
       "       'Belenzinho', 'Vila Sônia', 'Jardim Panorama', 'Jardim Ampliação',\n",
       "       'Lauzane Paulista', 'Vila Sabrina', 'Vila Olímpia',\n",
       "       'Jardim Franca', 'Jardim Sílvia (Zona Oeste)', 'Santo Amaro',\n",
       "       'Mooca', 'Jardim América', 'Interlagos', 'Pacaembu',\n",
       "       'Jardim Santo Amaro', 'Vila Matilde', 'Vila Prudente',\n",
       "       'Vila Nova Conceição', 'Jardim Camargo Novo', 'Jardim Planalto',\n",
       "       'Santana', 'Jardim Patente Novo', 'Jardim das Camélias',\n",
       "       'Jardim Virginia Bianca', 'Jardim Viana',\n",
       "       'Jardim Célia (Zona Sul)', 'Parque Guarani', 'Vila Brasilina',\n",
       "       'Vila Antonieta', 'Vila Ema', 'Boaçava', 'Vila Morse',\n",
       "       'Itaim Bibi', 'Conjunto Residencial Vista Verde',\n",
       "       'Parque São Domingos', 'Jardim Leonor', 'Vila Albertina',\n",
       "       'Jardim Santo Elias', 'Vila Morumbi', 'Chácara Japonesa',\n",
       "       'Penha de França', 'Chácara Inglesa', 'City América', 'Pinheiros',\n",
       "       'Ipiranga', 'Jardim Everest', 'Vila Londrina', 'Vila Santa Maria',\n",
       "       'Cidade São Mateus', 'Paraíso', 'Tucuruvi', 'Vila Bertioga',\n",
       "       'Vila Cláudia', 'Vila Inah', 'Jardim Cordeiro', 'Fazenda Morumbi',\n",
       "       'Cidade Patriarca', 'Jardim Santa Maria', 'Chácara Monte Alegre',\n",
       "       'Parque Continental', 'Vila Sílvia', 'Bosque da Saúde',\n",
       "       'Jardim Celeste', 'Vila Comercial', 'Vila Monumento', 'Vila Gea',\n",
       "       'Vila Lageado', 'Vila Perus', 'Jardim Satélite', 'Cidade Monções',\n",
       "       'Consolação', 'Paineiras do Morumbi', 'Vila Progredior',\n",
       "       'Lapa de Baixo', 'Vila Araguaia', 'Vila Lúcia', 'Granja Julieta',\n",
       "       'Indianópolis', 'Jardim Prudência', 'Vila São Francisco',\n",
       "       'Lar São Paulo', 'Brooklin Novo', 'Perdizes', 'Cambuci', 'Lapa',\n",
       "       'Vila Palmeiras', 'Chácara Califórnia', 'Campo Belo',\n",
       "       'Instituto de Previdência', 'Vila Pompéia', 'Jardim Umuarama',\n",
       "       'Jardim Marajoara', 'Parque Colonial', 'Vila Leopoldina',\n",
       "       'Jardim Novo Mundo', 'Vila Tramontano', 'Jardim das Bandeiras',\n",
       "       'Jardim Monte Kemel', 'Vila Cordeiro', 'Retiro Morumbi',\n",
       "       'Vila Guarani (Z Sul)', 'Vila Cruzeiro', 'Sumarezinho',\n",
       "       'Itaberaba', 'Vila Salete', 'Chora Menino', 'Vila Campo Grande',\n",
       "       'Jardim Ana Maria', 'Vila Nova Caledonia', 'Vila Carbone',\n",
       "       'Vila Adalgisa', 'Mirandópolis', 'Jardim Bonfiglioli',\n",
       "       'Jardim Ester', 'Caxingui', 'Vila São Silvestre',\n",
       "       'Chácara Tatuapé', 'Real Parque', 'Cidade Domitila',\n",
       "       'Jardim Vila Mariana', \"Jardim Panorama D'Oeste\", 'Vila Suzana',\n",
       "       'Santa Cecília', 'Parque Residencial Oratorio', 'Parque da Mooca',\n",
       "       'Jardim Santa Cruz (Campo Grande)', 'Higienópolis',\n",
       "       'Jardim Triana', 'Moema', 'Cidade Centenário', 'Jaguaré',\n",
       "       'Jardim Miriam', 'Vila Oratório', 'Vila Clementino',\n",
       "       'Vila Ipojuca', 'Barra Funda', 'Jardim Petropolis',\n",
       "       'Jardim Vitória Régia', 'Vila Jacuí', 'Vila Califórnia(Zona Sul)',\n",
       "       'Vila Mafra', 'Vila Anhangüera', 'Jardim Consórcio', 'Vila Alpina',\n",
       "       'Jardim Rizzo', 'Vila Império', 'Vila Inglesa', 'Vila Nova Curuçá',\n",
       "       'Vila Paiva', 'Jardim Analia Franco', 'Saúde', 'Vila Prado',\n",
       "       'Tatuapé', 'Aclimação', 'Jardim Eliana', 'Paraíso do Morumbi',\n",
       "       'Jardim Teresa', 'Jardim Brasília (Zona Leste)', 'Jardim Danfer',\n",
       "       'Vila Romana', 'Vila Pedroso', 'Vila Brasílio Machado',\n",
       "       'Vila Anglo Brasileira', 'Vila Antônio', 'Chácara Meyer',\n",
       "       'Vila Paulicéia', 'Rio Pequeno', 'Jardim Santa Helena',\n",
       "       'Jardim Taboão', 'Parque Mandaqui', 'Capão Redondo',\n",
       "       'Vila Alexandria', 'Super Quadra Morumbi', 'Vila Ré',\n",
       "       'Parque Jabaquara', 'Jardim Londrina', 'Parque Novo Mundo',\n",
       "       'Jardim das Acácias', 'Vila Cardoso Franco', 'Jardim Campo Grande',\n",
       "       'Jardim Textil', 'Vila Mazzei', 'Vila Andrade', 'Jardim da Saúde',\n",
       "       'Jardim Colombo', 'Vila Nair', 'Quinta da Paineira',\n",
       "       'Jardim Gonzaga', 'Liberdade', 'Vila Carrão',\n",
       "       'Jardim Brasil (Zona Sul)', 'Parque São Lucas', 'Jardim Floresta',\n",
       "       'Chácara Mafalda', 'Vila ESão Pauloerança', 'Vila Nova Caledônia',\n",
       "       'Alto da Boa Vista', 'Vila Medeiros', 'Vila América',\n",
       "       'Vila Analia', 'Parque Santa Rita', 'Vila Moraes',\n",
       "       'Vila Rui Barbosa', 'Vila Bela', 'Jardim Amália',\n",
       "       'Parque da Vila Prudente', 'Vila Santana', 'Vila Canero',\n",
       "       'Vila Primavera', 'Brasilândia', 'Vila do Encontro',\n",
       "       'Jardim Ernestina', 'Jabaquara', 'Jardim Maria Duarte',\n",
       "       'Cidade Vargas', 'Jardim Hípico', 'Parada XV de Novembro',\n",
       "       'Jardim Bélgica', 'Jardim Jussara', 'Vila Formosa',\n",
       "       'Jardim São Carlos (Zona Sul)', 'Parque dos Príncipes',\n",
       "       'Vila Gomes Cardim', 'Vila Polopoli', 'Vila Macedópolis',\n",
       "       'Vila Virginia', 'Vila Boaçava', 'Água Branca', 'Bela Aliança',\n",
       "       'Tremembé', 'Cerqueira César', 'Jardim Cidade Pirituba',\n",
       "       'Vila Agueda', 'Vila Firmiano Pinto', 'Jardim Monte Alegre',\n",
       "       'Jardim Patente', 'Vila Buenos Aires', 'Jardim Jabaquara',\n",
       "       'Jardim Morro Verde', 'Vila Santa Catarina', 'Vila Califórnia',\n",
       "       'Jardim Ponte Rasa', 'Jardim Marília', 'Vila Guedes',\n",
       "       'Vila Congonhas', 'Jardim Vivan', 'Jardim Vila Carrão', 'Sacomã',\n",
       "       'Jardim Castelo', 'Vila Barbosa', 'Parque Imperial', 'Campininha',\n",
       "       'Jaraguá', 'Jardim Coimbra', 'Jardim Anália Franco',\n",
       "       'Vila Bancária Munhoz', 'Vila Ester (Zona Norte)', 'Brás',\n",
       "       'Alto da Mooca', 'Ferreira', 'Jardim Cidália', 'Cidade Ademar',\n",
       "       'Nova Piraju', \"Jardim D'Abril\", 'Paraisópolis',\n",
       "       'Parque Nações Unidas', 'Vila Gumercindo', 'Jardim Aeroporto',\n",
       "       'Brooklin', 'Vila Caraguatá', 'Jardim do Colégio (Zona Norte)',\n",
       "       'Parque Peruche', 'Chácara Belenzinho',\n",
       "       'Conjunto Residencial Butantã', 'Vila das Belezas',\n",
       "       'Burgo Paulista', 'Vila Paulista', 'Jardim Japão',\n",
       "       'Praia Paulistinha', 'Vila Antonina', 'Vila Sao Paulo',\n",
       "       'Vila Monte Alegre', 'Jardim Heliomar', 'Vila Ivg', 'Vila Curuçá',\n",
       "       'Vila Vera', 'Água Funda', 'Vila Romero', 'Vila Isa',\n",
       "       'Vila Talarico', 'Jardim Peri', 'Vila Dom Pedro I', 'Vila Simone',\n",
       "       'Vila Nivi', 'Vila São Paulo', 'Vila Bela Aliança',\n",
       "       'Vila São José (Ipiranga)', 'Vila Marieta', 'Vila das Mercês',\n",
       "       'Jardim Sarah', 'Vila Gomes', 'Vila Ayrosa', 'Jardim Dom Bosco',\n",
       "       'Parque Savoy City', 'Jardim Ester Yolanda', 'Chácara Flora',\n",
       "       'Vila Elvira', 'Vila Romano', 'Jardim Guarau',\n",
       "       'Vila Santo Estéfano', 'Vila Paulo Silas', 'Vila Carmosina',\n",
       "       'Jardim das Vertentes', 'Conjunto Residencial Morada do Sol',\n",
       "       'Jardim Tremembe', 'Parque Casa de Pedra', 'Vila Vasconcelos',\n",
       "       'Jardim Boa Vista (Zona Oeste)', 'Jardim Sul São Paulo',\n",
       "       'Jardim Vergueiro (Sacomã)', 'Vila Mira', 'Jardim Maria Estela',\n",
       "       'Jardim Rincão', 'Jardim Sabará', 'Aricanduva',\n",
       "       'Jardim Palmares (Zona Sul)', 'Vila Regente Feijó', 'Vila Darli',\n",
       "       'Jardim Nice', 'Vila Constancia', 'Jardim Pirituba', 'Vila Marari',\n",
       "       'Parque Maria Domitila', 'Parque Santo Antônio (Aricanduva)',\n",
       "       'Jardim Cidalia', 'Vila Tiradentes', 'Vila Sonia',\n",
       "       'Vila Gertrudes', 'Parque Edu Chaves', 'Parque São Rafael',\n",
       "       'Conjunto Habitacional Castro Alves', 'Cidade Mãe do Céu',\n",
       "       'Vila da Saúde', 'Itaquera', 'Vila Conde do Pinhal',\n",
       "       'Parque Monteiro Soares', 'Jardim Leonor Mendes de Barros',\n",
       "       'Vila Santa Clara', 'Sítio do Mandaqui', 'Jardim Independência',\n",
       "       'Vila Nova Pauliceia', 'Cidade Antônio Estevão de Carvalho',\n",
       "       'Vila Maria Alta', 'Vila Ponte Rasa', 'Jardim Guanca',\n",
       "       'Engenheiro Goulart', 'Vila Mascote', 'Jardim Vila Formosa',\n",
       "       'Cupecê', 'Jardim Itacolomi', 'Água Rasa', 'Parque Alves de Lima'],\n",
       "      dtype=object)"
      ]
     },
     "execution_count": 16,
     "metadata": {},
     "output_type": "execute_result"
    }
   ],
   "source": [
    "bairros_sem_nome_de_rua = data[data[\"Rua\"].isna()].Bairro.unique()\n",
    "bairros_sem_nome_de_rua"
   ]
  },
  {
   "cell_type": "code",
   "execution_count": 22,
   "metadata": {},
   "outputs": [
    {
     "data": {
      "text/plain": [
       "<AxesSubplot:title={'center':'% de Bairros com Ruas COM X SEM Nome'}, ylabel='Porcentagem (%)'>"
      ]
     },
     "execution_count": 22,
     "metadata": {},
     "output_type": "execute_result"
    },
    {
     "data": {
      "image/png": "[encoded data removed]",
      "text/plain": [
       "<Figure size 720x720 with 1 Axes>"
      ]
     },
     "metadata": {},
     "output_type": "display_data"
    }
   ],
   "source": [
    "bairros_com_nome_de_rua = data[~data[\"Rua\"].isna()].Bairro.nunique()\n",
    "bairros_com_nome_de_rua\n",
    "\n",
    "df_porc_bairros_rua_nome = pd.DataFrame({\n",
    "    'Porcentagem (%)': [bairros_com_nome_de_rua, bairros_sem_nome_de_rua.shape[0]]},\n",
    "    index=['Bairros Ruas COM Nome', 'Bairros Ruas SEM Nome']\n",
    ")\n",
    "\n",
    "df_porc_bairros_rua_nome.plot.pie( y='Porcentagem (%)', title='% de Bairros com Ruas COM X SEM Nome', figsize=(10, 10) )"
   ]
  }
 ],
 "metadata": {
  "interpreter": {
   "hash": "cf183d93cffc364ae1cda15ac4df771c148f139d0734e2b78d2fa09862cd4f6c"
  },
  "kernelspec": {
   "display_name": "Python 3.10.4 ('minimal_ds')",
   "language": "python",
   "name": "python3"
  },
  "language_info": {
   "codemirror_mode": {
    "name": "ipython",
    "version": 3
   },
   "file_extension": ".py",
   "mimetype": "text/x-python",
   "name": "python",
   "nbconvert_exporter": "python",
   "pygments_lexer": "ipython3",
   "version": "3.10.4"
  },
  "orig_nbformat": 4
 },
 "nbformat": 4,
 "nbformat_minor": 2
}
