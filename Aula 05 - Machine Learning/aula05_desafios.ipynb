{
 "cells": [
  {
   "cell_type": "code",
   "execution_count": 1,
   "metadata": {},
   "outputs": [
    {
     "data": {
      "text/html": [
       "<div>\n",
       "<style scoped>\n",
       "    .dataframe tbody tr th:only-of-type {\n",
       "        vertical-align: middle;\n",
       "    }\n",
       "\n",
       "    .dataframe tbody tr th {\n",
       "        vertical-align: top;\n",
       "    }\n",
       "\n",
       "    .dataframe thead th {\n",
       "        text-align: right;\n",
       "    }\n",
       "</style>\n",
       "<table border=\"1\" class=\"dataframe\">\n",
       "  <thead>\n",
       "    <tr style=\"text-align: right;\">\n",
       "      <th></th>\n",
       "      <th>Rua</th>\n",
       "      <th>Bairro</th>\n",
       "      <th>Cidade</th>\n",
       "      <th>Metragem</th>\n",
       "      <th>Quartos</th>\n",
       "      <th>Banheiros</th>\n",
       "      <th>Vagas</th>\n",
       "      <th>Valor_anuncio</th>\n",
       "      <th>Valor_mm</th>\n",
       "      <th>Valor_m2</th>\n",
       "      <th>...</th>\n",
       "      <th>V003</th>\n",
       "      <th>V004</th>\n",
       "      <th>V005</th>\n",
       "      <th>V006</th>\n",
       "      <th>V007</th>\n",
       "      <th>V008</th>\n",
       "      <th>V009</th>\n",
       "      <th>V010</th>\n",
       "      <th>V011</th>\n",
       "      <th>V012</th>\n",
       "    </tr>\n",
       "  </thead>\n",
       "  <tbody>\n",
       "    <tr>\n",
       "      <th>0</th>\n",
       "      <td>Avenida Itacira, 255</td>\n",
       "      <td>Planalto Paulista</td>\n",
       "      <td>São Paulo</td>\n",
       "      <td>1000</td>\n",
       "      <td>4</td>\n",
       "      <td>8</td>\n",
       "      <td>6</td>\n",
       "      <td>7000000.00</td>\n",
       "      <td>7.00</td>\n",
       "      <td>7000.00</td>\n",
       "      <td>...</td>\n",
       "      <td>2.66</td>\n",
       "      <td>2.04</td>\n",
       "      <td>3158.96</td>\n",
       "      <td>22210644.93</td>\n",
       "      <td>5570.65</td>\n",
       "      <td>25770816.97</td>\n",
       "      <td>2096.19</td>\n",
       "      <td>13029851.56</td>\n",
       "      <td>3930.35</td>\n",
       "      <td>17241576.74</td>\n",
       "    </tr>\n",
       "    <tr>\n",
       "      <th>1</th>\n",
       "      <td>Rua Aurelia Perez Alvarez, 42</td>\n",
       "      <td>Jardim dos Estados</td>\n",
       "      <td>São Paulo</td>\n",
       "      <td>496</td>\n",
       "      <td>4</td>\n",
       "      <td>4</td>\n",
       "      <td>4</td>\n",
       "      <td>3700000.00</td>\n",
       "      <td>3.70</td>\n",
       "      <td>7459.68</td>\n",
       "      <td>...</td>\n",
       "      <td>3.13</td>\n",
       "      <td>1.96</td>\n",
       "      <td>7600.44</td>\n",
       "      <td>36778930.17</td>\n",
       "      <td>7890.53</td>\n",
       "      <td>35886906.64</td>\n",
       "      <td>4149.00</td>\n",
       "      <td>26760682.90</td>\n",
       "      <td>6063.92</td>\n",
       "      <td>27502674.90</td>\n",
       "    </tr>\n",
       "    <tr>\n",
       "      <th>2</th>\n",
       "      <td>Rua Alba Valdez</td>\n",
       "      <td>Jardim Reimberg</td>\n",
       "      <td>São Paulo</td>\n",
       "      <td>125</td>\n",
       "      <td>4</td>\n",
       "      <td>3</td>\n",
       "      <td>2</td>\n",
       "      <td>380000.00</td>\n",
       "      <td>0.38</td>\n",
       "      <td>3040.00</td>\n",
       "      <td>...</td>\n",
       "      <td>3.47</td>\n",
       "      <td>3.06</td>\n",
       "      <td>805.13</td>\n",
       "      <td>769188.78</td>\n",
       "      <td>1011.75</td>\n",
       "      <td>757433.42</td>\n",
       "      <td>518.77</td>\n",
       "      <td>426672.78</td>\n",
       "      <td>858.51</td>\n",
       "      <td>414378.88</td>\n",
       "    </tr>\n",
       "    <tr>\n",
       "      <th>3</th>\n",
       "      <td>Rua Tobias Barreto, 195</td>\n",
       "      <td>Mooca</td>\n",
       "      <td>São Paulo</td>\n",
       "      <td>100</td>\n",
       "      <td>3</td>\n",
       "      <td>2</td>\n",
       "      <td>2</td>\n",
       "      <td>540000.00</td>\n",
       "      <td>0.54</td>\n",
       "      <td>5400.00</td>\n",
       "      <td>...</td>\n",
       "      <td>3.00</td>\n",
       "      <td>1.99</td>\n",
       "      <td>2338.05</td>\n",
       "      <td>7826370.15</td>\n",
       "      <td>2447.89</td>\n",
       "      <td>7925839.76</td>\n",
       "      <td>1543.29</td>\n",
       "      <td>4646566.16</td>\n",
       "      <td>1909.04</td>\n",
       "      <td>5050712.69</td>\n",
       "    </tr>\n",
       "    <tr>\n",
       "      <th>4</th>\n",
       "      <td>Rua Graham Bell</td>\n",
       "      <td>Santo Amaro</td>\n",
       "      <td>São Paulo</td>\n",
       "      <td>440</td>\n",
       "      <td>4</td>\n",
       "      <td>4</td>\n",
       "      <td>6</td>\n",
       "      <td>1980000.00</td>\n",
       "      <td>1.98</td>\n",
       "      <td>4500.00</td>\n",
       "      <td>...</td>\n",
       "      <td>3.51</td>\n",
       "      <td>2.31</td>\n",
       "      <td>1026.36</td>\n",
       "      <td>272168.67</td>\n",
       "      <td>1143.96</td>\n",
       "      <td>167733.64</td>\n",
       "      <td>735.67</td>\n",
       "      <td>367088.08</td>\n",
       "      <td>1086.94</td>\n",
       "      <td>159622.46</td>\n",
       "    </tr>\n",
       "    <tr>\n",
       "      <th>...</th>\n",
       "      <td>...</td>\n",
       "      <td>...</td>\n",
       "      <td>...</td>\n",
       "      <td>...</td>\n",
       "      <td>...</td>\n",
       "      <td>...</td>\n",
       "      <td>...</td>\n",
       "      <td>...</td>\n",
       "      <td>...</td>\n",
       "      <td>...</td>\n",
       "      <td>...</td>\n",
       "      <td>...</td>\n",
       "      <td>...</td>\n",
       "      <td>...</td>\n",
       "      <td>...</td>\n",
       "      <td>...</td>\n",
       "      <td>...</td>\n",
       "      <td>...</td>\n",
       "      <td>...</td>\n",
       "      <td>...</td>\n",
       "      <td>...</td>\n",
       "    </tr>\n",
       "    <tr>\n",
       "      <th>5599</th>\n",
       "      <td>Rua Pedro Teixeira</td>\n",
       "      <td>Vila Olímpia</td>\n",
       "      <td>São Paulo</td>\n",
       "      <td>157</td>\n",
       "      <td>3</td>\n",
       "      <td>2</td>\n",
       "      <td>2</td>\n",
       "      <td>960000.00</td>\n",
       "      <td>0.96</td>\n",
       "      <td>6114.65</td>\n",
       "      <td>...</td>\n",
       "      <td>2.17</td>\n",
       "      <td>1.27</td>\n",
       "      <td>5054.58</td>\n",
       "      <td>33245189.73</td>\n",
       "      <td>5231.93</td>\n",
       "      <td>33485189.78</td>\n",
       "      <td>3649.06</td>\n",
       "      <td>26562232.53</td>\n",
       "      <td>4551.66</td>\n",
       "      <td>29032823.35</td>\n",
       "    </tr>\n",
       "    <tr>\n",
       "      <th>5600</th>\n",
       "      <td>Avenida Odila</td>\n",
       "      <td>Planalto Paulista</td>\n",
       "      <td>São Paulo</td>\n",
       "      <td>267</td>\n",
       "      <td>3</td>\n",
       "      <td>6</td>\n",
       "      <td>4</td>\n",
       "      <td>1500000.00</td>\n",
       "      <td>1.50</td>\n",
       "      <td>5617.98</td>\n",
       "      <td>...</td>\n",
       "      <td>2.81</td>\n",
       "      <td>1.60</td>\n",
       "      <td>4249.33</td>\n",
       "      <td>24499871.44</td>\n",
       "      <td>5180.14</td>\n",
       "      <td>25047413.33</td>\n",
       "      <td>2618.76</td>\n",
       "      <td>17705032.31</td>\n",
       "      <td>3977.93</td>\n",
       "      <td>21495997.85</td>\n",
       "    </tr>\n",
       "    <tr>\n",
       "      <th>5601</th>\n",
       "      <td>Rua Tapuçu</td>\n",
       "      <td>Vila Sofia</td>\n",
       "      <td>São Paulo</td>\n",
       "      <td>95</td>\n",
       "      <td>2</td>\n",
       "      <td>2</td>\n",
       "      <td>2</td>\n",
       "      <td>665000.00</td>\n",
       "      <td>0.67</td>\n",
       "      <td>7000.00</td>\n",
       "      <td>...</td>\n",
       "      <td>2.99</td>\n",
       "      <td>1.81</td>\n",
       "      <td>2425.09</td>\n",
       "      <td>6878872.25</td>\n",
       "      <td>2543.80</td>\n",
       "      <td>6913867.79</td>\n",
       "      <td>1561.58</td>\n",
       "      <td>4261814.01</td>\n",
       "      <td>2062.09</td>\n",
       "      <td>4596759.57</td>\n",
       "    </tr>\n",
       "    <tr>\n",
       "      <th>5603</th>\n",
       "      <td>Rua Estero Belaco</td>\n",
       "      <td>Vila da Saúde</td>\n",
       "      <td>São Paulo</td>\n",
       "      <td>205</td>\n",
       "      <td>3</td>\n",
       "      <td>3</td>\n",
       "      <td>6</td>\n",
       "      <td>1050000.00</td>\n",
       "      <td>1.05</td>\n",
       "      <td>5121.95</td>\n",
       "      <td>...</td>\n",
       "      <td>2.75</td>\n",
       "      <td>1.50</td>\n",
       "      <td>5650.20</td>\n",
       "      <td>20344622.14</td>\n",
       "      <td>5750.84</td>\n",
       "      <td>20127679.27</td>\n",
       "      <td>3459.68</td>\n",
       "      <td>16021825.60</td>\n",
       "      <td>4362.79</td>\n",
       "      <td>16264378.33</td>\n",
       "    </tr>\n",
       "    <tr>\n",
       "      <th>5604</th>\n",
       "      <td>Rua Barão de Tramandaí, 0</td>\n",
       "      <td>Vila Alpina</td>\n",
       "      <td>São Paulo</td>\n",
       "      <td>122</td>\n",
       "      <td>3</td>\n",
       "      <td>2</td>\n",
       "      <td>2</td>\n",
       "      <td>270000.00</td>\n",
       "      <td>0.27</td>\n",
       "      <td>2213.11</td>\n",
       "      <td>...</td>\n",
       "      <td>2.97</td>\n",
       "      <td>1.75</td>\n",
       "      <td>1244.10</td>\n",
       "      <td>1353001.23</td>\n",
       "      <td>1364.89</td>\n",
       "      <td>1319336.96</td>\n",
       "      <td>895.93</td>\n",
       "      <td>988708.13</td>\n",
       "      <td>1226.86</td>\n",
       "      <td>947807.31</td>\n",
       "    </tr>\n",
       "  </tbody>\n",
       "</table>\n",
       "<p>5308 rows × 25 columns</p>\n",
       "</div>"
      ],
      "text/plain": [
       "                                 Rua              Bairro     Cidade  Metragem  \\\n",
       "0              Avenida Itacira, 255    Planalto Paulista  São Paulo      1000   \n",
       "1     Rua Aurelia Perez Alvarez, 42   Jardim dos Estados  São Paulo       496   \n",
       "2                    Rua Alba Valdez     Jardim Reimberg  São Paulo       125   \n",
       "3           Rua Tobias Barreto, 195                Mooca  São Paulo       100   \n",
       "4                    Rua Graham Bell         Santo Amaro  São Paulo       440   \n",
       "...                              ...                 ...        ...       ...   \n",
       "5599              Rua Pedro Teixeira        Vila Olímpia  São Paulo       157   \n",
       "5600                   Avenida Odila   Planalto Paulista  São Paulo       267   \n",
       "5601                      Rua Tapuçu          Vila Sofia  São Paulo        95   \n",
       "5603               Rua Estero Belaco       Vila da Saúde  São Paulo       205   \n",
       "5604      Rua Barão de Tramandaí, 0          Vila Alpina  São Paulo       122   \n",
       "\n",
       "      Quartos  Banheiros  Vagas  Valor_anuncio  Valor_mm  Valor_m2  ...  V003  \\\n",
       "0           4          8      6     7000000.00      7.00   7000.00  ...  2.66   \n",
       "1           4          4      4     3700000.00      3.70   7459.68  ...  3.13   \n",
       "2           4          3      2      380000.00      0.38   3040.00  ...  3.47   \n",
       "3           3          2      2      540000.00      0.54   5400.00  ...  3.00   \n",
       "4           4          4      6     1980000.00      1.98   4500.00  ...  3.51   \n",
       "...       ...        ...    ...            ...       ...       ...  ...   ...   \n",
       "5599        3          2      2      960000.00      0.96   6114.65  ...  2.17   \n",
       "5600        3          6      4     1500000.00      1.50   5617.98  ...  2.81   \n",
       "5601        2          2      2      665000.00      0.67   7000.00  ...  2.99   \n",
       "5603        3          3      6     1050000.00      1.05   5121.95  ...  2.75   \n",
       "5604        3          2      2      270000.00      0.27   2213.11  ...  2.97   \n",
       "\n",
       "      V004    V005        V006    V007        V008    V009        V010  \\\n",
       "0     2.04 3158.96 22210644.93 5570.65 25770816.97 2096.19 13029851.56   \n",
       "1     1.96 7600.44 36778930.17 7890.53 35886906.64 4149.00 26760682.90   \n",
       "2     3.06  805.13   769188.78 1011.75   757433.42  518.77   426672.78   \n",
       "3     1.99 2338.05  7826370.15 2447.89  7925839.76 1543.29  4646566.16   \n",
       "4     2.31 1026.36   272168.67 1143.96   167733.64  735.67   367088.08   \n",
       "...    ...     ...         ...     ...         ...     ...         ...   \n",
       "5599  1.27 5054.58 33245189.73 5231.93 33485189.78 3649.06 26562232.53   \n",
       "5600  1.60 4249.33 24499871.44 5180.14 25047413.33 2618.76 17705032.31   \n",
       "5601  1.81 2425.09  6878872.25 2543.80  6913867.79 1561.58  4261814.01   \n",
       "5603  1.50 5650.20 20344622.14 5750.84 20127679.27 3459.68 16021825.60   \n",
       "5604  1.75 1244.10  1353001.23 1364.89  1319336.96  895.93   988708.13   \n",
       "\n",
       "        V011        V012  \n",
       "0    3930.35 17241576.74  \n",
       "1    6063.92 27502674.90  \n",
       "2     858.51   414378.88  \n",
       "3    1909.04  5050712.69  \n",
       "4    1086.94   159622.46  \n",
       "...      ...         ...  \n",
       "5599 4551.66 29032823.35  \n",
       "5600 3977.93 21495997.85  \n",
       "5601 2062.09  4596759.57  \n",
       "5603 4362.79 16264378.33  \n",
       "5604 1226.86   947807.31  \n",
       "\n",
       "[5308 rows x 25 columns]"
      ]
     },
     "execution_count": 1,
     "metadata": {},
     "output_type": "execute_result"
    }
   ],
   "source": [
    "import pandas as pd\n",
    "import seaborn as sns\n",
    "import matplotlib.pyplot as plt\n",
    "import numpy as np\n",
    "\n",
    "pd.set_option(\"display.precision\", 2)\n",
    "pd.set_option('display.float_format', lambda x: '%.2f' % x)\n",
    "sns.set()\n",
    "\n",
    "dados_vendas_censo = pd.read_csv(\"../assets/dados_vendas_censo.csv\")\n",
    "dados_vendas_censo = dados_vendas_censo[['Rua', 'Bairro', 'Cidade', 'Metragem', 'Quartos', 'Banheiros', 'Vagas',\n",
    "       'Valor_anuncio', 'Valor_mm', 'Valor_m2', 'latitude', 'longitude', 'Situacao_setor', 'V001',\n",
    "       'V002', 'V003', 'V004', 'V005', 'V006', 'V007', 'V008', 'V009', 'V010',\n",
    "       'V011', 'V012']].dropna()\n",
    "dados_vendas_censo"
   ]
  },
  {
   "cell_type": "code",
   "execution_count": 2,
   "metadata": {},
   "outputs": [
    {
     "name": "stdout",
     "output_type": "stream",
     "text": [
      "<class 'pandas.core.frame.DataFrame'>\n",
      "Int64Index: 5308 entries, 0 to 5604\n",
      "Data columns (total 25 columns):\n",
      " #   Column          Non-Null Count  Dtype  \n",
      "---  ------          --------------  -----  \n",
      " 0   Rua             5308 non-null   object \n",
      " 1   Bairro          5308 non-null   object \n",
      " 2   Cidade          5308 non-null   object \n",
      " 3   Metragem        5308 non-null   int64  \n",
      " 4   Quartos         5308 non-null   int64  \n",
      " 5   Banheiros       5308 non-null   int64  \n",
      " 6   Vagas           5308 non-null   int64  \n",
      " 7   Valor_anuncio   5308 non-null   float64\n",
      " 8   Valor_mm        5308 non-null   float64\n",
      " 9   Valor_m2        5308 non-null   float64\n",
      " 10  latitude        5308 non-null   float64\n",
      " 11  longitude       5308 non-null   float64\n",
      " 12  Situacao_setor  5308 non-null   float64\n",
      " 13  V001            5308 non-null   float64\n",
      " 14  V002            5308 non-null   float64\n",
      " 15  V003            5308 non-null   float64\n",
      " 16  V004            5308 non-null   float64\n",
      " 17  V005            5308 non-null   float64\n",
      " 18  V006            5308 non-null   float64\n",
      " 19  V007            5308 non-null   float64\n",
      " 20  V008            5308 non-null   float64\n",
      " 21  V009            5308 non-null   float64\n",
      " 22  V010            5308 non-null   float64\n",
      " 23  V011            5308 non-null   float64\n",
      " 24  V012            5308 non-null   float64\n",
      "dtypes: float64(18), int64(4), object(3)\n",
      "memory usage: 1.1+ MB\n"
     ]
    }
   ],
   "source": [
    "dados_vendas_censo.info()"
   ]
  },
  {
   "cell_type": "code",
   "execution_count": 3,
   "metadata": {},
   "outputs": [
    {
     "data": {
      "image/png": "[encoded data removed]",
      "text/plain": [
       "<Figure size 720x576 with 1 Axes>"
      ]
     },
     "metadata": {
      "needs_background": "light"
     },
     "output_type": "display_data"
    }
   ],
   "source": [
    "plt.figure(figsize=(10, 8))\n",
    "ax = sns.boxplot(data = dados_vendas_censo, y=\"Valor_anuncio\")\n",
    "plt.show()"
   ]
  },
  {
   "cell_type": "code",
   "execution_count": 4,
   "metadata": {},
   "outputs": [
    {
     "data": {
      "text/html": [
       "<div>\n",
       "<style scoped>\n",
       "    .dataframe tbody tr th:only-of-type {\n",
       "        vertical-align: middle;\n",
       "    }\n",
       "\n",
       "    .dataframe tbody tr th {\n",
       "        vertical-align: top;\n",
       "    }\n",
       "\n",
       "    .dataframe thead th {\n",
       "        text-align: right;\n",
       "    }\n",
       "</style>\n",
       "<table border=\"1\" class=\"dataframe\">\n",
       "  <thead>\n",
       "    <tr style=\"text-align: right;\">\n",
       "      <th></th>\n",
       "      <th>Rua</th>\n",
       "      <th>Bairro</th>\n",
       "      <th>Cidade</th>\n",
       "      <th>Metragem</th>\n",
       "      <th>Quartos</th>\n",
       "      <th>Banheiros</th>\n",
       "      <th>Vagas</th>\n",
       "      <th>Valor_anuncio</th>\n",
       "      <th>Valor_mm</th>\n",
       "      <th>Valor_m2</th>\n",
       "      <th>...</th>\n",
       "      <th>V003</th>\n",
       "      <th>V004</th>\n",
       "      <th>V005</th>\n",
       "      <th>V006</th>\n",
       "      <th>V007</th>\n",
       "      <th>V008</th>\n",
       "      <th>V009</th>\n",
       "      <th>V010</th>\n",
       "      <th>V011</th>\n",
       "      <th>V012</th>\n",
       "    </tr>\n",
       "  </thead>\n",
       "  <tbody>\n",
       "    <tr>\n",
       "      <th>54</th>\n",
       "      <td>Rua Inglaterra</td>\n",
       "      <td>Jardim Europa</td>\n",
       "      <td>São Paulo</td>\n",
       "      <td>200</td>\n",
       "      <td>3</td>\n",
       "      <td>3</td>\n",
       "      <td>2</td>\n",
       "      <td>13000.00</td>\n",
       "      <td>0.01</td>\n",
       "      <td>65.00</td>\n",
       "      <td>...</td>\n",
       "      <td>3.13</td>\n",
       "      <td>2.87</td>\n",
       "      <td>21545.71</td>\n",
       "      <td>1577883376.43</td>\n",
       "      <td>26081.65</td>\n",
       "      <td>1794039881.36</td>\n",
       "      <td>11050.67</td>\n",
       "      <td>882338714.47</td>\n",
       "      <td>15470.93</td>\n",
       "      <td>1168079134.43</td>\n",
       "    </tr>\n",
       "    <tr>\n",
       "      <th>89</th>\n",
       "      <td>Rua Inglaterra</td>\n",
       "      <td>Jardim Europa</td>\n",
       "      <td>São Paulo</td>\n",
       "      <td>756</td>\n",
       "      <td>5</td>\n",
       "      <td>4</td>\n",
       "      <td>10</td>\n",
       "      <td>37000000.00</td>\n",
       "      <td>37.00</td>\n",
       "      <td>48941.80</td>\n",
       "      <td>...</td>\n",
       "      <td>3.13</td>\n",
       "      <td>2.87</td>\n",
       "      <td>21545.71</td>\n",
       "      <td>1577883376.43</td>\n",
       "      <td>26081.65</td>\n",
       "      <td>1794039881.36</td>\n",
       "      <td>11050.67</td>\n",
       "      <td>882338714.47</td>\n",
       "      <td>15470.93</td>\n",
       "      <td>1168079134.43</td>\n",
       "    </tr>\n",
       "    <tr>\n",
       "      <th>1032</th>\n",
       "      <td>Praça Nicolau Scarpa</td>\n",
       "      <td>Jardim América</td>\n",
       "      <td>São Paulo</td>\n",
       "      <td>1200</td>\n",
       "      <td>4</td>\n",
       "      <td>4</td>\n",
       "      <td>25</td>\n",
       "      <td>65000000.00</td>\n",
       "      <td>65.00</td>\n",
       "      <td>54166.67</td>\n",
       "      <td>...</td>\n",
       "      <td>3.57</td>\n",
       "      <td>3.01</td>\n",
       "      <td>13131.61</td>\n",
       "      <td>508165993.72</td>\n",
       "      <td>14507.30</td>\n",
       "      <td>541764826.89</td>\n",
       "      <td>7934.91</td>\n",
       "      <td>364776324.15</td>\n",
       "      <td>10168.24</td>\n",
       "      <td>445001716.57</td>\n",
       "    </tr>\n",
       "    <tr>\n",
       "      <th>3521</th>\n",
       "      <td>Rua Estados Unidos</td>\n",
       "      <td>Jardim América</td>\n",
       "      <td>São Paulo</td>\n",
       "      <td>1816</td>\n",
       "      <td>4</td>\n",
       "      <td>10</td>\n",
       "      <td>20</td>\n",
       "      <td>55000000.00</td>\n",
       "      <td>55.00</td>\n",
       "      <td>30286.34</td>\n",
       "      <td>...</td>\n",
       "      <td>3.57</td>\n",
       "      <td>3.01</td>\n",
       "      <td>13131.61</td>\n",
       "      <td>508165993.72</td>\n",
       "      <td>14507.30</td>\n",
       "      <td>541764826.89</td>\n",
       "      <td>7934.91</td>\n",
       "      <td>364776324.15</td>\n",
       "      <td>10168.24</td>\n",
       "      <td>445001716.57</td>\n",
       "    </tr>\n",
       "    <tr>\n",
       "      <th>3896</th>\n",
       "      <td>Rua Estados Unidos</td>\n",
       "      <td>Jardim América</td>\n",
       "      <td>São Paulo</td>\n",
       "      <td>1200</td>\n",
       "      <td>4</td>\n",
       "      <td>6</td>\n",
       "      <td>24</td>\n",
       "      <td>65000000.00</td>\n",
       "      <td>65.00</td>\n",
       "      <td>54166.67</td>\n",
       "      <td>...</td>\n",
       "      <td>3.57</td>\n",
       "      <td>3.01</td>\n",
       "      <td>13131.61</td>\n",
       "      <td>508165993.72</td>\n",
       "      <td>14507.30</td>\n",
       "      <td>541764826.89</td>\n",
       "      <td>7934.91</td>\n",
       "      <td>364776324.15</td>\n",
       "      <td>10168.24</td>\n",
       "      <td>445001716.57</td>\n",
       "    </tr>\n",
       "  </tbody>\n",
       "</table>\n",
       "<p>5 rows × 25 columns</p>\n",
       "</div>"
      ],
      "text/plain": [
       "                       Rua          Bairro     Cidade  Metragem  Quartos  \\\n",
       "54          Rua Inglaterra   Jardim Europa  São Paulo       200        3   \n",
       "89          Rua Inglaterra   Jardim Europa  São Paulo       756        5   \n",
       "1032  Praça Nicolau Scarpa  Jardim América  São Paulo      1200        4   \n",
       "3521    Rua Estados Unidos  Jardim América  São Paulo      1816        4   \n",
       "3896    Rua Estados Unidos  Jardim América  São Paulo      1200        4   \n",
       "\n",
       "      Banheiros  Vagas  Valor_anuncio  Valor_mm  Valor_m2  ...  V003  V004  \\\n",
       "54            3      2       13000.00      0.01     65.00  ...  3.13  2.87   \n",
       "89            4     10    37000000.00     37.00  48941.80  ...  3.13  2.87   \n",
       "1032          4     25    65000000.00     65.00  54166.67  ...  3.57  3.01   \n",
       "3521         10     20    55000000.00     55.00  30286.34  ...  3.57  3.01   \n",
       "3896          6     24    65000000.00     65.00  54166.67  ...  3.57  3.01   \n",
       "\n",
       "         V005          V006     V007          V008     V009         V010  \\\n",
       "54   21545.71 1577883376.43 26081.65 1794039881.36 11050.67 882338714.47   \n",
       "89   21545.71 1577883376.43 26081.65 1794039881.36 11050.67 882338714.47   \n",
       "1032 13131.61  508165993.72 14507.30  541764826.89  7934.91 364776324.15   \n",
       "3521 13131.61  508165993.72 14507.30  541764826.89  7934.91 364776324.15   \n",
       "3896 13131.61  508165993.72 14507.30  541764826.89  7934.91 364776324.15   \n",
       "\n",
       "         V011          V012  \n",
       "54   15470.93 1168079134.43  \n",
       "89   15470.93 1168079134.43  \n",
       "1032 10168.24  445001716.57  \n",
       "3521 10168.24  445001716.57  \n",
       "3896 10168.24  445001716.57  \n",
       "\n",
       "[5 rows x 25 columns]"
      ]
     },
     "execution_count": 4,
     "metadata": {},
     "output_type": "execute_result"
    }
   ],
   "source": [
    "dados_vendas_censo.query(\"Valor_anuncio > 30000000 | Valor_anuncio < 100000\")"
   ]
  },
  {
   "cell_type": "code",
   "execution_count": 5,
   "metadata": {},
   "outputs": [
    {
     "data": {
      "image/png": "[encoded data removed]",
      "text/plain": [
       "<Figure size 720x576 with 1 Axes>"
      ]
     },
     "metadata": {
      "needs_background": "light"
     },
     "output_type": "display_data"
    }
   ],
   "source": [
    "dados_vendas_censo.drop(dados_vendas_censo.query(\"Valor_anuncio > 15000000 | Valor_anuncio < 100000\").index, inplace = True)\n",
    "plt.figure(figsize=(10, 8))\n",
    "ax = sns.boxplot(data = dados_vendas_censo, y=\"Valor_anuncio\")\n",
    "plt.show()"
   ]
  },
  {
   "cell_type": "code",
   "execution_count": 6,
   "metadata": {},
   "outputs": [
    {
     "data": {
      "text/plain": [
       "<AxesSubplot:xlabel='Valor_anuncio', ylabel='Valor_m2'>"
      ]
     },
     "execution_count": 6,
     "metadata": {},
     "output_type": "execute_result"
    },
    {
     "data": {
      "image/png": "[encoded data removed]",
      "text/plain": [
       "<Figure size 720x720 with 1 Axes>"
      ]
     },
     "metadata": {
      "needs_background": "light"
     },
     "output_type": "display_data"
    }
   ],
   "source": [
    "plt.figure(figsize=(10, 10))\n",
    "sns.scatterplot(data = dados_vendas_censo, x=\"Valor_anuncio\", y=\"Valor_m2\")"
   ]
  },
  {
   "cell_type": "code",
   "execution_count": 7,
   "metadata": {},
   "outputs": [
    {
     "data": {
      "image/png": "[encoded data removed]",
      "text/plain": [
       "<Figure size 1296x576 with 2 Axes>"
      ]
     },
     "metadata": {
      "needs_background": "light"
     },
     "output_type": "display_data"
    }
   ],
   "source": [
    "plt.figure(figsize=(18, 8))\n",
    "#https://www.tylervigen.com/spurious-correlations\n",
    "mask = np.triu(np.ones_like(dados_vendas_censo.corr(), dtype=bool))\n",
    "heatmap = sns.heatmap(dados_vendas_censo.corr(), mask=mask, vmin=-1, vmax=1, annot=True, cmap='BrBG')\n",
    "heatmap.set_title('Correlação', fontdict={'fontsize':18}, pad=16);"
   ]
  },
  {
   "cell_type": "markdown",
   "metadata": {},
   "source": [
    "## [DESAFIO 1] Adicionar o valor \"real\" do m2 do imóvel. "
   ]
  },
  {
   "cell_type": "code",
   "execution_count": 8,
   "metadata": {},
   "outputs": [],
   "source": [
    "novos_valores_m2 = {\n",
    "    'Vila Olímpia': 12210.00,\n",
    "    'Itaim Bibi': 11780.00,\n",
    "    'Pinheiros': 11640.00,\n",
    "    'Vila Madalena': 11650.00,\n",
    "    'Moóca': 6880.00,\n",
    "    'Tatuapé': 6850.00,\n",
    "    'Santana': 6950.00,\n",
    "    'Parada Inglesa': 6880.00,\n",
    "    'Itaim Bibi': 13600.00,\n",
    "    'Pinheiros': 12990.00,\n",
    "    'Vila Madalena': 12420.00,\n",
    "    'Moóca': 7770.00,\n",
    "    'Tatuapé': 7600.00,\n",
    "    'Santa Teresinha': 7670.00,\n",
    "    'Santana': 7620.00\n",
    "}\n",
    "\n",
    "lista_bairros_to_update = list(novos_valores_m2.keys())"
   ]
  },
  {
   "cell_type": "code",
   "execution_count": 9,
   "metadata": {},
   "outputs": [],
   "source": [
    "for key, value in novos_valores_m2.items():\n",
    "    dados_vendas_censo.loc[dados_vendas_censo.Bairro == key, 'Valor_m2'] = value"
   ]
  },
  {
   "cell_type": "code",
   "execution_count": 10,
   "metadata": {},
   "outputs": [
    {
     "data": {
      "text/plain": [
       "134    7600.00\n",
       "233    7600.00\n",
       "1449   7600.00\n",
       "1811   7600.00\n",
       "2215   7600.00\n",
       "2921   7600.00\n",
       "3010   7600.00\n",
       "3233   7600.00\n",
       "4215   7600.00\n",
       "4322   7600.00\n",
       "4407   7600.00\n",
       "5370   7600.00\n",
       "Name: Valor_m2, dtype: float64"
      ]
     },
     "execution_count": 10,
     "metadata": {},
     "output_type": "execute_result"
    }
   ],
   "source": [
    "# Valindando\n",
    "dados_vendas_censo[dados_vendas_censo.Bairro == \"Tatuapé\"].Valor_m2"
   ]
  },
  {
   "cell_type": "markdown",
   "metadata": {},
   "source": [
    "## [DESAFIO 2] Testar outro modelos de regressão."
   ]
  },
  {
   "cell_type": "code",
   "execution_count": 11,
   "metadata": {},
   "outputs": [],
   "source": [
    "from sklearn.linear_model import LinearRegression\n",
    "from sklearn.linear_model import LogisticRegression\n",
    "from sklearn.model_selection import train_test_split\n",
    "from sklearn.metrics import mean_absolute_error, r2_score\n",
    "\n",
    "X = dados_vendas_censo[[\"Metragem\"]]\n",
    "Y = dados_vendas_censo[\"Valor_anuncio\"]\n",
    "\n",
    "X_train, X_test, Y_train, Y_test = train_test_split(X, Y, test_size = 0.25, random_state = 54)\n",
    "lr = LinearRegression()\n",
    "lgr = LogisticRegression()"
   ]
  },
  {
   "cell_type": "code",
   "execution_count": 12,
   "metadata": {},
   "outputs": [
    {
     "name": "stderr",
     "output_type": "stream",
     "text": [
      "/home/gustavos/.conda/envs/imersao_dados_04/lib/python3.10/site-packages/sklearn/linear_model/_logistic.py:444: ConvergenceWarning: lbfgs failed to converge (status=1):\n",
      "STOP: TOTAL NO. of ITERATIONS REACHED LIMIT.\n",
      "\n",
      "Increase the number of iterations (max_iter) or scale the data as shown in:\n",
      "    https://scikit-learn.org/stable/modules/preprocessing.html\n",
      "Please also refer to the documentation for alternative solver options:\n",
      "    https://scikit-learn.org/stable/modules/linear_model.html#logistic-regression\n",
      "  n_iter_i = _check_optimize_result(\n"
     ]
    },
    {
     "data": {
      "text/html": [
       "<style>#sk-container-id-1 {color: black;background-color: white;}#sk-container-id-1 pre{padding: 0;}#sk-container-id-1 div.sk-toggleable {background-color: white;}#sk-container-id-1 label.sk-toggleable__label {cursor: pointer;display: block;width: 100%;margin-bottom: 0;padding: 0.3em;box-sizing: border-box;text-align: center;}#sk-container-id-1 label.sk-toggleable__label-arrow:before {content: \"▸\";float: left;margin-right: 0.25em;color: #696969;}#sk-container-id-1 label.sk-toggleable__label-arrow:hover:before {color: black;}#sk-container-id-1 div.sk-estimator:hover label.sk-toggleable__label-arrow:before {color: black;}#sk-container-id-1 div.sk-toggleable__content {max-height: 0;max-width: 0;overflow: hidden;text-align: left;background-color: #f0f8ff;}#sk-container-id-1 div.sk-toggleable__content pre {margin: 0.2em;color: black;border-radius: 0.25em;background-color: #f0f8ff;}#sk-container-id-1 input.sk-toggleable__control:checked~div.sk-toggleable__content {max-height: 200px;max-width: 100%;overflow: auto;}#sk-container-id-1 input.sk-toggleable__control:checked~label.sk-toggleable__label-arrow:before {content: \"▾\";}#sk-container-id-1 div.sk-estimator input.sk-toggleable__control:checked~label.sk-toggleable__label {background-color: #d4ebff;}#sk-container-id-1 div.sk-label input.sk-toggleable__control:checked~label.sk-toggleable__label {background-color: #d4ebff;}#sk-container-id-1 input.sk-hidden--visually {border: 0;clip: rect(1px 1px 1px 1px);clip: rect(1px, 1px, 1px, 1px);height: 1px;margin: -1px;overflow: hidden;padding: 0;position: absolute;width: 1px;}#sk-container-id-1 div.sk-estimator {font-family: monospace;background-color: #f0f8ff;border: 1px dotted black;border-radius: 0.25em;box-sizing: border-box;margin-bottom: 0.5em;}#sk-container-id-1 div.sk-estimator:hover {background-color: #d4ebff;}#sk-container-id-1 div.sk-parallel-item::after {content: \"\";width: 100%;border-bottom: 1px solid gray;flex-grow: 1;}#sk-container-id-1 div.sk-label:hover label.sk-toggleable__label {background-color: #d4ebff;}#sk-container-id-1 div.sk-serial::before {content: \"\";position: absolute;border-left: 1px solid gray;box-sizing: border-box;top: 0;bottom: 0;left: 50%;z-index: 0;}#sk-container-id-1 div.sk-serial {display: flex;flex-direction: column;align-items: center;background-color: white;padding-right: 0.2em;padding-left: 0.2em;position: relative;}#sk-container-id-1 div.sk-item {position: relative;z-index: 1;}#sk-container-id-1 div.sk-parallel {display: flex;align-items: stretch;justify-content: center;background-color: white;position: relative;}#sk-container-id-1 div.sk-item::before, #sk-container-id-1 div.sk-parallel-item::before {content: \"\";position: absolute;border-left: 1px solid gray;box-sizing: border-box;top: 0;bottom: 0;left: 50%;z-index: -1;}#sk-container-id-1 div.sk-parallel-item {display: flex;flex-direction: column;z-index: 1;position: relative;background-color: white;}#sk-container-id-1 div.sk-parallel-item:first-child::after {align-self: flex-end;width: 50%;}#sk-container-id-1 div.sk-parallel-item:last-child::after {align-self: flex-start;width: 50%;}#sk-container-id-1 div.sk-parallel-item:only-child::after {width: 0;}#sk-container-id-1 div.sk-dashed-wrapped {border: 1px dashed gray;margin: 0 0.4em 0.5em 0.4em;box-sizing: border-box;padding-bottom: 0.4em;background-color: white;}#sk-container-id-1 div.sk-label label {font-family: monospace;font-weight: bold;display: inline-block;line-height: 1.2em;}#sk-container-id-1 div.sk-label-container {text-align: center;}#sk-container-id-1 div.sk-container {/* jupyter's `normalize.less` sets `[hidden] { display: none; }` but bootstrap.min.css set `[hidden] { display: none !important; }` so we also need the `!important` here to be able to override the default hidden behavior on the sphinx rendered scikit-learn.org. See: https://github.com/scikit-learn/scikit-learn/issues/21755 */display: inline-block !important;position: relative;}#sk-container-id-1 div.sk-text-repr-fallback {display: none;}</style><div id=\"sk-container-id-1\" class=\"sk-top-container\"><div class=\"sk-text-repr-fallback\"><pre>LogisticRegression()</pre><b>In a Jupyter environment, please rerun this cell to show the HTML representation or trust the notebook. <br />On GitHub, the HTML representation is unable to render, please try loading this page with nbviewer.org.</b></div><div class=\"sk-container\" hidden><div class=\"sk-item\"><div class=\"sk-estimator sk-toggleable\"><input class=\"sk-toggleable__control sk-hidden--visually\" id=\"sk-estimator-id-1\" type=\"checkbox\" checked><label for=\"sk-estimator-id-1\" class=\"sk-toggleable__label sk-toggleable__label-arrow\">LogisticRegression</label><div class=\"sk-toggleable__content\"><pre>LogisticRegression()</pre></div></div></div></div></div>"
      ],
      "text/plain": [
       "LogisticRegression()"
      ]
     },
     "execution_count": 12,
     "metadata": {},
     "output_type": "execute_result"
    }
   ],
   "source": [
    "lgr.fit(X_train, Y_train)"
   ]
  },
  {
   "cell_type": "code",
   "execution_count": 13,
   "metadata": {},
   "outputs": [],
   "source": [
    "Y_predict_test = lgr.predict(X_test)\n",
    "Y_predict_train = lgr.predict(X_train)"
   ]
  },
  {
   "cell_type": "code",
   "execution_count": 14,
   "metadata": {},
   "outputs": [],
   "source": [
    "mae_test = mean_absolute_error(Y_test, Y_predict_test)\n",
    "r2_test = r2_score(Y_test, Y_predict_test)\n",
    "mae_train = mean_absolute_error(Y_train, Y_predict_train)\n",
    "r2_train = r2_score(Y_train, Y_predict_train)"
   ]
  },
  {
   "cell_type": "code",
   "execution_count": 15,
   "metadata": {},
   "outputs": [
    {
     "data": {
      "text/plain": [
       "1836571.3035168196"
      ]
     },
     "execution_count": 15,
     "metadata": {},
     "output_type": "execute_result"
    }
   ],
   "source": [
    "mae_test"
   ]
  },
  {
   "cell_type": "code",
   "execution_count": 16,
   "metadata": {},
   "outputs": [
    {
     "data": {
      "text/plain": [
       "-0.04384757246487592"
      ]
     },
     "execution_count": 16,
     "metadata": {},
     "output_type": "execute_result"
    }
   ],
   "source": [
    "r2_test"
   ]
  },
  {
   "cell_type": "markdown",
   "metadata": {},
   "source": [
    "## [DESAFIO 3] Criar um modelo baseline com as features originais."
   ]
  },
  {
   "cell_type": "code",
   "execution_count": 17,
   "metadata": {},
   "outputs": [],
   "source": [
    "X = dados_vendas_censo[['Metragem', 'Quartos', 'Banheiros', 'Vagas']]\n",
    "\n",
    "Y = dados_vendas_censo[\"Valor_anuncio\"]\n",
    "\n",
    "X_train, X_test, Y_train, Y_test = train_test_split(X, Y, test_size = 0.25, random_state = 54)\n",
    "lr.fit(X_train, Y_train)\n",
    "Y_predict_test = lr.predict(X_test)\n",
    "Y_predict_train = lr.predict(X_train)\n",
    "mae_test_baseline = mean_absolute_error(Y_test, Y_predict_test)\n",
    "r2_test_baseline = r2_score(Y_test, Y_predict_test)\n",
    "mae_train_baseline = mean_absolute_error(Y_train, Y_predict_train)\n",
    "r2_train_baseline = r2_score(Y_train, Y_predict_train)"
   ]
  },
  {
   "cell_type": "code",
   "execution_count": 18,
   "metadata": {},
   "outputs": [
    {
     "data": {
      "text/plain": [
       "1214463.6802327184"
      ]
     },
     "execution_count": 18,
     "metadata": {},
     "output_type": "execute_result"
    }
   ],
   "source": [
    "mae_test_baseline"
   ]
  },
  {
   "cell_type": "code",
   "execution_count": 19,
   "metadata": {},
   "outputs": [
    {
     "data": {
      "text/plain": [
       "1223015.1040529988"
      ]
     },
     "execution_count": 19,
     "metadata": {},
     "output_type": "execute_result"
    }
   ],
   "source": [
    "mae_train_baseline"
   ]
  },
  {
   "cell_type": "code",
   "execution_count": 20,
   "metadata": {},
   "outputs": [
    {
     "data": {
      "text/plain": [
       "0.39448416861344693"
      ]
     },
     "execution_count": 20,
     "metadata": {},
     "output_type": "execute_result"
    }
   ],
   "source": [
    "r2_test_baseline"
   ]
  },
  {
   "cell_type": "code",
   "execution_count": 21,
   "metadata": {},
   "outputs": [
    {
     "data": {
      "text/plain": [
       "0.35784811166083275"
      ]
     },
     "execution_count": 21,
     "metadata": {},
     "output_type": "execute_result"
    }
   ],
   "source": [
    "r2_train_baseline"
   ]
  },
  {
   "cell_type": "markdown",
   "metadata": {},
   "source": [
    "## [DESAFIO 4] Trabalhar um pouco mais nos dados e criar novas variáveis."
   ]
  },
  {
   "cell_type": "markdown",
   "metadata": {},
   "source": [
    "- Criar variáveis novas\n",
    "- Tratar outliers\n",
    "- Valores nulos"
   ]
  },
  {
   "cell_type": "code",
   "execution_count": 28,
   "metadata": {},
   "outputs": [
    {
     "data": {
      "text/html": [
       "<div>\n",
       "<style scoped>\n",
       "    .dataframe tbody tr th:only-of-type {\n",
       "        vertical-align: middle;\n",
       "    }\n",
       "\n",
       "    .dataframe tbody tr th {\n",
       "        vertical-align: top;\n",
       "    }\n",
       "\n",
       "    .dataframe thead th {\n",
       "        text-align: right;\n",
       "    }\n",
       "</style>\n",
       "<table border=\"1\" class=\"dataframe\">\n",
       "  <thead>\n",
       "    <tr style=\"text-align: right;\">\n",
       "      <th></th>\n",
       "      <th>Rua</th>\n",
       "      <th>Bairro</th>\n",
       "      <th>Cidade</th>\n",
       "      <th>Metragem</th>\n",
       "      <th>Quartos</th>\n",
       "      <th>Banheiros</th>\n",
       "      <th>Vagas</th>\n",
       "      <th>Valor</th>\n",
       "      <th>Valor_anuncio</th>\n",
       "      <th>Valor_mm</th>\n",
       "      <th>...</th>\n",
       "      <th>V003</th>\n",
       "      <th>V004</th>\n",
       "      <th>V005</th>\n",
       "      <th>V006</th>\n",
       "      <th>V007</th>\n",
       "      <th>V008</th>\n",
       "      <th>V009</th>\n",
       "      <th>V010</th>\n",
       "      <th>V011</th>\n",
       "      <th>V012</th>\n",
       "    </tr>\n",
       "  </thead>\n",
       "  <tbody>\n",
       "    <tr>\n",
       "      <th>0</th>\n",
       "      <td>Rua Alba Valdez</td>\n",
       "      <td>Jardim Reimberg</td>\n",
       "      <td>São Paulo</td>\n",
       "      <td>125</td>\n",
       "      <td>4</td>\n",
       "      <td>3</td>\n",
       "      <td>2</td>\n",
       "      <td>R$ 380.000</td>\n",
       "      <td>380000.00</td>\n",
       "      <td>0.38</td>\n",
       "      <td>...</td>\n",
       "      <td>3.47</td>\n",
       "      <td>3.06</td>\n",
       "      <td>805.13</td>\n",
       "      <td>769188.78</td>\n",
       "      <td>1011.75</td>\n",
       "      <td>757433.42</td>\n",
       "      <td>518.77</td>\n",
       "      <td>426672.78</td>\n",
       "      <td>858.51</td>\n",
       "      <td>414378.88</td>\n",
       "    </tr>\n",
       "    <tr>\n",
       "      <th>1</th>\n",
       "      <td>Rua Tobias Barreto, 195</td>\n",
       "      <td>Mooca</td>\n",
       "      <td>São Paulo</td>\n",
       "      <td>100</td>\n",
       "      <td>3</td>\n",
       "      <td>2</td>\n",
       "      <td>2</td>\n",
       "      <td>R$ 540.000</td>\n",
       "      <td>540000.00</td>\n",
       "      <td>0.54</td>\n",
       "      <td>...</td>\n",
       "      <td>3.00</td>\n",
       "      <td>1.99</td>\n",
       "      <td>2338.05</td>\n",
       "      <td>7826370.15</td>\n",
       "      <td>2447.89</td>\n",
       "      <td>7925839.76</td>\n",
       "      <td>1543.29</td>\n",
       "      <td>4646566.16</td>\n",
       "      <td>1909.04</td>\n",
       "      <td>5050712.69</td>\n",
       "    </tr>\n",
       "    <tr>\n",
       "      <th>2</th>\n",
       "      <td>Rua Graham Bell</td>\n",
       "      <td>Santo Amaro</td>\n",
       "      <td>São Paulo</td>\n",
       "      <td>440</td>\n",
       "      <td>4</td>\n",
       "      <td>4</td>\n",
       "      <td>6</td>\n",
       "      <td>R$ 1.980.000</td>\n",
       "      <td>1980000.00</td>\n",
       "      <td>1.98</td>\n",
       "      <td>...</td>\n",
       "      <td>3.51</td>\n",
       "      <td>2.31</td>\n",
       "      <td>1026.36</td>\n",
       "      <td>272168.67</td>\n",
       "      <td>1143.96</td>\n",
       "      <td>167733.64</td>\n",
       "      <td>735.67</td>\n",
       "      <td>367088.08</td>\n",
       "      <td>1086.94</td>\n",
       "      <td>159622.46</td>\n",
       "    </tr>\n",
       "    <tr>\n",
       "      <th>3</th>\n",
       "      <td>Rua Francisco Paulo, 31</td>\n",
       "      <td>Cidade Mãe do Céu</td>\n",
       "      <td>São Paulo</td>\n",
       "      <td>145</td>\n",
       "      <td>4</td>\n",
       "      <td>4</td>\n",
       "      <td>2</td>\n",
       "      <td>R$ 850.000</td>\n",
       "      <td>850000.00</td>\n",
       "      <td>0.85</td>\n",
       "      <td>...</td>\n",
       "      <td>2.95</td>\n",
       "      <td>2.18</td>\n",
       "      <td>1580.84</td>\n",
       "      <td>4440789.58</td>\n",
       "      <td>1897.01</td>\n",
       "      <td>4730743.23</td>\n",
       "      <td>1284.45</td>\n",
       "      <td>2578384.56</td>\n",
       "      <td>1743.39</td>\n",
       "      <td>2699812.75</td>\n",
       "    </tr>\n",
       "    <tr>\n",
       "      <th>4</th>\n",
       "      <td>Rua Guilherme Valente, 150</td>\n",
       "      <td>Jardim Vergueiro</td>\n",
       "      <td>São Paulo</td>\n",
       "      <td>150</td>\n",
       "      <td>2</td>\n",
       "      <td>2</td>\n",
       "      <td>2</td>\n",
       "      <td>R$ 450.000</td>\n",
       "      <td>450000.00</td>\n",
       "      <td>0.45</td>\n",
       "      <td>...</td>\n",
       "      <td>3.23</td>\n",
       "      <td>2.13</td>\n",
       "      <td>1613.93</td>\n",
       "      <td>33332390.49</td>\n",
       "      <td>1721.15</td>\n",
       "      <td>35369361.97</td>\n",
       "      <td>880.61</td>\n",
       "      <td>12700171.03</td>\n",
       "      <td>1333.63</td>\n",
       "      <td>18640212.36</td>\n",
       "    </tr>\n",
       "  </tbody>\n",
       "</table>\n",
       "<p>5 rows × 50 columns</p>\n",
       "</div>"
      ],
      "text/plain": [
       "                           Rua             Bairro     Cidade  Metragem  \\\n",
       "0              Rua Alba Valdez    Jardim Reimberg  São Paulo       125   \n",
       "1     Rua Tobias Barreto, 195               Mooca  São Paulo       100   \n",
       "2              Rua Graham Bell        Santo Amaro  São Paulo       440   \n",
       "3     Rua Francisco Paulo, 31   Cidade Mãe do Céu  São Paulo       145   \n",
       "4  Rua Guilherme Valente, 150    Jardim Vergueiro  São Paulo       150   \n",
       "\n",
       "   Quartos  Banheiros  Vagas         Valor  Valor_anuncio  Valor_mm  ...  \\\n",
       "0        4          3      2    R$ 380.000      380000.00      0.38  ...   \n",
       "1        3          2      2    R$ 540.000      540000.00      0.54  ...   \n",
       "2        4          4      6  R$ 1.980.000     1980000.00      1.98  ...   \n",
       "3        4          4      2    R$ 850.000      850000.00      0.85  ...   \n",
       "4        2          2      2    R$ 450.000      450000.00      0.45  ...   \n",
       "\n",
       "   V003 V004    V005        V006    V007        V008    V009        V010  \\\n",
       "0  3.47 3.06  805.13   769188.78 1011.75   757433.42  518.77   426672.78   \n",
       "1  3.00 1.99 2338.05  7826370.15 2447.89  7925839.76 1543.29  4646566.16   \n",
       "2  3.51 2.31 1026.36   272168.67 1143.96   167733.64  735.67   367088.08   \n",
       "3  2.95 2.18 1580.84  4440789.58 1897.01  4730743.23 1284.45  2578384.56   \n",
       "4  3.23 2.13 1613.93 33332390.49 1721.15 35369361.97  880.61 12700171.03   \n",
       "\n",
       "     V011        V012  \n",
       "0  858.51   414378.88  \n",
       "1 1909.04  5050712.69  \n",
       "2 1086.94   159622.46  \n",
       "3 1743.39  2699812.75  \n",
       "4 1333.63 18640212.36  \n",
       "\n",
       "[5 rows x 50 columns]"
      ]
     },
     "execution_count": 28,
     "metadata": {},
     "output_type": "execute_result"
    }
   ],
   "source": [
    "# Importando dados tratados por mim no último desafio da Aula 04\n",
    "dados_vendas_censo_tratado = pd.read_csv( '../assets/dados_vendas_censo_tratado.csv', index_col=0 )\n",
    "dados_vendas_censo_tratado.reset_index( drop=True, inplace=True )\n",
    "dados_vendas_censo_tratado.head()"
   ]
  },
  {
   "cell_type": "code",
   "execution_count": 33,
   "metadata": {},
   "outputs": [],
   "source": [
    "dados_vendas_censo_tratado.dropna( inplace=True )"
   ]
  },
  {
   "cell_type": "markdown",
   "metadata": {},
   "source": [
    "Realizando Feature Engineering: Criando novas Features (variáveis)"
   ]
  },
  {
   "cell_type": "code",
   "execution_count": 29,
   "metadata": {},
   "outputs": [],
   "source": [
    "dados_vendas_censo_tratado['taxa_ocupacao'] = dados_vendas_censo_tratado['V003']/dados_vendas_censo_tratado['Quartos']"
   ]
  },
  {
   "cell_type": "code",
   "execution_count": 49,
   "metadata": {},
   "outputs": [],
   "source": [
    "# Criando e Treinando modelo em cima dos dados tratados\n",
    "X = dados_vendas_censo_tratado[['Metragem', 'Quartos', 'Banheiros', 'Vagas','taxa_ocupacao', 'latitude', 'longitude', 'V005','V007', 'V009', 'V011']]\n",
    "Y = dados_vendas_censo_tratado[\"Valor_anuncio\"]\n",
    "\n",
    "X_train, X_test, Y_train, Y_test = train_test_split(X, Y, test_size = 0.25, random_state = 54)"
   ]
  },
  {
   "cell_type": "code",
   "execution_count": 50,
   "metadata": {},
   "outputs": [
    {
     "data": {
      "text/html": [
       "<style>#sk-container-id-5 {color: black;background-color: white;}#sk-container-id-5 pre{padding: 0;}#sk-container-id-5 div.sk-toggleable {background-color: white;}#sk-container-id-5 label.sk-toggleable__label {cursor: pointer;display: block;width: 100%;margin-bottom: 0;padding: 0.3em;box-sizing: border-box;text-align: center;}#sk-container-id-5 label.sk-toggleable__label-arrow:before {content: \"▸\";float: left;margin-right: 0.25em;color: #696969;}#sk-container-id-5 label.sk-toggleable__label-arrow:hover:before {color: black;}#sk-container-id-5 div.sk-estimator:hover label.sk-toggleable__label-arrow:before {color: black;}#sk-container-id-5 div.sk-toggleable__content {max-height: 0;max-width: 0;overflow: hidden;text-align: left;background-color: #f0f8ff;}#sk-container-id-5 div.sk-toggleable__content pre {margin: 0.2em;color: black;border-radius: 0.25em;background-color: #f0f8ff;}#sk-container-id-5 input.sk-toggleable__control:checked~div.sk-toggleable__content {max-height: 200px;max-width: 100%;overflow: auto;}#sk-container-id-5 input.sk-toggleable__control:checked~label.sk-toggleable__label-arrow:before {content: \"▾\";}#sk-container-id-5 div.sk-estimator input.sk-toggleable__control:checked~label.sk-toggleable__label {background-color: #d4ebff;}#sk-container-id-5 div.sk-label input.sk-toggleable__control:checked~label.sk-toggleable__label {background-color: #d4ebff;}#sk-container-id-5 input.sk-hidden--visually {border: 0;clip: rect(1px 1px 1px 1px);clip: rect(1px, 1px, 1px, 1px);height: 1px;margin: -1px;overflow: hidden;padding: 0;position: absolute;width: 1px;}#sk-container-id-5 div.sk-estimator {font-family: monospace;background-color: #f0f8ff;border: 1px dotted black;border-radius: 0.25em;box-sizing: border-box;margin-bottom: 0.5em;}#sk-container-id-5 div.sk-estimator:hover {background-color: #d4ebff;}#sk-container-id-5 div.sk-parallel-item::after {content: \"\";width: 100%;border-bottom: 1px solid gray;flex-grow: 1;}#sk-container-id-5 div.sk-label:hover label.sk-toggleable__label {background-color: #d4ebff;}#sk-container-id-5 div.sk-serial::before {content: \"\";position: absolute;border-left: 1px solid gray;box-sizing: border-box;top: 0;bottom: 0;left: 50%;z-index: 0;}#sk-container-id-5 div.sk-serial {display: flex;flex-direction: column;align-items: center;background-color: white;padding-right: 0.2em;padding-left: 0.2em;position: relative;}#sk-container-id-5 div.sk-item {position: relative;z-index: 1;}#sk-container-id-5 div.sk-parallel {display: flex;align-items: stretch;justify-content: center;background-color: white;position: relative;}#sk-container-id-5 div.sk-item::before, #sk-container-id-5 div.sk-parallel-item::before {content: \"\";position: absolute;border-left: 1px solid gray;box-sizing: border-box;top: 0;bottom: 0;left: 50%;z-index: -1;}#sk-container-id-5 div.sk-parallel-item {display: flex;flex-direction: column;z-index: 1;position: relative;background-color: white;}#sk-container-id-5 div.sk-parallel-item:first-child::after {align-self: flex-end;width: 50%;}#sk-container-id-5 div.sk-parallel-item:last-child::after {align-self: flex-start;width: 50%;}#sk-container-id-5 div.sk-parallel-item:only-child::after {width: 0;}#sk-container-id-5 div.sk-dashed-wrapped {border: 1px dashed gray;margin: 0 0.4em 0.5em 0.4em;box-sizing: border-box;padding-bottom: 0.4em;background-color: white;}#sk-container-id-5 div.sk-label label {font-family: monospace;font-weight: bold;display: inline-block;line-height: 1.2em;}#sk-container-id-5 div.sk-label-container {text-align: center;}#sk-container-id-5 div.sk-container {/* jupyter's `normalize.less` sets `[hidden] { display: none; }` but bootstrap.min.css set `[hidden] { display: none !important; }` so we also need the `!important` here to be able to override the default hidden behavior on the sphinx rendered scikit-learn.org. See: https://github.com/scikit-learn/scikit-learn/issues/21755 */display: inline-block !important;position: relative;}#sk-container-id-5 div.sk-text-repr-fallback {display: none;}</style><div id=\"sk-container-id-5\" class=\"sk-top-container\"><div class=\"sk-text-repr-fallback\"><pre>LinearRegression()</pre><b>In a Jupyter environment, please rerun this cell to show the HTML representation or trust the notebook. <br />On GitHub, the HTML representation is unable to render, please try loading this page with nbviewer.org.</b></div><div class=\"sk-container\" hidden><div class=\"sk-item\"><div class=\"sk-estimator sk-toggleable\"><input class=\"sk-toggleable__control sk-hidden--visually\" id=\"sk-estimator-id-5\" type=\"checkbox\" checked><label for=\"sk-estimator-id-5\" class=\"sk-toggleable__label sk-toggleable__label-arrow\">LinearRegression</label><div class=\"sk-toggleable__content\"><pre>LinearRegression()</pre></div></div></div></div></div>"
      ],
      "text/plain": [
       "LinearRegression()"
      ]
     },
     "execution_count": 50,
     "metadata": {},
     "output_type": "execute_result"
    }
   ],
   "source": [
    "lr.fit(X_train, Y_train)"
   ]
  },
  {
   "cell_type": "code",
   "execution_count": 51,
   "metadata": {},
   "outputs": [],
   "source": [
    "Y_predict_test = lr.predict(X_test)\n",
    "Y_predict_train = lr.predict(X_train)"
   ]
  },
  {
   "cell_type": "code",
   "execution_count": 55,
   "metadata": {},
   "outputs": [
    {
     "data": {
      "text/html": [
       "<div>\n",
       "<style scoped>\n",
       "    .dataframe tbody tr th:only-of-type {\n",
       "        vertical-align: middle;\n",
       "    }\n",
       "\n",
       "    .dataframe tbody tr th {\n",
       "        vertical-align: top;\n",
       "    }\n",
       "\n",
       "    .dataframe thead th {\n",
       "        text-align: right;\n",
       "    }\n",
       "</style>\n",
       "<table border=\"1\" class=\"dataframe\">\n",
       "  <thead>\n",
       "    <tr style=\"text-align: right;\">\n",
       "      <th></th>\n",
       "      <th>Metragem</th>\n",
       "      <th>Quartos</th>\n",
       "      <th>Banheiros</th>\n",
       "      <th>Vagas</th>\n",
       "      <th>taxa_ocupacao</th>\n",
       "      <th>latitude</th>\n",
       "      <th>longitude</th>\n",
       "      <th>V005</th>\n",
       "      <th>V007</th>\n",
       "      <th>V009</th>\n",
       "      <th>V011</th>\n",
       "    </tr>\n",
       "  </thead>\n",
       "  <tbody>\n",
       "    <tr>\n",
       "      <th>2569</th>\n",
       "      <td>218</td>\n",
       "      <td>3</td>\n",
       "      <td>2</td>\n",
       "      <td>2</td>\n",
       "      <td>1.05</td>\n",
       "      <td>-23.46</td>\n",
       "      <td>-46.59</td>\n",
       "      <td>2176.51</td>\n",
       "      <td>2336.41</td>\n",
       "      <td>1299.05</td>\n",
       "      <td>1778.15</td>\n",
       "    </tr>\n",
       "    <tr>\n",
       "      <th>1168</th>\n",
       "      <td>265</td>\n",
       "      <td>4</td>\n",
       "      <td>3</td>\n",
       "      <td>2</td>\n",
       "      <td>0.76</td>\n",
       "      <td>-23.58</td>\n",
       "      <td>-46.63</td>\n",
       "      <td>3765.53</td>\n",
       "      <td>4425.46</td>\n",
       "      <td>1981.64</td>\n",
       "      <td>3416.98</td>\n",
       "    </tr>\n",
       "    <tr>\n",
       "      <th>910</th>\n",
       "      <td>167</td>\n",
       "      <td>4</td>\n",
       "      <td>5</td>\n",
       "      <td>3</td>\n",
       "      <td>0.65</td>\n",
       "      <td>-23.58</td>\n",
       "      <td>-46.73</td>\n",
       "      <td>3612.38</td>\n",
       "      <td>4249.86</td>\n",
       "      <td>2944.31</td>\n",
       "      <td>3768.23</td>\n",
       "    </tr>\n",
       "    <tr>\n",
       "      <th>1244</th>\n",
       "      <td>242</td>\n",
       "      <td>4</td>\n",
       "      <td>4</td>\n",
       "      <td>3</td>\n",
       "      <td>0.72</td>\n",
       "      <td>-23.58</td>\n",
       "      <td>-46.62</td>\n",
       "      <td>4241.01</td>\n",
       "      <td>4463.32</td>\n",
       "      <td>2402.88</td>\n",
       "      <td>3215.88</td>\n",
       "    </tr>\n",
       "    <tr>\n",
       "      <th>43</th>\n",
       "      <td>150</td>\n",
       "      <td>4</td>\n",
       "      <td>1</td>\n",
       "      <td>5</td>\n",
       "      <td>0.83</td>\n",
       "      <td>-23.52</td>\n",
       "      <td>-46.51</td>\n",
       "      <td>1461.17</td>\n",
       "      <td>1600.72</td>\n",
       "      <td>882.07</td>\n",
       "      <td>1381.17</td>\n",
       "    </tr>\n",
       "    <tr>\n",
       "      <th>...</th>\n",
       "      <td>...</td>\n",
       "      <td>...</td>\n",
       "      <td>...</td>\n",
       "      <td>...</td>\n",
       "      <td>...</td>\n",
       "      <td>...</td>\n",
       "      <td>...</td>\n",
       "      <td>...</td>\n",
       "      <td>...</td>\n",
       "      <td>...</td>\n",
       "      <td>...</td>\n",
       "    </tr>\n",
       "    <tr>\n",
       "      <th>1102</th>\n",
       "      <td>128</td>\n",
       "      <td>3</td>\n",
       "      <td>3</td>\n",
       "      <td>2</td>\n",
       "      <td>0.99</td>\n",
       "      <td>-23.57</td>\n",
       "      <td>-46.63</td>\n",
       "      <td>2371.82</td>\n",
       "      <td>3224.61</td>\n",
       "      <td>1634.13</td>\n",
       "      <td>2418.22</td>\n",
       "    </tr>\n",
       "    <tr>\n",
       "      <th>2267</th>\n",
       "      <td>253</td>\n",
       "      <td>3</td>\n",
       "      <td>4</td>\n",
       "      <td>6</td>\n",
       "      <td>1.22</td>\n",
       "      <td>-23.71</td>\n",
       "      <td>-46.71</td>\n",
       "      <td>5482.82</td>\n",
       "      <td>5858.36</td>\n",
       "      <td>3016.31</td>\n",
       "      <td>4173.92</td>\n",
       "    </tr>\n",
       "    <tr>\n",
       "      <th>675</th>\n",
       "      <td>140</td>\n",
       "      <td>4</td>\n",
       "      <td>3</td>\n",
       "      <td>2</td>\n",
       "      <td>0.72</td>\n",
       "      <td>-23.53</td>\n",
       "      <td>-46.72</td>\n",
       "      <td>4403.60</td>\n",
       "      <td>4681.99</td>\n",
       "      <td>2378.03</td>\n",
       "      <td>3511.97</td>\n",
       "    </tr>\n",
       "    <tr>\n",
       "      <th>937</th>\n",
       "      <td>186</td>\n",
       "      <td>2</td>\n",
       "      <td>2</td>\n",
       "      <td>3</td>\n",
       "      <td>1.39</td>\n",
       "      <td>-23.58</td>\n",
       "      <td>-46.62</td>\n",
       "      <td>2755.58</td>\n",
       "      <td>2999.75</td>\n",
       "      <td>1761.90</td>\n",
       "      <td>2479.28</td>\n",
       "    </tr>\n",
       "    <tr>\n",
       "      <th>638</th>\n",
       "      <td>200</td>\n",
       "      <td>4</td>\n",
       "      <td>5</td>\n",
       "      <td>1</td>\n",
       "      <td>0.65</td>\n",
       "      <td>-23.61</td>\n",
       "      <td>-46.66</td>\n",
       "      <td>3505.82</td>\n",
       "      <td>3795.96</td>\n",
       "      <td>2185.48</td>\n",
       "      <td>2904.10</td>\n",
       "    </tr>\n",
       "  </tbody>\n",
       "</table>\n",
       "<p>645 rows × 11 columns</p>\n",
       "</div>"
      ],
      "text/plain": [
       "      Metragem  Quartos  Banheiros  Vagas  taxa_ocupacao  latitude  longitude  \\\n",
       "2569       218        3          2      2           1.05    -23.46     -46.59   \n",
       "1168       265        4          3      2           0.76    -23.58     -46.63   \n",
       "910        167        4          5      3           0.65    -23.58     -46.73   \n",
       "1244       242        4          4      3           0.72    -23.58     -46.62   \n",
       "43         150        4          1      5           0.83    -23.52     -46.51   \n",
       "...        ...      ...        ...    ...            ...       ...        ...   \n",
       "1102       128        3          3      2           0.99    -23.57     -46.63   \n",
       "2267       253        3          4      6           1.22    -23.71     -46.71   \n",
       "675        140        4          3      2           0.72    -23.53     -46.72   \n",
       "937        186        2          2      3           1.39    -23.58     -46.62   \n",
       "638        200        4          5      1           0.65    -23.61     -46.66   \n",
       "\n",
       "        V005    V007    V009    V011  \n",
       "2569 2176.51 2336.41 1299.05 1778.15  \n",
       "1168 3765.53 4425.46 1981.64 3416.98  \n",
       "910  3612.38 4249.86 2944.31 3768.23  \n",
       "1244 4241.01 4463.32 2402.88 3215.88  \n",
       "43   1461.17 1600.72  882.07 1381.17  \n",
       "...      ...     ...     ...     ...  \n",
       "1102 2371.82 3224.61 1634.13 2418.22  \n",
       "2267 5482.82 5858.36 3016.31 4173.92  \n",
       "675  4403.60 4681.99 2378.03 3511.97  \n",
       "937  2755.58 2999.75 1761.90 2479.28  \n",
       "638  3505.82 3795.96 2185.48 2904.10  \n",
       "\n",
       "[645 rows x 11 columns]"
      ]
     },
     "execution_count": 55,
     "metadata": {},
     "output_type": "execute_result"
    }
   ],
   "source": [
    "X_test"
   ]
  },
  {
   "cell_type": "code",
   "execution_count": 52,
   "metadata": {},
   "outputs": [],
   "source": [
    "mae_test_tratado = mean_absolute_error(Y_test, Y_predict_test)\n",
    "r2_test_tratado = r2_score(Y_test, Y_predict_test)\n",
    "mae_train_tratado = mean_absolute_error(Y_train, Y_predict_train)\n",
    "r2_train_tratado = r2_score(Y_train, Y_predict_train)"
   ]
  },
  {
   "cell_type": "code",
   "execution_count": 53,
   "metadata": {},
   "outputs": [
    {
     "data": {
      "text/plain": [
       "308438.87430878007"
      ]
     },
     "execution_count": 53,
     "metadata": {},
     "output_type": "execute_result"
    }
   ],
   "source": [
    "mae_test_tratado"
   ]
  },
  {
   "cell_type": "code",
   "execution_count": 54,
   "metadata": {},
   "outputs": [
    {
     "data": {
      "text/plain": [
       "0.597367961106138"
      ]
     },
     "execution_count": 54,
     "metadata": {},
     "output_type": "execute_result"
    }
   ],
   "source": [
    "r2_test_tratado"
   ]
  },
  {
   "cell_type": "markdown",
   "metadata": {},
   "source": [
    "## [DESAFIO 5] Testar as predições para casos reais. "
   ]
  },
  {
   "cell_type": "code",
   "execution_count": 69,
   "metadata": {},
   "outputs": [
    {
     "data": {
      "text/html": [
       "<div>\n",
       "<style scoped>\n",
       "    .dataframe tbody tr th:only-of-type {\n",
       "        vertical-align: middle;\n",
       "    }\n",
       "\n",
       "    .dataframe tbody tr th {\n",
       "        vertical-align: top;\n",
       "    }\n",
       "\n",
       "    .dataframe thead th {\n",
       "        text-align: right;\n",
       "    }\n",
       "</style>\n",
       "<table border=\"1\" class=\"dataframe\">\n",
       "  <thead>\n",
       "    <tr style=\"text-align: right;\">\n",
       "      <th></th>\n",
       "      <th>Metragem</th>\n",
       "      <th>Quartos</th>\n",
       "      <th>Banheiros</th>\n",
       "      <th>Vagas</th>\n",
       "      <th>taxa_ocupacao</th>\n",
       "      <th>latitude</th>\n",
       "      <th>longitude</th>\n",
       "      <th>V005</th>\n",
       "      <th>V007</th>\n",
       "      <th>V009</th>\n",
       "      <th>V011</th>\n",
       "    </tr>\n",
       "  </thead>\n",
       "  <tbody>\n",
       "    <tr>\n",
       "      <th>0</th>\n",
       "      <td>220</td>\n",
       "      <td>4</td>\n",
       "      <td>4</td>\n",
       "      <td>3</td>\n",
       "      <td>1.12</td>\n",
       "      <td>-23.62</td>\n",
       "      <td>-46.65</td>\n",
       "      <td>5651.91</td>\n",
       "      <td>7632.99</td>\n",
       "      <td>3257.62</td>\n",
       "      <td>5739.61</td>\n",
       "    </tr>\n",
       "    <tr>\n",
       "      <th>1</th>\n",
       "      <td>50</td>\n",
       "      <td>2</td>\n",
       "      <td>1</td>\n",
       "      <td>1</td>\n",
       "      <td>0.83</td>\n",
       "      <td>-23.59</td>\n",
       "      <td>-46.60</td>\n",
       "      <td>2373.48</td>\n",
       "      <td>2720.17</td>\n",
       "      <td>1875.93</td>\n",
       "      <td>2365.08</td>\n",
       "    </tr>\n",
       "    <tr>\n",
       "      <th>2</th>\n",
       "      <td>150</td>\n",
       "      <td>4</td>\n",
       "      <td>3</td>\n",
       "      <td>2</td>\n",
       "      <td>0.64</td>\n",
       "      <td>-23.64</td>\n",
       "      <td>-46.67</td>\n",
       "      <td>7785.40</td>\n",
       "      <td>8047.09</td>\n",
       "      <td>4047.74</td>\n",
       "      <td>5392.17</td>\n",
       "    </tr>\n",
       "    <tr>\n",
       "      <th>3</th>\n",
       "      <td>64</td>\n",
       "      <td>2</td>\n",
       "      <td>1</td>\n",
       "      <td>2</td>\n",
       "      <td>1.27</td>\n",
       "      <td>-23.51</td>\n",
       "      <td>-46.76</td>\n",
       "      <td>3466.46</td>\n",
       "      <td>3619.16</td>\n",
       "      <td>2343.68</td>\n",
       "      <td>3093.66</td>\n",
       "    </tr>\n",
       "    <tr>\n",
       "      <th>4</th>\n",
       "      <td>74</td>\n",
       "      <td>4</td>\n",
       "      <td>3</td>\n",
       "      <td>2</td>\n",
       "      <td>1.00</td>\n",
       "      <td>-23.66</td>\n",
       "      <td>-46.69</td>\n",
       "      <td>1079.17</td>\n",
       "      <td>1410.28</td>\n",
       "      <td>1037.95</td>\n",
       "      <td>1475.47</td>\n",
       "    </tr>\n",
       "  </tbody>\n",
       "</table>\n",
       "</div>"
      ],
      "text/plain": [
       "   Metragem  Quartos  Banheiros  Vagas  taxa_ocupacao  latitude  longitude  \\\n",
       "0       220        4          4      3           1.12    -23.62     -46.65   \n",
       "1        50        2          1      1           0.83    -23.59     -46.60   \n",
       "2       150        4          3      2           0.64    -23.64     -46.67   \n",
       "3        64        2          1      2           1.27    -23.51     -46.76   \n",
       "4        74        4          3      2           1.00    -23.66     -46.69   \n",
       "\n",
       "     V005    V007    V009    V011  \n",
       "0 5651.91 7632.99 3257.62 5739.61  \n",
       "1 2373.48 2720.17 1875.93 2365.08  \n",
       "2 7785.40 8047.09 4047.74 5392.17  \n",
       "3 3466.46 3619.16 2343.68 3093.66  \n",
       "4 1079.17 1410.28 1037.95 1475.47  "
      ]
     },
     "execution_count": 69,
     "metadata": {},
     "output_type": "execute_result"
    }
   ],
   "source": [
    "dict_dados_reais = {\n",
    "    'Metragem': [220, 50, 150, 64, 74],\n",
    "    'Quartos': [4, 2, 4, 2, 4],\n",
    "    'Banheiros': [4, 1, 3, 1, 3],\n",
    "    'Vagas': [3, 1, 2, 2, 2],\n",
    "    'taxa_ocupacao': [1.12, 0.83, 0.64, 1.27, 1],\n",
    "    'latitude': [-23.62, -23.59, -23.64, -23.51, -23.66],\n",
    "    'longitude': [-46.65,-46.60,-46.67,-46.76,-46.69],\n",
    "    'V005': [5651.91, 2373.48, 7785.40, 3466.46, 1079.17],\n",
    "    'V007': [7632.99, 2720.17, 8047.09, 3619.16, 1410.28],\n",
    "    'V009': [3257.62, 1875.93, 4047.74, 2343.68, 1037.95],\n",
    "    'V011': [5739.61, 2365.08, 5392.17, 3093.66, 1475.47],\n",
    "}\n",
    "\n",
    "valores_reais = [1300000, 298500, 699000, 320000, 700000]\n",
    "\n",
    "dados_reais = pd.DataFrame( dict_dados_reais )\n",
    "dados_reais.head()"
   ]
  },
  {
   "cell_type": "code",
   "execution_count": 70,
   "metadata": {},
   "outputs": [],
   "source": [
    "Y_predict_test = lr.predict( dados_reais )"
   ]
  },
  {
   "cell_type": "code",
   "execution_count": 71,
   "metadata": {},
   "outputs": [
    {
     "data": {
      "text/plain": [
       "array([1739568.15122825,  422605.80171868, 1468167.6196677 ,\n",
       "        559285.24844005,  338693.77459023])"
      ]
     },
     "execution_count": 71,
     "metadata": {},
     "output_type": "execute_result"
    }
   ],
   "source": [
    "# Valores Preditos\n",
    "Y_predict_test"
   ]
  },
  {
   "cell_type": "code",
   "execution_count": 72,
   "metadata": {},
   "outputs": [
    {
     "data": {
      "text/plain": [
       "[1300000, 298500, 699000, 320000, 700000]"
      ]
     },
     "execution_count": 72,
     "metadata": {},
     "output_type": "execute_result"
    }
   ],
   "source": [
    "# Valores reais\n",
    "valores_reais"
   ]
  },
  {
   "cell_type": "markdown",
   "metadata": {},
   "source": [
    "## [DESAFIO 6] Criar um projeto com os resultados da imersão. Postar nas redes sociais mostrando o trabalho realizado. "
   ]
  },
  {
   "cell_type": "code",
   "execution_count": 48,
   "metadata": {},
   "outputs": [
    {
     "name": "stdout",
     "output_type": "stream",
     "text": [
      "Feito!!!\n"
     ]
    }
   ],
   "source": [
    "print( 'Feito!!!' )"
   ]
  }
 ],
 "metadata": {
  "interpreter": {
   "hash": "5a565e8623b8526f269006af87b2f1d2db4f0298de2bc03cd880e997e0f4b652"
  },
  "kernelspec": {
   "display_name": "Python 3.10.4 ('imersao_dados_04')",
   "language": "python",
   "name": "python3"
  },
  "language_info": {
   "codemirror_mode": {
    "name": "ipython",
    "version": 3
   },
   "file_extension": ".py",
   "mimetype": "text/x-python",
   "name": "python",
   "nbconvert_exporter": "python",
   "pygments_lexer": "ipython3",
   "version": "3.10.4"
  },
  "orig_nbformat": 4
 },
 "nbformat": 4,
 "nbformat_minor": 2
}
